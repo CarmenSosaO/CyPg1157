{
  "nbformat": 4,
  "nbformat_minor": 0,
  "metadata": {
    "colab": {
      "name": "PROBLEMA 12.ipynb",
      "provenance": [],
      "authorship_tag": "ABX9TyPygmzq1ivcNvj8uQYaZsS3",
      "include_colab_link": true
    },
    "kernelspec": {
      "name": "python3",
      "display_name": "Python 3"
    },
    "language_info": {
      "name": "python"
    }
  },
  "cells": [
    {
      "cell_type": "markdown",
      "metadata": {
        "id": "view-in-github",
        "colab_type": "text"
      },
      "source": [
        "<a href=\"https://colab.research.google.com/github/CarmenSosaO/CyPg1157/blob/main/PROBLEMA_12.ipynb\" target=\"_parent\"><img src=\"https://colab.research.google.com/assets/colab-badge.svg\" alt=\"Open In Colab\"/></a>"
      ]
    },
    {
      "cell_type": "code",
      "metadata": {
        "id": "XRkku9ZFNIGy"
      },
      "source": [
        ""
      ],
      "execution_count": null,
      "outputs": []
    },
    {
      "cell_type": "code",
      "metadata": {
        "id": "YSMHw59z5ESb"
      },
      "source": [
        "# PROBLEMA 2.12 PAG. 74\n",
        "\n",
        "A = int(input(\"Introduzca un número entero\"))\n",
        "B = int(input(\"Introduzca otro número entero\"))\n",
        "C = int(input(\"Introduzca otro número entero\"))\n",
        "\n",
        "if A==B or B==A or A == C or B == C:\n",
        "    print(\"Algunos números son iguales, escribir números distintos\")\n",
        "else:\n",
        "    if A > B:\n",
        "        if A>C:\n",
        "            if B>C:\n",
        "                print(f\"Los numeros en orden descendente son: {A}, {B}, {C}\")\n",
        "            else:\n",
        "                print(f\"Los numeros en orden descendente son: {A}, {C}, {B}\")\n",
        "        else:\n",
        "            print(f\"Los numeros en orden descendente son: {C}, {A}, {B}\")\n",
        "    else:\n",
        "        if B > C:\n",
        "            if A > C:\n",
        "                print(f\"Los numeros en orden descendente son: {B}, {A}, {C}\")\n",
        "            else:\n",
        "                print(f\"Los numeros en orden descendente son: {B}, {C}, {A}\")\n",
        "        else:\n",
        "            print(f\"Los numeros en orden descendente son: {C}, {B}, {A}\")\n",
        "    print(\"FIN DEL PROGRAMA\")\n",
        "\n",
        "\n"
      ],
      "execution_count": null,
      "outputs": []
    }
  ]
}