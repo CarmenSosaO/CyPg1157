{
  "nbformat": 4,
  "nbformat_minor": 0,
  "metadata": {
    "colab": {
      "name": "Untitled0.ipynb",
      "provenance": [],
      "authorship_tag": "ABX9TyPidbh5z452JuCzyMMT+oW3",
      "include_colab_link": true
    },
    "kernelspec": {
      "name": "python3",
      "display_name": "Python 3"
    },
    "language_info": {
      "name": "python"
    }
  },
  "cells": [
    {
      "cell_type": "markdown",
      "metadata": {
        "id": "view-in-github",
        "colab_type": "text"
      },
      "source": [
        "<a href=\"https://colab.research.google.com/github/CarmenSosaO/CyPg1157/blob/main/ejercicio.ipynb\" target=\"_parent\"><img src=\"https://colab.research.google.com/assets/colab-badge.svg\" alt=\"Open In Colab\"/></a>"
      ]
    },
    {
      "cell_type": "code",
      "metadata": {
        "id": "dvpODpg9CBmA"
      },
      "source": [
        "NUM1=int(input(\"Ingresa un número entero\"))\n",
        "NUM2=int(input(\"Ingresa un número entero\"))\n",
        "NUM3=int(input(\"Ingresa un número entero\"))\n",
        "NUM4=int(input(\"Ingresa un número entero\"))\n",
        "if NUM1 == NUM2 and NUM2 == NUM3 and NUM3 == NUM4:\n",
        "    print(\"No puede repetir el mismo número, ingrese números distintos\")\n",
        "else :\n",
        "    if NUM1 < NUM2 and NUM1 < NUM3 and NUM1 < NUM4 :\n",
        "        MENOR = NUM1\n",
        "    elif NUM2 < NUM1 and NUM2 < NUM3 and NUM2 < NUM4 :\n",
        "        MENOR = NUM2\n",
        "    elif NUM3 < NUM1 and NUM3 < NUM2 and NUM3 < NUM4 :\n",
        "        MENOR = NUM3\n",
        "    elif NUM4 < NUM1 and NUM4 < NUM2 and NUM4 < NUM3 :\n",
        "        MENOR = NUM4\n",
        "    elif NUM1 > NUM2 and NUM1 > NUM3 and NUM1 > NUM4 :\n",
        "        MAYOR = NUM1\n",
        "    elif NUM2 > NUM1 and NUM2 > NUM3 and NUM2 > NUM4 :\n",
        "        MAYOR = NUM2\n",
        "    elif NUM3 > NUM1 and NUM3 > NUM2 and NUM2 > NUM4 :\n",
        "        MAYOR = NUM3\n",
        "    elif NUM4 > NUM1 and NUM4 > NUM2 and NUM4 > NUM3 :\n",
        "        MAYOR = NUM4\n",
        "    print(f\"El número mayor es {MAYOR} y el número menor es {MENOR}\")"
      ],
      "execution_count": null,
      "outputs": []
    }
  ]
}