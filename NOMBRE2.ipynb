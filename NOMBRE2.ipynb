{
  "nbformat": 4,
  "nbformat_minor": 0,
  "metadata": {
    "colab": {
      "name": "NOMBRE2.ipynb",
      "provenance": [],
      "authorship_tag": "ABX9TyNrZG1RC/kOUZ0phr2jlyGx",
      "include_colab_link": true
    },
    "kernelspec": {
      "name": "python3",
      "display_name": "Python 3"
    },
    "language_info": {
      "name": "python"
    }
  },
  "cells": [
    {
      "cell_type": "markdown",
      "metadata": {
        "id": "view-in-github",
        "colab_type": "text"
      },
      "source": [
        "<a href=\"https://colab.research.google.com/github/CarmenSosaO/CyPg1157/blob/main/NOMBRE2.ipynb\" target=\"_parent\"><img src=\"https://colab.research.google.com/assets/colab-badge.svg\" alt=\"Open In Colab\"/></a>"
      ]
    },
    {
      "cell_type": "code",
      "metadata": {
        "id": "X4HbJG6Ilk7u"
      },
      "source": [
        "def letra_c(caracter):\n",
        "    print(f\"{caracter}{caracter}{caracter}{caracter}{caracter}\")\n",
        "    print(f\"{caracter}\")\n",
        "    print(f\"{caracter}\")\n",
        "    print(f\"{caracter}\")\n",
        "    print(f\"{caracter}\")\n",
        "    print(f\"{caracter}\")\n",
        "    print(f\"{caracter}{caracter}{caracter}{caracter}{caracter}\")"
      ],
      "execution_count": 29,
      "outputs": []
    },
    {
      "cell_type": "code",
      "metadata": {
        "colab": {
          "base_uri": "https://localhost:8080/"
        },
        "id": "wMfEvTXdmE87",
        "outputId": "75a8c284-9a78-42e2-8da7-ed6fe310a989"
      },
      "source": [
        "letra_c(\"✨\")"
      ],
      "execution_count": 5,
      "outputs": [
        {
          "output_type": "stream",
          "name": "stdout",
          "text": [
            "✨✨✨✨✨\n",
            "✨\n",
            "✨\n",
            "✨\n",
            "✨\n",
            "✨\n",
            "✨✨✨✨✨\n"
          ]
        }
      ]
    },
    {
      "cell_type": "code",
      "metadata": {
        "id": "-AliDeIUnUMi"
      },
      "source": [
        "def letra_a(caracter):\n",
        "    print(f\"      {caracter}      \")\n",
        "    print(f\"     {caracter} {caracter}     \")\n",
        "    print(f\"    {caracter}   {caracter}    \")\n",
        "    print(f\"   {caracter}{caracter}{caracter}{caracter}    \")\n",
        "    print(f\"  {caracter}       {caracter}  \")\n",
        "    print(f\" {caracter}         {caracter}\")\n",
        "    print(f\"{caracter}           {caracter}\")"
      ],
      "execution_count": 26,
      "outputs": []
    },
    {
      "cell_type": "code",
      "metadata": {
        "colab": {
          "base_uri": "https://localhost:8080/"
        },
        "id": "DBny0s8IpfTd",
        "outputId": "5b150b7b-4c7a-4c0c-ca09-1c7dd85172a0"
      },
      "source": [
        "letra_a(\"🎁\")"
      ],
      "execution_count": 27,
      "outputs": [
        {
          "output_type": "stream",
          "name": "stdout",
          "text": [
            "      🎁      \n",
            "     🎁 🎁     \n",
            "    🎁   🎁    \n",
            "   🎁🎁🎁🎁    \n",
            "  🎁       🎁  \n",
            " 🎁         🎁\n",
            "🎁           🎁\n"
          ]
        }
      ]
    },
    {
      "cell_type": "code",
      "metadata": {
        "id": "Qy8WlwjYqq0t"
      },
      "source": [
        "def letra_r(caracter):\n",
        "    print(f\"{caracter}{caracter}{caracter}\")\n",
        "    print(f\"{caracter}   {caracter}\")   \n",
        "    print(f\"{caracter} {caracter}\")\n",
        "    print(f\"{caracter}{caracter}\")\n",
        "    print(f\"{caracter}  {caracter}\")\n",
        "    print(f\"{caracter}   {caracter}\")\n",
        "    print(f\"{caracter}    {caracter}\")"
      ],
      "execution_count": 39,
      "outputs": []
    },
    {
      "cell_type": "code",
      "metadata": {
        "colab": {
          "base_uri": "https://localhost:8080/"
        },
        "id": "M-uQv1WaurQm",
        "outputId": "37dfc650-b459-4a8f-a6fb-6660fcd68df7"
      },
      "source": [
        "letra_r(\"🙉\")"
      ],
      "execution_count": 40,
      "outputs": [
        {
          "output_type": "stream",
          "name": "stdout",
          "text": [
            "🙉🙉🙉\n",
            "🙉   🙉\n",
            "🙉 🙉\n",
            "🙉🙉\n",
            "🙉  🙉\n",
            "🙉   🙉\n",
            "🙉    🙉\n"
          ]
        }
      ]
    }
  ]
}