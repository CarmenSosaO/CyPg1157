{
  "nbformat": 4,
  "nbformat_minor": 0,
  "metadata": {
    "colab": {
      "name": "tarea 7.ipynb",
      "provenance": [],
      "authorship_tag": "ABX9TyO8lNBMKjdHySUeny06BJvU",
      "include_colab_link": true
    },
    "kernelspec": {
      "name": "python3",
      "display_name": "Python 3"
    },
    "language_info": {
      "name": "python"
    }
  },
  "cells": [
    {
      "cell_type": "markdown",
      "metadata": {
        "id": "view-in-github",
        "colab_type": "text"
      },
      "source": [
        "<a href=\"https://colab.research.google.com/github/CarmenSosaO/CyPg1157/blob/main/tarea_7.ipynb\" target=\"_parent\"><img src=\"https://colab.research.google.com/assets/colab-badge.svg\" alt=\"Open In Colab\"/></a>"
      ]
    },
    {
      "cell_type": "code",
      "metadata": {
        "id": "OWpa26jur1I_"
      },
      "source": [
        "#Problema 3.1\n",
        "I = 1\n",
        "SUMPAR = 0\n",
        "SUMIMP = 0\n",
        "CUEPAR = 0\n",
        "PROPAR = 0\n",
        "\n",
        "while i <= 270:\n",
        "    NUM = int(input(\"Ingrese un número entero positivo: \"))\n",
        "    if  NUM != 0:\n",
        "        if (-1**NUM)>0:\n",
        "            SUMPAR = SUMPAR+NUM\n",
        "            CUEPAR = CUEPAR +1\n",
        "        else: \n",
        "            SUMPIMP += SUMIMP + NUM\n",
        "    \n",
        "    I = I+1\n",
        "PROPAR = SUMPAR/CUEPAR\n",
        "print(CUEPAR, SUMIPM)\n"
      ],
      "execution_count": null,
      "outputs": []
    },
    {
      "cell_type": "code",
      "metadata": {
        "id": "lvJr3QzQ7DY-"
      },
      "source": [
        "#Problema 3.2\n",
        "band = 't'\n",
        "sumser = 0\n",
        "i = 2\n",
        "\n",
        "while i <= 1800:\n",
        "    sumser = sumser + 1\n",
        "    print(i)\n",
        "    if band == 't':\n",
        "        band = 'f'\n",
        "        i += 3\n",
        "    else:\n",
        "        band = 't'\n",
        "        i += 2\n",
        "\n",
        "print(sumser\n"
      ],
      "execution_count": null,
      "outputs": []
    },
    {
      "cell_type": "code",
      "metadata": {
        "id": "qWmnutKR7kL2"
      },
      "source": [
        "#Problema 3.3\n",
        "serie = 0\n",
        "n = int(input(\"Ingrese un número entero: \"))\n",
        "band = 't'\n",
        "i = 1\n",
        "\n",
        "while i < n:\n",
        "    band = 't'\n",
        "    if band == 't':\n",
        "        serie = (serie + 1) / i\n",
        "        band = 'f'\n",
        "    else:\n",
        "        serie = (serie - 1) / i\n",
        "        band = 't'\n",
        "    i += 1\n",
        "\n",
        "print(serie)"
      ],
      "execution_count": null,
      "outputs": []
    },
    {
      "cell_type": "code",
      "metadata": {
        "id": "jBj1W97i9J_d"
      },
      "source": [
        "#Problema 3.4\n",
        "NOM = 0\n",
        "SUE = float(input(\"Ingrese su sueldo: \"))\n",
        "\n",
        "while SUE !=-1:\n",
        "    if SUE < 1000:\n",
        "        NSUE = SUE*1.15\n",
        "    else:\n",
        "        NSUE = SUE*1.12\n",
        "\n",
        "    NOM = NOM+NSUE\n",
        "    print(NSUE)\n",
        "    \n",
        "print(NOM) "
      ],
      "execution_count": null,
      "outputs": []
    }
  ]
}