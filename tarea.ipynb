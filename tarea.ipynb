{
  "nbformat": 4,
  "nbformat_minor": 0,
  "metadata": {
    "colab": {
      "name": "tarea.ipynb",
      "provenance": [],
      "authorship_tag": "ABX9TyPBWWNtmZw67tnGGUMYbLwW",
      "include_colab_link": true
    },
    "kernelspec": {
      "name": "python3",
      "display_name": "Python 3"
    },
    "language_info": {
      "name": "python"
    }
  },
  "cells": [
    {
      "cell_type": "markdown",
      "metadata": {
        "id": "view-in-github",
        "colab_type": "text"
      },
      "source": [
        "<a href=\"https://colab.research.google.com/github/CarmenSosaO/CyPg1157/blob/main/tarea.ipynb\" target=\"_parent\"><img src=\"https://colab.research.google.com/assets/colab-badge.svg\" alt=\"Open In Colab\"/></a>"
      ]
    },
    {
      "cell_type": "markdown",
      "metadata": {
        "id": "Gfx3CqDbV0qE"
      },
      "source": [
        "1. Hacer un programa que\n",
        "pida dos números enteros y que imprima en pantalla lo siguiente: \n",
        "\n",
        "\n",
        "¿Cuál de ellos es el número mayor?\n",
        "¿Cuál de ellos es el número menor?\n",
        "\n",
        "o en su defecto\n",
        "¿Imprimir que los valores son iguales?"
      ]
    },
    {
      "cell_type": "code",
      "metadata": {
        "colab": {
          "base_uri": "https://localhost:8080/"
        },
        "id": "qURhO3r5V4uE",
        "outputId": "f932c21a-29c7-4a86-9ab9-08247cd782df"
      },
      "source": [
        "NUM1=int(input(\"Ingresa un numero entero\"))\n",
        "NUM2=int(input(\"Ingresa un numero entero\"))\n",
        "if NUM1>NUM2:\n",
        "  print(f'El primer número que ingresaste, es decir, el {NUM1} es mayor y el {NUM2} es menor.')\n",
        "elif NUM1<NUM2:\n",
        "  print(f'El primer número que ingresaste, es decir, el {NUM1} es menor y el {NUM2} es mayor.')\n",
        "else:\n",
        "  print('Son iguales.')"
      ],
      "execution_count": null,
      "outputs": [
        {
          "output_type": "stream",
          "name": "stdout",
          "text": [
            "Ingresa un numero entero5\n",
            "Ingresa un numero entero5\n",
            "Son iguales.\n"
          ]
        }
      ]
    },
    {
      "cell_type": "markdown",
      "metadata": {
        "id": "j4LiiM82euq8"
      },
      "source": [
        "Hacer un programa que solicite 3 números enteros diferentes entre sí y que imprima cuál de los 3 es el mayor"
      ]
    },
    {
      "cell_type": "code",
      "metadata": {
        "colab": {
          "base_uri": "https://localhost:8080/"
        },
        "id": "pRmixT9UfY58",
        "outputId": "e96f0e02-efe7-4455-9765-5340b23085dd"
      },
      "source": [
        "NUM1=int(input(\"Ingresa un número entero\"))\n",
        "NUM2=int(input(\"Ingresa un número entero\"))\n",
        "NUM3=int(input(\"Ingresa un número entero\"))\n",
        "if NUM1 == NUM2 and NUM2 == NUM3 :\n",
        "  print(\"No puede repetir el mismo número, ingrese números distintos\")\n",
        "elif NUM1 > NUM2 and NUM1 > NUM3 :\n",
        "    print(f'El primer número que ingresaste, es decir, el {NUM1}, es mayor')\n",
        "elif NUM2 > NUM1 and NUM2 > NUM3:\n",
        "    print(f'El segundo número que ingresaste, es decir, el {NUM2}, es mayor')\n",
        "elif NUM3 > NUM1 and NUM3 > NUM2:\n",
        "    print(f'El tercer número que ingresaste, es decir, el {NUM3}, es mayor')\n"
      ],
      "execution_count": null,
      "outputs": [
        {
          "output_type": "stream",
          "name": "stdout",
          "text": [
            "Ingresa un número entero1\n",
            "Ingresa un número entero23\n",
            "Ingresa un número entero2\n",
            "El segundo número que ingresaste, es decir, el 23, es mayor\n"
          ]
        }
      ]
    },
    {
      "cell_type": "markdown",
      "metadata": {
        "id": "7X1fIOb-tSRg"
      },
      "source": [
        "\n",
        "3. Hacer un programa que solicite 3 números enteros diferentes entre sí y que imprima cuál de los 3 es el menor"
      ]
    },
    {
      "cell_type": "code",
      "metadata": {
        "colab": {
          "base_uri": "https://localhost:8080/"
        },
        "id": "ZtD3JwUOtVyB",
        "outputId": "3208d287-badf-49d5-a8d9-2bf8c8d4d2d4"
      },
      "source": [
        "NUM1=int(input(\"Ingresa un número entero\"))\n",
        "NUM2=int(input(\"Ingresa un número entero\"))\n",
        "NUM3=int(input(\"Ingresa un número entero\"))\n",
        "if NUM1 == NUM2 and NUM2 == NUM3 :\n",
        "  print(\"No puede repetir el mismo número, ingrese números distintos\")\n",
        "elif NUM1 < NUM2 and NUM1 < NUM3 :\n",
        "    print(f'El primer número que ingresaste, es decir, el {NUM1}, es menor')\n",
        "elif NUM2 < NUM1 and NUM2 < NUM3:\n",
        "    print(f'El segundo número que ingresaste, es decir, el {NUM2}, es menor')\n",
        "elif NUM3 < NUM1 and NUM3 < NUM2:\n",
        "    print(f'El tercer número que ingresaste, es decir, el {NUM3}, es menor')"
      ],
      "execution_count": null,
      "outputs": [
        {
          "name": "stdout",
          "output_type": "stream",
          "text": [
            "Ingresa un número entero1\n",
            "Ingresa un número entero2\n",
            "Ingresa un número entero1\n"
          ]
        }
      ]
    },
    {
      "cell_type": "markdown",
      "metadata": {
        "id": "5mfqaYY9t9Wm"
      },
      "source": [
        "\n",
        " 4. Hacer un programa que solicite 4 números enteros diferentes entre sí y que imprima a la salida cuál de ellos es el menor y cuál de ellos es el mayor"
      ]
    },
    {
      "cell_type": "code",
      "metadata": {
        "colab": {
          "base_uri": "https://localhost:8080/"
        },
        "id": "PX30Ekza1HL6",
        "outputId": "52359bfa-9e20-4c22-bf43-2ebae76b28e2"
      },
      "source": [
        "NUM1=int(input(\"Ingresa un número entero\"))\n",
        "NUM2=int(input(\"Ingresa un número entero\"))\n",
        "NUM3=int(input(\"Ingresa un número entero\"))\n",
        "NUM4=int(input(\"Ingresa un número entero\"))\n",
        "if NUM1 == NUM2 and NUM2 == NUM3 and NUM3 == NUM4 :\n",
        "    print(\"No puede repetir el mismo número, ingrese números distintos\")\n",
        "else :\n",
        "    if NUM1 < NUM2 and NUM1 < NUM3 and NUM1 < NUM4 :\n",
        "        MENOR = NUM1\n",
        "    elif NUM2 < NUM1 and NUM2 < NUM3 and NUM2 < NUM4 :\n",
        "        MENOR = NUM2\n",
        "    elif NUM3 < NUM1 and NUM3 < NUM2 and NUM3 < NUM4 :\n",
        "        MENOR = NUM3\n",
        "    elif NUM4 < NUM1 and NUM4 < NUM2 and NUM4 < NUM3 :\n",
        "        MENOR = NUM4\n",
        "    elif NUM1 > NUM2 and NUM1 > NUM3 and NUM1 > NUM4 :\n",
        "        MAYOR = NUM1\n",
        "    elif NUM2 > NUM1 and NUM2 > NUM3 and NUM2 > NUM4 :\n",
        "        MAYOR = NUM2\n",
        "    elif NUM3 > NUM1 and NUM3 > NUM2 and NUM2 > NUM4 :\n",
        "        MAYOR = NUM3\n",
        "    elif NUM4 > NUM1 and NUM4 > NUM2 and NUM4 > NUM3 :\n",
        "        MAYOR = NUM4\n",
        "print(f\"El número mayor es {MAYOR} y el número menor es {MENOR}\")"
      ],
      "execution_count": null,
      "outputs": [
        {
          "output_type": "stream",
          "name": "stdout",
          "text": [
            "Ingresa un número entero1\n",
            "Ingresa un número entero2\n",
            "Ingresa un número entero3\n",
            "Ingresa un número entero1\n",
            "El número mayor es 3 y el número menor es 1\n"
          ]
        }
      ]
    }
  ]
}