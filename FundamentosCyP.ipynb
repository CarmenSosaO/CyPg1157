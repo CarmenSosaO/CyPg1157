{
  "nbformat": 4,
  "nbformat_minor": 0,
  "metadata": {
    "colab": {
      "name": "FundamentosCyP.ipynb",
      "provenance": [],
      "collapsed_sections": [],
      "authorship_tag": "ABX9TyPq9eVUW9QNlB7YfQY69nOp",
      "include_colab_link": true
    },
    "kernelspec": {
      "name": "python3",
      "display_name": "Python 3"
    },
    "language_info": {
      "name": "python"
    }
  },
  "cells": [
    {
      "cell_type": "markdown",
      "metadata": {
        "id": "view-in-github",
        "colab_type": "text"
      },
      "source": [
        "<a href=\"https://colab.research.google.com/github/CarmenSosaO/CyPg1157/blob/main/FundamentosCyP.ipynb\" target=\"_parent\"><img src=\"https://colab.research.google.com/assets/colab-badge.svg\" alt=\"Open In Colab\"/></a>"
      ]
    },
    {
      "cell_type": "code",
      "metadata": {
        "colab": {
          "base_uri": "https://localhost:8080/"
        },
        "id": "A4qcuMLtVmun",
        "outputId": "fa429885-33e7-497d-fca6-acfce525a806"
      },
      "source": [
        "import sys\n",
        "nombre = \"José\" # Tipo de dat String  (cadena de caracteres)\n",
        "print( nombre )\n",
        "edad = 19\n",
        "print (\"tu edad es:\", edad)\n",
        "sys.getsizeof (edad)\n",
        "\n",
        "numero = 5.0\n",
        "numero = numero**2\n",
        "print(numero)\n"
      ],
      "execution_count": 19,
      "outputs": [
        {
          "output_type": "stream",
          "name": "stdout",
          "text": [
            "José\n",
            "tu edad es: 19\n",
            "25.0\n"
          ]
        }
      ]
    },
    {
      "cell_type": "markdown",
      "metadata": {
        "id": "0SzmvFBgXSGZ"
      },
      "source": [
        "# Tipos de dato en Python\n",
        "### Tipos simples\n",
        "- str --> String cadena de caracteres\n",
        "- int --> Números enteros\n",
        "- float --> Núneros con notación de punto flotante\n",
        "- complex --> Números complejos resultan de la factorización de raices negativas\n",
        "- bool --> Boleano (True or False)\n",
        "- byte --> 8 bits\n",
        "\n",
        "### Tipos de datos estructurados (compuestos)\n",
        "- list --> Listas (Arreglos en otros leng)\n",
        "- tuple --> Listas no mutables\n",
        "- dict --> diccionarios\n",
        "- set y frozenset --> Conjuntos\n",
        "#TIPOS DE DATO NUMÉRICO INT Y FLOAT\n",
        "El tipo de dato INT utiliza difernte cantidad de bits según el lenguaje de programación. Por ejemplo C utiliza 16 bits\n"
      ]
    },
    {
      "cell_type": "code",
      "metadata": {
        "colab": {
          "base_uri": "https://localhost:8080/"
        },
        "id": "Sh1dvccZvEbG",
        "outputId": "86110819-d025-4ad7-e8e1-3a4b9e241616"
      },
      "source": [
        "estatura = 1.56\n",
        "print (estatura)\n",
        "print(sys.getsizeof(estatura))\n",
        "estatura = estatura +0.1\n",
        "print (estatura)\n",
        "print (round(estatura,2))\n",
        "edad=21\n",
        "edad/=2\n",
        "print(\"la mitad de tu edad es:\", edad)\n",
        "numero = numero*3\n",
        "print (numero)\n",
        "numero = 5.0\n",
        "numero = numero**2\n",
        "print (numero)\n"
      ],
      "execution_count": null,
      "outputs": [
        {
          "output_type": "stream",
          "name": "stdout",
          "text": [
            "1.56\n",
            "24\n",
            "1.6600000000000001\n",
            "1.66\n",
            "la mitad de tu edad es: 10.5\n",
            "225.0\n",
            "25.0\n"
          ]
        }
      ]
    },
    {
      "cell_type": "markdown",
      "metadata": {
        "id": "Ur69VgYAwO86"
      },
      "source": [
        "###OPERADOR MODULO\n",
        "DA COMO RESULTADO EL RESIDUO DE UNA DIVISIÓN. NORMALMENTE EN TODOS LOS LENGUAJES DE PROGRAMACIÓN SE USA %"
      ]
    },
    {
      "cell_type": "code",
      "metadata": {
        "colab": {
          "base_uri": "https://localhost:8080/"
        },
        "id": "PbvRyCKYwgpY",
        "outputId": "3b2509d4-224a-42ba-c0fa-642726f28a3e"
      },
      "source": [
        "numero = 21\n",
        "print (numero/2)\n",
        "print (numero//2)\n",
        "print (numero%2)\n"
      ],
      "execution_count": null,
      "outputs": [
        {
          "output_type": "stream",
          "name": "stdout",
          "text": [
            "10.5\n",
            "10\n",
            "1\n"
          ]
        }
      ]
    },
    {
      "cell_type": "markdown",
      "metadata": {
        "id": "LnNJco7_0S9i"
      },
      "source": [
        "###DIFERENCIAS"
      ]
    },
    {
      "cell_type": "code",
      "metadata": {
        "colab": {
          "base_uri": "https://localhost:8080/"
        },
        "id": "md-aDTvL0ghh",
        "outputId": "e2cb2566-57ba-40bf-9031-7c5cd902d86a"
      },
      "source": [
        "numero =24\n",
        "print(\"24 es diferente de 23=\", numero!=23)\n",
        "print(\"24 es mayor que 23=\", numero >23)\n",
        "print(\"24 es menor que 23=\", numero <23)\n",
        "print(\"24 es mayor o igual que 23=\", numero >=23)\n",
        "print(\"24 es menor o igual que 23=\", numero <=23)"
      ],
      "execution_count": null,
      "outputs": [
        {
          "output_type": "stream",
          "name": "stdout",
          "text": [
            "24 es diferente de 23= True\n",
            "24 es mayor que 23= True\n",
            "24 es menor que 23= False\n",
            "24 es mayor o igual que 23= True\n",
            "24 es menor o igual que 23= False\n"
          ]
        }
      ]
    },
    {
      "cell_type": "markdown",
      "metadata": {
        "id": "hO5ix82k2EK_"
      },
      "source": [
        "###TIPO DE DATO STRING (STR)\n",
        "-Se maneja como arreglo (tipo de dato compuesto)\n",
        "-Se puede acceder a los elementos del string por medio del índice del cracater\n",
        "-Es mutable\n",
        "-Tiene métodos útiles (potentes\n",
        "-Slicing"
      ]
    },
    {
      "cell_type": "code",
      "metadata": {
        "colab": {
          "base_uri": "https://localhost:8080/"
        },
        "id": "goPQBUtU3dl4",
        "outputId": "fcc71221-ae9f-43c4-a1fc-3eed7767e74b"
      },
      "source": [
        "nombre ='jose'\n",
        "carrera =\"ingenieria en computación\"\n",
        "frase= \"\"\" El coonocimeinto\n",
        "me persigue...\n",
        "pero\n",
        "yo soy más rápido\"\"\"\n",
        "print (nombre)\n",
        "print(carrera)\n",
        "print(frase)\n",
        "#La función type de Python te devuielve el tupo de datode una variable (excpresión)\n",
        "\n"
      ],
      "execution_count": null,
      "outputs": [
        {
          "output_type": "stream",
          "name": "stdout",
          "text": [
            "jose\n",
            "ingenieria en computación\n",
            " El coonocimeinto\n",
            "me persigue...\n",
            "pero\n",
            "yo soy más rápido\n"
          ]
        }
      ]
    },
    {
      "cell_type": "markdown",
      "metadata": {
        "id": "RIc1-v_vpH_w"
      },
      "source": [
        "Una clase (class) es un tipo de dato compuesto"
      ]
    },
    {
      "cell_type": "code",
      "metadata": {
        "colab": {
          "base_uri": "https://localhost:8080/"
        },
        "id": "oerJY2hLpemv",
        "outputId": "8b7443db-333c-48fc-d28f-239cb99246ed"
      },
      "source": [
        "carrera = \"ingeniería en computación\"\n",
        "print (carrera)\n",
        "print(carrera[8])\n",
        "print(carrera[24])\n",
        "print(carrera[-1])\n",
        "print(carrera[-25])\n",
        "\n",
        "#EL INDEXADO NEGATIVO COMINEZA EN -1\n",
        "#ADELANTANDO EL TEMA FOR\n",
        "\n",
        "for letra in carrera:\n",
        "  print(\"-->\" ,letra, \"<--\")"
      ],
      "execution_count": null,
      "outputs": [
        {
          "output_type": "stream",
          "name": "stdout",
          "text": [
            "ingeniería en computación\n",
            "í\n",
            "n\n",
            "n\n",
            "i\n",
            "--> i <--\n",
            "--> n <--\n",
            "--> g <--\n",
            "--> e <--\n",
            "--> n <--\n",
            "--> i <--\n",
            "--> e <--\n",
            "--> r <--\n",
            "--> í <--\n",
            "--> a <--\n",
            "-->   <--\n",
            "--> e <--\n",
            "--> n <--\n",
            "-->   <--\n",
            "--> c <--\n",
            "--> o <--\n",
            "--> m <--\n",
            "--> p <--\n",
            "--> u <--\n",
            "--> t <--\n",
            "--> a <--\n",
            "--> c <--\n",
            "--> i <--\n",
            "--> ó <--\n",
            "--> n <--\n"
          ]
        }
      ]
    },
    {
      "cell_type": "markdown",
      "metadata": {
        "id": "0ozVj5hrrmFK"
      },
      "source": [
        "#A la sintaxis escrita para elegur un elemento de un grupo de datos se llama selector\n",
        "\n",
        "En el caso de Strings y listas (lst) se usan '[' y ']'\n",
        "1. En todos los lenguajes los arreglos inician en 0\n",
        "2. En Python no existe como tal el tipo de dato arreglo, el concepto es sustituido por listas\n",
        "3. Los strings se comportan como un arreglo en la mayoría de los lenguajes\n",
        "4. En Python se acepta en indexado negativo, en otros lenguajes NO"
      ]
    },
    {
      "cell_type": "markdown",
      "metadata": {
        "id": "FTwRjAbnu4zW"
      },
      "source": [
        "#SLICING (REBANADO DE CADENAS)\n",
        "\n",
        "Permite seleccionar subcadenas con el operador \n",
        "###[inicio: stop : incremento ]\n",
        "El stop no se incluye, es por eso que debemos agregar una posición extra\n",
        "\n",
        "###Slicing y valores por defecto\n",
        "Inicio por defecto siempre serpa 0\n",
        "stop: rtamaño dle arreglo (indexado positivo) y será 0 en indexado negativo\n",
        "\n",
        "Incremento: por defecto es 1 (indexado positivo)"
      ]
    },
    {
      "cell_type": "code",
      "metadata": {
        "colab": {
          "base_uri": "https://localhost:8080/"
        },
        "id": "gjd1lGhBvbj_",
        "outputId": "1d16d5fc-47aa-409b-e2d9-0f87551623f8"
      },
      "source": [
        "carrera = \"ingeniería en computación\"\n",
        "print (carrera[0:10:1])  #el 0 y el 1 es por defecto (incio  e incremento)\n",
        "print (carrera[14:25:1])\n",
        "#lo mismo pero con indexado negativo\n",
        "print (carrera[-11:-1:1])\n"
      ],
      "execution_count": null,
      "outputs": [
        {
          "output_type": "stream",
          "name": "stdout",
          "text": [
            "ingeniería\n",
            "computación\n",
            "computació\n"
          ]
        }
      ]
    },
    {
      "cell_type": "code",
      "metadata": {
        "colab": {
          "base_uri": "https://localhost:8080/"
        },
        "id": "IZJfR40wxcNU",
        "outputId": "ae0c103b-0026-4035-b65a-f2dc63c7d964"
      },
      "source": [
        "carrera = \"ingeniería en computación\"\n",
        "print (carrera[0:10:1])  #el 0 y el 1 es por defecto (incio  e incremento)\n",
        "print (carrera[14:25:1])\n",
        "\n",
        "print (carrera[:10:]) # es lo mismo que el primero sin los valores por defecto\n",
        "print(\"INDEXADO NEGATIVO\")\n",
        "#lo mismo pero con indexado negativo\n",
        "print (carrera[-11:-1:1])\n",
        "#se deja el valor por defecto para que incluya la n\n",
        "print (carrera[-11::1])\n",
        "\n",
        "#UN EJERCICIO MÁS PARA VER INCREMENTO\n",
        "print (carrera[0:10:2]) #va a ir de 2 en 2\n",
        "#al reves la palabra computación\n",
        "#lo mismo pero con indexado negativo\n",
        "print (carrera[-1:-12:-1]) #indexado negativo\n",
        "print (carrera[25:13:-1]) #positivo"
      ],
      "execution_count": null,
      "outputs": [
        {
          "output_type": "stream",
          "name": "stdout",
          "text": [
            "ingeniería\n",
            "computación\n",
            "ingeniería\n",
            "INDEXADO NEGATIVO\n",
            "computació\n",
            "computación\n",
            "igneí\n",
            "nóicatupmoc\n",
            "nóicatupmoc\n"
          ]
        }
      ]
    },
    {
      "cell_type": "markdown",
      "metadata": {
        "id": "Uv3rUI_90n7O"
      },
      "source": [
        "#STRING Y SUS MÉTODOS\n",
        "Todos los tipos de datos en Python son objetos (CLASES DE LA PROGRAMACIÓN ORIENTADA A OBJETOS)\n",
        "Lo cual significa que tiene atributos y métodos\n",
        "1. dir() y help() funciones para obtener ayuda del lenguaje Python\n",
        "\n",
        "2. dir muestra las funciones de un tipo de dato como reusmen\n",
        "3. help muestra la misma ayuda pero a detalle\n",
        "\n",
        "Los métodos que inician con doble guión bajo son privados de uso interno de la clase y no deberiamos usarlos\n",
        "\n",
        "Todos los demás son para uso exterior(usuario)"
      ]
    },
    {
      "cell_type": "code",
      "metadata": {
        "colab": {
          "base_uri": "https://localhost:8080/"
        },
        "id": "Ht0ViFO44qmR",
        "outputId": "96a55686-eb61-423d-9025-27c58ad764c9"
      },
      "source": [
        "frutas = \" limón , fresa, manzana  , aguacate  \"\n",
        "nombre =\"jose\"\n",
        "print (frutas)\n",
        "print (frutas.replace( 'a' , '4').replace('e','3').upper()) #puedo encadenas métodos\n",
        "print(frutas) #pero el valor de frutas sigue igual"
      ],
      "execution_count": null,
      "outputs": [
        {
          "output_type": "stream",
          "name": "stdout",
          "text": [
            " limón , fresa, manzana  , aguacate  \n",
            " LIMÓN , FR3S4, M4NZ4N4  , 4GU4C4T3  \n",
            " limón , fresa, manzana  , aguacate  \n"
          ]
        }
      ]
    },
    {
      "cell_type": "code",
      "metadata": {
        "id": "qMPUsEer08F0"
      },
      "source": [
        "frutas = \" limón , fresa, manzana  , aguacate  \"\n",
        "nombre =\"jose\"\n",
        "print (frutas)\n",
        "dir(frutas) #despliega métodos (concepto de programacion orientada a objetos)\n",
        "# un método es el tipo de cosa que hace un objeto\n",
        "print (nombre.capitalize()) #primera mayúscula\n",
        "print (nombre.upper()) #todas mayúsculas\n",
        "print (frutas.replace( 'a' , '4'))\n",
        "help(str) #indica qué hace cada método de la clase seleccionada, en este caso str"
      ],
      "execution_count": null,
      "outputs": []
    },
    {
      "cell_type": "code",
      "metadata": {
        "colab": {
          "base_uri": "https://localhost:8080/"
        },
        "id": "7jlFXZsm5Y6b",
        "outputId": "dc69794e-ae16-488c-f89b-b56d64a72d8d"
      },
      "source": [
        "frutas = \" limón , fresa, manzana  , aguacate  \"\n",
        "frutas = frutas.replace( 'a' , '4').replace('e','3').upper() #sustituye los valores originales por los nuevos\n",
        "print (frutas)\n",
        "frutas = \" limón , fresa, manzana  , aguacate  \"\n",
        "print(frutas.strip()) #elimina la basura\n",
        "print(frutas.split()) #separa cada elemento. por defecto, separa por espacio\n",
        "#puedes indicar cuál es el criterio de separación\n",
        "print(frutas.index(\"n\"))\n"
      ],
      "execution_count": null,
      "outputs": [
        {
          "output_type": "stream",
          "name": "stdout",
          "text": [
            " LIMÓN , FR3S4, M4NZ4N4  , 4GU4C4T3  \n",
            "limón , fresa, manzana  , aguacate\n",
            "['limón', ',', 'fresa,', 'manzana', ',', 'aguacate']\n",
            "5\n"
          ]
        }
      ]
    },
    {
      "cell_type": "markdown",
      "metadata": {
        "id": "ozeqjfNu8P4b"
      },
      "source": [
        "#DIFERENCIA ENTRE MÉTODO FIND E INDEX\n",
        "la función index() devuelve error cuando falta el caracter que pusiste"
      ]
    },
    {
      "cell_type": "markdown",
      "metadata": {
        "id": "uVOJq3848a0b"
      },
      "source": [
        "#STRING Y CARACTERES DE ESCAPE\n",
        "Para imprimir un caracter especial \n",
        "\"Jose\"\n",
        "\n",
        "Al colocar la diagonal antes, permite que se impriman los caracteres que se colocan después\n",
        "\n",
        "*   \\\\\"--> \" \n",
        "*   \\\\'--> '\n",
        "*   \\n-->Salto de línea (tecla enter)\n",
        "*   \\t --> tabulador espacios a la izquierda\n",
        "*   \\uxxxx--> caracteres unicode 16 bits (2bytes)\n",
        "*   \\Uxxxxxxxx-->unicode extendido (4bytes)\n",
        "*   \\\\\\ -->\\\n",
        "\n",
        "\n",
        "\n",
        "\n",
        "\n",
        "\n"
      ]
    },
    {
      "cell_type": "code",
      "metadata": {
        "colab": {
          "base_uri": "https://localhost:8080/"
        },
        "id": "6TrmNc4n-3A7",
        "outputId": "72e9fc93-f4ee-42be-e3c1-e4104afd25dc"
      },
      "source": [
        "print(\" \\\"jose\\\" \")\n",
        "nombre = \" \\\"jose\\\" \"\n",
        "print(nombre)\n",
        "carrera = \"Ingenieria \\n\\ten \\n\\t\\tComputación\"\n",
        "print(carrera)\n",
        "#PARA REPRESENTAR UN CARACTERE UNICODE\n",
        "\n",
        "print(\"\\u0065\") #es el unicode de la e\n",
        "print(\"\\u0444\")\n",
        "print(\"\\u0620\")\n",
        "\n",
        "#unicode extendido con U mayuscula y deben existir 8 posiciones,\n",
        "#si la tabla tiene menos digitos, rerllenar a la izquiera con ceros\n",
        "\n",
        "print(\"\\U00010057\")\n",
        "print(\"\\U0001F60E\")\n",
        "print(\"\\U0001F9A0\")"
      ],
      "execution_count": 5,
      "outputs": [
        {
          "output_type": "stream",
          "name": "stdout",
          "text": [
            " \"jose\" \n",
            " \"jose\" \n",
            "Ingenieria \n",
            "\ten \n",
            "\t\tComputación\n",
            "e\n",
            "ф\n",
            "ؠ\n",
            "𐁗\n",
            "😎\n",
            "🦠\n"
          ]
        }
      ]
    },
    {
      "cell_type": "markdown",
      "metadata": {
        "id": "j-DH0wZGyH9m"
      },
      "source": [
        "#FUNCIÓN PRINT\n",
        "### Se emplea para desplegar información en la salida estándar. Normalmente un monitor.\n",
        "- Formas de usar print\n",
        "- El argumento por defecto por defecto de print(end)\n",
        "- format ()\n",
        "-Operador f\" \""
      ]
    },
    {
      "cell_type": "code",
      "metadata": {
        "colab": {
          "base_uri": "https://localhost:8080/"
        },
        "id": "hooTgQK8y2JV",
        "outputId": "ccaa8703-1cec-46b1-a975-95e8375c607b"
      },
      "source": [
        "nombre = \"José\"\n",
        "edad = 18\n",
        "casado = False\n",
        "estatura = 1.67\n",
        "\n",
        "\n",
        "# 1. con comas- concatena haviendo un casting (conversión a string automático)\n",
        "#agrga un espacio\n",
        "print(nombre , edad , casado , estatura)\n",
        "\n",
        "\"\"\"\n",
        "Para generar\n",
        "\n",
        "Nombre: Jose\n",
        "  Edad: 18\n",
        "  Está casado: False\n",
        "  EStatura en metros: 1.67\n",
        "\n",
        "\"\"\"\n",
        "print(\"Nombre: \" + nombre + \"\\n\\tEdad: \" + str(edad)  + \"\\n\\tEsta casado:\" + str ( casado))\n",
        "# 2. Con el símbolo de suma \"+\"\n",
        "#concatenación en crudo. El casting no se hace automático.\n",
        "#conversión entre tipos se hace manual, en este caso, convertir todo a string\n",
        "#NO AGREGA ESPACIOS AUTOMÁTICAMENTE\n",
        "print(nombre+ \" \" +str(edad) + \" \" + str(casado) + \" \" , str(estatura))\n",
        "\n",
        "# Dando formato a la salida con formato ()\n",
        "\n",
        "print(\"Nombre: {}\\n\\tEdad: {}\\n\\tEstá casado: {}\\n\\tEstatura en metros: {}\". format(nombre, edad,casado,estatura))\n",
        "#si no se coloca número entre las llaves, no se coloca indice y respeta el orden que establece format\n",
        "\n",
        "# se puede establecer el orden colocando el índice entre las llaves (colocar el numero de variable)\n",
        "print(\"Nombre: {3}\\n\\tEdad: {2}\\n\\tEstá casado: {1}\\n\\tEstatura en metros: {0}\". format(nombre, edad,casado,estatura))\n",
        "\n",
        "#4. con el oerador f \" \" (mejora a format)\n",
        "print(\"\\ncon el operador f\\\"\\\"\")\n",
        "print(f\"Nombre: {nombre}\\n\\tEdad: {edad}\\n\\tEstá casado: {casado}\\n\\tEstatura en metros: {estatura}\")\n",
        "#como manejar el argumento end\n",
        "print(f\"hola {nombre}\")\n",
        "print(\", cómo estás?\")\n",
        "#sobre escribir el valor por defecto de end que es salto de linea\n",
        "print(f\"hola {nombre}\" , end=\"\" )  \n",
        "print(\", cómo estás?\", end=\"\\n\" ) \n",
        "\n"
      ],
      "execution_count": 18,
      "outputs": [
        {
          "output_type": "stream",
          "name": "stdout",
          "text": [
            "José 18 False 1.67\n",
            "Nombre: José\n",
            "\tEdad: 18\n",
            "\tEsta casado:False\n",
            "José 18 False  1.67\n",
            "Nombre: José\n",
            "\tEdad: 18\n",
            "\tEstá casado: False\n",
            "\tEstatura en metros: 1.67\n",
            "Nombre: 1.67\n",
            "\tEdad: False\n",
            "\tEstá casado: 18\n",
            "\tEstatura en metros: José\n",
            "\n",
            "con el operador f\"\"\n",
            "Nombre: José\n",
            "\tEdad: 18\n",
            "\tEstá casado: False\n",
            "\tEstatura en metros: 1.67\n",
            "hola José\n",
            ", cómo estás?\n",
            "hola José, cómo estás?\n"
          ]
        }
      ]
    },
    {
      "cell_type": "markdown",
      "metadata": {
        "id": "Izz8NzHl6_e1"
      },
      "source": [
        "#Con una sola función POR LETRA print, escribir su primer nombre (nombre de pila) de la siguiente forma\n",
        "\n",
        "C C C C\n",
        "C \n",
        "C           \n",
        "C          \n",
        "C C C C  "
      ]
    }
  ]
}