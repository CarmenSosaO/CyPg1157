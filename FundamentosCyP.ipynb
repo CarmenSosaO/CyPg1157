{
  "nbformat": 4,
  "nbformat_minor": 0,
  "metadata": {
    "colab": {
      "name": "FundamentosCyP.ipynb",
      "provenance": [],
      "collapsed_sections": [],
      "authorship_tag": "ABX9TyOHElNYLh+AYWmTtbDl6gYW",
      "include_colab_link": true
    },
    "kernelspec": {
      "name": "python3",
      "display_name": "Python 3"
    },
    "language_info": {
      "name": "python"
    }
  },
  "cells": [
    {
      "cell_type": "markdown",
      "metadata": {
        "id": "view-in-github",
        "colab_type": "text"
      },
      "source": [
        "<a href=\"https://colab.research.google.com/github/CarmenSosaO/CyPg1157/blob/main/FundamentosCyP.ipynb\" target=\"_parent\"><img src=\"https://colab.research.google.com/assets/colab-badge.svg\" alt=\"Open In Colab\"/></a>"
      ]
    },
    {
      "cell_type": "code",
      "metadata": {
        "colab": {
          "base_uri": "https://localhost:8080/"
        },
        "id": "A4qcuMLtVmun",
        "outputId": "7c87ff62-91c2-4e58-c5e8-dcbf6c7b126e"
      },
      "source": [
        "import sys\n",
        "nombre = \"José\" # Tipo de dat String  (cadena de caracteres)\n",
        "print( nombre )\n",
        "edad = 19\n",
        "print (\"tu edad es:\", edad)\n",
        "sys.getsizeof (edad)\n",
        "\n",
        "numero = 5.0\n",
        "numero = numero**2\n",
        "print(numero)\n"
      ],
      "execution_count": 5,
      "outputs": [
        {
          "output_type": "stream",
          "name": "stdout",
          "text": [
            "José\n",
            "tu edad es: 19\n",
            "25.0\n"
          ]
        }
      ]
    },
    {
      "cell_type": "markdown",
      "metadata": {
        "id": "0SzmvFBgXSGZ"
      },
      "source": [
        "# Tipos de dato en Python\n",
        "### Tipos simples\n",
        "- str --> String cadena de caracteres\n",
        "- int --> Números enteros\n",
        "- float --> Núneros con notación de punto flotante\n",
        "- complex --> Números complejos resultan de la factorización de raices negativas\n",
        "- bool --> Boleano (True or False)\n",
        "- byte --> 8 bits\n",
        "\n",
        "### Tipos de datos estructurados (compuestos)\n",
        "- list --> Listas (Arreglos en otros leng)\n",
        "- tuple --> Listas no mutables\n",
        "- dict --> diccionarios\n",
        "- set y frozenset --> Conjuntos\n",
        "#TIPOS DE DATO NUMÉRICO INT Y FLOAT\n",
        "El tipo de dato INT utiliza difernte cantidad de bits según el lenguaje de programación. Por ejemplo C utiliza 16 bits\n"
      ]
    },
    {
      "cell_type": "code",
      "metadata": {
        "colab": {
          "base_uri": "https://localhost:8080/"
        },
        "id": "Sh1dvccZvEbG",
        "outputId": "86110819-d025-4ad7-e8e1-3a4b9e241616"
      },
      "source": [
        "estatura = 1.56\n",
        "print (estatura)\n",
        "print(sys.getsizeof(estatura))\n",
        "estatura = estatura +0.1\n",
        "print (estatura)\n",
        "print (round(estatura,2))\n",
        "edad=21\n",
        "edad/=2\n",
        "print(\"la mitad de tu edad es:\", edad)\n",
        "numero = numero*3\n",
        "print (numero)\n",
        "numero = 5.0\n",
        "numero = numero**2\n",
        "print (numero)\n"
      ],
      "execution_count": 14,
      "outputs": [
        {
          "output_type": "stream",
          "name": "stdout",
          "text": [
            "1.56\n",
            "24\n",
            "1.6600000000000001\n",
            "1.66\n",
            "la mitad de tu edad es: 10.5\n",
            "225.0\n",
            "25.0\n"
          ]
        }
      ]
    },
    {
      "cell_type": "markdown",
      "metadata": {
        "id": "Ur69VgYAwO86"
      },
      "source": [
        "###OPERADOR MODULO\n",
        "DA COMO RESULTADO EL RESIDUO DE UNA DIVISIÓN. NORMALMENTE EN TODOS LOS LENGUAJES DE PROGRAMACIÓN SE USA %"
      ]
    },
    {
      "cell_type": "code",
      "metadata": {
        "colab": {
          "base_uri": "https://localhost:8080/"
        },
        "id": "PbvRyCKYwgpY",
        "outputId": "3b2509d4-224a-42ba-c0fa-642726f28a3e"
      },
      "source": [
        "numero = 21\n",
        "print (numero/2)\n",
        "print (numero//2)\n",
        "print (numero%2)\n"
      ],
      "execution_count": 16,
      "outputs": [
        {
          "output_type": "stream",
          "name": "stdout",
          "text": [
            "10.5\n",
            "10\n",
            "1\n"
          ]
        }
      ]
    },
    {
      "cell_type": "markdown",
      "metadata": {
        "id": "LnNJco7_0S9i"
      },
      "source": [
        "###DIFERENCIAS"
      ]
    },
    {
      "cell_type": "code",
      "metadata": {
        "colab": {
          "base_uri": "https://localhost:8080/"
        },
        "id": "md-aDTvL0ghh",
        "outputId": "e2cb2566-57ba-40bf-9031-7c5cd902d86a"
      },
      "source": [
        "numero =24\n",
        "print(\"24 es diferente de 23=\", numero!=23)\n",
        "print(\"24 es mayor que 23=\", numero >23)\n",
        "print(\"24 es menor que 23=\", numero <23)\n",
        "print(\"24 es mayor o igual que 23=\", numero >=23)\n",
        "print(\"24 es menor o igual que 23=\", numero <=23)"
      ],
      "execution_count": 28,
      "outputs": [
        {
          "output_type": "stream",
          "name": "stdout",
          "text": [
            "24 es diferente de 23= True\n",
            "24 es mayor que 23= True\n",
            "24 es menor que 23= False\n",
            "24 es mayor o igual que 23= True\n",
            "24 es menor o igual que 23= False\n"
          ]
        }
      ]
    },
    {
      "cell_type": "markdown",
      "metadata": {
        "id": "hO5ix82k2EK_"
      },
      "source": [
        "###TIPO DE DATO STRING (STR)\n",
        "-Se maneja como arreglo (tipo de dato compuesto)\n",
        "-Se puede acceder a los elementos del string por medio del índice del cracater\n",
        "-Es mutable\n",
        "-Tiene métodos útiles (potentes\n",
        "-Slicing"
      ]
    },
    {
      "cell_type": "code",
      "metadata": {
        "colab": {
          "base_uri": "https://localhost:8080/"
        },
        "id": "goPQBUtU3dl4",
        "outputId": "fcc71221-ae9f-43c4-a1fc-3eed7767e74b"
      },
      "source": [
        "nombre ='jose'\n",
        "carrera =\"ingenieria en computación\"\n",
        "frase= \"\"\" El coonocimeinto\n",
        "me persigue...\n",
        "pero\n",
        "yo soy más rápido\"\"\"\n",
        "print (nombre)\n",
        "print(carrera)\n",
        "print(frase)"
      ],
      "execution_count": 30,
      "outputs": [
        {
          "output_type": "stream",
          "name": "stdout",
          "text": [
            "jose\n",
            "ingenieria en computación\n",
            " El coonocimeinto\n",
            "me persigue...\n",
            "pero\n",
            "yo soy más rápido\n"
          ]
        }
      ]
    }
  ]
}