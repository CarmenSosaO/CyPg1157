{
  "nbformat": 4,
  "nbformat_minor": 0,
  "metadata": {
    "colab": {
      "name": "fundamentos3_CyP_.ipynb",
      "provenance": [],
      "authorship_tag": "ABX9TyNnlMuxERoO28x5NPLlfTT9",
      "include_colab_link": true
    },
    "kernelspec": {
      "name": "python3",
      "display_name": "Python 3"
    },
    "language_info": {
      "name": "python"
    }
  },
  "cells": [
    {
      "cell_type": "markdown",
      "metadata": {
        "id": "view-in-github",
        "colab_type": "text"
      },
      "source": [
        "<a href=\"https://colab.research.google.com/github/CarmenSosaO/CyPg1157/blob/main/fundamentos3_CyP_.ipynb\" target=\"_parent\"><img src=\"https://colab.research.google.com/assets/colab-badge.svg\" alt=\"Open In Colab\"/></a>"
      ]
    },
    {
      "cell_type": "code",
      "metadata": {
        "id": "6MhYUoKcFSFY"
      },
      "source": [
        ""
      ],
      "execution_count": null,
      "outputs": []
    },
    {
      "cell_type": "markdown",
      "metadata": {
        "id": "qSnU3-HpFlVr"
      },
      "source": [
        "Repetición:\n",
        "\n",
        "Este tipo de estructura nos permite automatizar la ejecución repetitiva de código mientas ciertas condiciones s cumplan, tenemos 3 variantes de esta estructura en todos los lenguajes de programación:\n",
        "\n",
        "- Desde...hasta (estructura for)\n",
        "- haz mientras (structura While)\n",
        "- haz y luego validaz mientras( estructura Do-While) \n",
        "\n",
        "# FOR CON PYTHON\n",
        "```\n",
        "for j in range(10):\n",
        "    print(f\"Hola { j }\")\n",
        "```\n",
        "\n",
        "#FOR CON LENGUAJE C Y/O JAVA\n",
        "\n",
        "```\n",
        "for( int j=0 ; j<10 , j=j+1 ) {\n",
        "    printf(\"Hola %i \\n\" , j );\n",
        "}\n",
        "```\n",
        "En todos los lenguajes de programación existe un tipo especial de for conocido como **for-each**\n",
        "\n",
        "#For-each en Python\n",
        "En el caso de Python sería\n",
        "\n",
        "```\n",
        "for color in colores:\n",
        "    print(f\"Este es el color {color}\")\n",
        "```"
      ]
    },
    {
      "cell_type": "code",
      "metadata": {
        "id": "TvmBUfumHx6w"
      },
      "source": [
        "#Función range ()\n",
        "# range(<INICIO>, <STOP>, <INCREMENTO>)  aL IGUAL QUE EL SLICING, EL UNICO VALOR OBLIGATORIO ES EL STOP\n",
        "\n",
        "x = range (10)\n",
        "print(x)\n",
        "\n",
        "#es lo mismo que \n",
        "x = range (0,10, 1)\n",
        "print(x)\n",
        "\n",
        "#otro ejemplo cambiando el incremento\n",
        "x = range (0,10,2)\n",
        "print(x)\n",
        "\n",
        "for j in range(10): # range(0,10) --> 0,1,2,3,4,5,6,7,8,9\n",
        "    print(f\"Hola {j}\")\n",
        "print(\"-.-.-.-.-.-\")\n",
        "#es un ciclo, por cada vuelta le da una valor del rango a j, j puede ser cualquier letra\n",
        "for j in range(0,10,2): # range(0,10) --> 0,2,4,6,8 \n",
        "    print(f\"Hola {j}\")\n",
        "\n",
        "frutas = [\"Uva\", \"aguacate\", \"pera\", \"manzana\", \"sandia\" ]\n",
        "\n",
        "#ejemplo para imprimir individual\n",
        "\n",
        "print(frutas[0])\n",
        "print(frutas[1])\n",
        "print(frutas[2])\n",
        "print(frutas[3])\n",
        "print(frutas[4])\n",
        "\n",
        "#para evitar tantas lineas del codigo, se usa el for\n",
        "print(\"----FRUTAS----\")\n",
        "for index in range (5):  #SUSTITUYE LA J POR EL NOMBRE DE UNA VARIABLE\n",
        "        print(frutas[index])"
      ],
      "execution_count": null,
      "outputs": []
    },
    {
      "cell_type": "markdown",
      "metadata": {
        "id": "3H_ISKsRLTeS"
      },
      "source": [
        ""
      ]
    },
    {
      "cell_type": "code",
      "metadata": {
        "colab": {
          "base_uri": "https://localhost:8080/"
        },
        "id": "k7es-hPBLkQ8",
        "outputId": "54c6c5d3-21a7-4ca4-a1c9-05ac3655c6dd"
      },
      "source": [
        "for i in range(5):\n",
        "    print(\"+++++\")"
      ],
      "execution_count": null,
      "outputs": [
        {
          "output_type": "stream",
          "name": "stdout",
          "text": [
            "+++++\n",
            "+++++\n",
            "+++++\n",
            "+++++\n",
            "+++++\n"
          ]
        }
      ]
    },
    {
      "cell_type": "code",
      "metadata": {
        "colab": {
          "base_uri": "https://localhost:8080/"
        },
        "id": "eN_shfvQL2Zl",
        "outputId": "bf1a756e-c875-4f91-b38d-0ecdab7202fc"
      },
      "source": [
        "for x in range(1,20, 1):\n",
        "    print(x)\n",
        "print(\"Fin del programa\") #llega el 19 porque el stop no se incluye\n",
        "\n",
        "for x in range (10, 0, -1):\n",
        "    print(x)\n",
        "print(\"Fin del programa\")\n"
      ],
      "execution_count": null,
      "outputs": [
        {
          "output_type": "stream",
          "name": "stdout",
          "text": [
            "1\n",
            "2\n",
            "3\n",
            "4\n",
            "5\n",
            "6\n",
            "7\n",
            "8\n",
            "9\n",
            "10\n",
            "11\n",
            "12\n",
            "13\n",
            "14\n",
            "15\n",
            "16\n",
            "17\n",
            "18\n",
            "19\n",
            "Fin del programa\n",
            "10\n",
            "9\n",
            "8\n",
            "7\n",
            "6\n",
            "5\n",
            "4\n",
            "3\n",
            "2\n",
            "1\n",
            "Fin del programa\n"
          ]
        }
      ]
    },
    {
      "cell_type": "code",
      "metadata": {
        "colab": {
          "base_uri": "https://localhost:8080/"
        },
        "id": "eqgDlcc5Nrqz",
        "outputId": "831b5841-a2ef-4604-fd74-9a4e7bd74b0c"
      },
      "source": [
        "#EJEMPLO 3.3 PAG 113\n",
        "\n",
        "CUECER = 0\n",
        "NUM = 0\n",
        "N = int(input(\"Introduce un valor numérico mayor que 1: \"))\n",
        "for I in range(1, N+1, 1): #SE PONE EL N+1 PARA QUE INCLUYA EL STOP\n",
        "    N = int(input(\"Introduce un valor numérico: \"))\n",
        "    if N == 0:\n",
        "        CUECER += 1\n",
        "print(\"CUECER=\", CUECER)"
      ],
      "execution_count": null,
      "outputs": [
        {
          "output_type": "stream",
          "name": "stdout",
          "text": [
            "Introduce un valor numérico mayor que 1: 4\n",
            "Introduce un valor numérico mayor que 1: 0\n",
            "Introduce un valor numérico mayor que 1: 0\n",
            "Introduce un valor numérico mayor que 1: 2\n",
            "Introduce un valor numérico mayor que 1: 2\n",
            "CUECER= 2\n"
          ]
        }
      ]
    },
    {
      "cell_type": "code",
      "metadata": {
        "id": "6gQvyRwtQ2Jh"
      },
      "source": [
        "for f in range(1,11): print(f'7 x {f} = {7 * f}')\n",
        "print(f) "
      ],
      "execution_count": null,
      "outputs": []
    },
    {
      "cell_type": "code",
      "metadata": {
        "colab": {
          "base_uri": "https://localhost:8080/"
        },
        "id": "EQkcf0cQRcjS",
        "outputId": "7188af28-d2eb-4bc8-8195-6fdca0161b6f"
      },
      "source": [
        "for i in range(1, 11):\n",
        " print(f\"7 * {i} = \", 7*i)"
      ],
      "execution_count": null,
      "outputs": [
        {
          "output_type": "stream",
          "name": "stdout",
          "text": [
            "7 * 1 =  7\n",
            "7 * 2 =  14\n",
            "7 * 3 =  21\n",
            "7 * 4 =  28\n",
            "7 * 5 =  35\n",
            "7 * 6 =  42\n",
            "7 * 7 =  49\n",
            "7 * 8 =  56\n",
            "7 * 9 =  63\n",
            "7 * 10 =  70\n"
          ]
        }
      ]
    },
    {
      "cell_type": "code",
      "metadata": {
        "colab": {
          "base_uri": "https://localhost:8080/"
        },
        "id": "j7ShBpYJRgPE",
        "outputId": "2555124c-24c8-42a8-cd85-a906fa307274"
      },
      "source": [
        "for f in range( 1,11): \n",
        "    print(f\"7 x {f} = {7 * f}\")"
      ],
      "execution_count": null,
      "outputs": [
        {
          "output_type": "stream",
          "name": "stdout",
          "text": [
            "7 x 1 = 7\n",
            "7 x 2 = 14\n",
            "7 x 3 = 21\n",
            "7 x 4 = 28\n",
            "7 x 5 = 35\n",
            "7 x 6 = 42\n",
            "7 x 7 = 49\n",
            "7 x 8 = 56\n",
            "7 x 9 = 63\n",
            "7 x 10 = 70\n"
          ]
        }
      ]
    },
    {
      "cell_type": "code",
      "metadata": {
        "colab": {
          "base_uri": "https://localhost:8080/"
        },
        "id": "jo08AZN8RkCu",
        "outputId": "17677e29-8572-4b52-82a7-70da6ba046e4"
      },
      "source": [
        "n=7\n",
        "for i in range(1,11,1):\n",
        "    x=n*i\n",
        "    print(f\"{n} x {i} = {x}\")"
      ],
      "execution_count": null,
      "outputs": [
        {
          "output_type": "stream",
          "name": "stdout",
          "text": [
            "7 x 1 = 7\n",
            "7 x 2 = 14\n",
            "7 x 3 = 21\n",
            "7 x 4 = 28\n",
            "7 x 5 = 35\n",
            "7 x 6 = 42\n",
            "7 x 7 = 49\n",
            "7 x 8 = 56\n",
            "7 x 9 = 63\n",
            "7 x 10 = 70\n"
          ]
        }
      ]
    },
    {
      "cell_type": "markdown",
      "metadata": {
        "id": "m2DdTMkyR-n1"
      },
      "source": [
        "EJERCICIO\n",
        "¿Dame un numero entre 1 y 5? : 2\n",
        "Dame un numero entre 2 y 10 \n",
        "\n",
        "imprimir las tablas de los numeros en el rango dado"
      ]
    },
    {
      "cell_type": "code",
      "metadata": {
        "colab": {
          "base_uri": "https://localhost:8080/"
        },
        "id": "FJh8nxMMSOdI",
        "outputId": "2f5f9374-5f45-43e1-acdc-a1970074c229"
      },
      "source": [
        "N1 = int(input(\"Introduce un numero entre 1 y 5: \"))\n",
        "if N1 > 0 and N1 <= 5:\n",
        "    N2 = int(input(f\"Introduce un numero entre {N1} y 10: \"))\n",
        "    if N2 >= N1 and N2<=10:\n",
        "        for i in range(N1,N2+1): \n",
        "            for j in range(1,11):\n",
        "                print(f\"{i}x {j} = \", i*j)\n",
        "            print(\"-----------\")\n",
        "else:\n",
        "     print(\"valor fuera de rango 1-5\")"
      ],
      "execution_count": null,
      "outputs": [
        {
          "output_type": "stream",
          "name": "stdout",
          "text": [
            "Introduce un numero entre 1 y 5: 3\n",
            "Introduce un numero entre 3 y 10: 4\n",
            "3x 1 =  3\n",
            "3x 2 =  6\n",
            "3x 3 =  9\n",
            "3x 4 =  12\n",
            "3x 5 =  15\n",
            "3x 6 =  18\n",
            "3x 7 =  21\n",
            "3x 8 =  24\n",
            "3x 9 =  27\n",
            "3x 10 =  30\n",
            "-----------\n",
            "4x 1 =  4\n",
            "4x 2 =  8\n",
            "4x 3 =  12\n",
            "4x 4 =  16\n",
            "4x 5 =  20\n",
            "4x 6 =  24\n",
            "4x 7 =  28\n",
            "4x 8 =  32\n",
            "4x 9 =  36\n",
            "4x 10 =  40\n",
            "-----------\n"
          ]
        }
      ]
    },
    {
      "cell_type": "code",
      "metadata": {
        "colab": {
          "base_uri": "https://localhost:8080/"
        },
        "id": "iOzgZKW2Wrap",
        "outputId": "5e3e8a99-ab62-4341-cd6c-6476684a529b"
      },
      "source": [
        "#GENERADORES DE LISTAS\n",
        "numeros = [0,0,0,0,0]\n",
        "print(numeros)\n",
        "#para no poner manualmente cada elemento\n",
        "numeros = [0 for x in range(5)] #le dice que itere un for 5 veces y por cada vez imprimir un 0\n",
        "print(numeros)\n",
        "#empleando la variable de control x para el valor inicial\n",
        "numeros = [x for x in range(5)]\n",
        "print(numeros)\n",
        "# [10,20,30,40,50,60,70,80,90,100]\n",
        "print(\"------\")\n",
        "numeros=[(x+1)*10 for x in range(10)]\n",
        "print(numeros)\n",
        "print(\"------\")\n",
        "numeros = [ x for x in range(10,101,10) ]\n",
        "print(numeros)\n",
        "print(\"------\")\n",
        "numeros = [ x*10 for x in range(1,11,) ]\n",
        "print(numeros)"
      ],
      "execution_count": null,
      "outputs": [
        {
          "output_type": "stream",
          "name": "stdout",
          "text": [
            "[0, 0, 0, 0, 0]\n",
            "[0, 0, 0, 0, 0]\n",
            "[0, 1, 2, 3, 4]\n",
            "------\n",
            "[10, 20, 30, 40, 50, 60, 70, 80, 90, 100]\n",
            "------\n",
            "[10, 20, 30, 40, 50, 60, 70, 80, 90, 100]\n",
            "------\n",
            "[10, 20, 30, 40, 50, 60, 70, 80, 90, 100]\n"
          ]
        }
      ]
    },
    {
      "cell_type": "code",
      "metadata": {
        "id": "w9i-4Xd8YRuT",
        "colab": {
          "base_uri": "https://localhost:8080/"
        },
        "outputId": "a4fb7088-5fc7-425e-9f60-d05e9b112f62"
      },
      "source": [
        "#calcular promedio de edades\n",
        "edades = [0 for x in range(5)]\n",
        "print(edades)\n",
        "print(\"-------\")\n",
        "#en lugar de ir colocando la edad en cada sección\n",
        "edades=[0 for x in range(5)]\n",
        "edades[0] = int(input(\"Dame una edad : \"))\n",
        "print(edades)\n",
        "print(\"-------\")\n"
      ],
      "execution_count": null,
      "outputs": [
        {
          "output_type": "stream",
          "name": "stdout",
          "text": [
            "[0, 0, 0, 0, 0]\n",
            "-------\n",
            "Dame una edad : 6\n",
            "[6, 0, 0, 0, 0]\n",
            "-------\n"
          ]
        }
      ]
    },
    {
      "cell_type": "code",
      "metadata": {
        "id": "J68F2zDAcMGr"
      },
      "source": [
        "SUM = 0\n",
        "edades = [0 for x in range(5)]\n",
        "for x in range(5):\n",
        "    edades[x]= int(input(\"Introduce una edad: \"))\n",
        "    SUM = SUM + edades[x]\n",
        "    PROM = SUM/5\n",
        "pri1nt(edades)\n",
        "print(\"El promedio de edades es: \", PROM)"
      ],
      "execution_count": null,
      "outputs": []
    },
    {
      "cell_type": "code",
      "metadata": {
        "id": "qd-hVIWAcPHw"
      },
      "source": [
        "edades = [(x+18) for x in range(5)]\n",
        "promedio=sum(edades)/len(edades)\n",
        "print(promedio)"
      ],
      "execution_count": null,
      "outputs": []
    },
    {
      "cell_type": "code",
      "metadata": {
        "id": "S-2DaziOcUSO"
      },
      "source": [
        "import random\n",
        "print(random.random())\n",
        "print(random.uniform(5,11))\n",
        "val = round(random.uniform(5,11) , 2)\n",
        "print(val)\n",
        "\n",
        "valores = [round(random.uniform(5,11),2) for x in range(20)]\n",
        "print(valores)\n",
        "#IDENTIFICAR EL NUMERO MAYOR, EL MENOR Y EL PROMEDIO DE LOS VALORES "
      ],
      "execution_count": null,
      "outputs": []
    },
    {
      "cell_type": "markdown",
      "metadata": {
        "id": "PgpGwwSa5uig"
      },
      "source": [
        "#ESTRUCTURA DE CONTROL DE REPETICIÓN HAZ-MIENTRAS (WHILE)\n",
        "Una estructura de control haz-mientras nos pemrite ejecutar repetidamente bloques de programación mientras una condición se siga cumpliendo\n",
        "\n",
        "#sintaxis\n",
        "\n",
        "```\n",
        "while <condición>: #CONDICION BOOLEANA\n",
        "    <bloque de sentencias a ejecutar repetidamente>\n",
        "<siguiente sentencia posyerior al while>\n",
        "```\n",
        "\n",
        "la diferencia principal en comparación con la estructura for es que con WHILE **NO CONOCES** el número de ciclos a ejecutoar, en for si se conoce.\n",
        "\n",
        "Como ejemplo iniciemos con el siguiente enunciado\n",
        "\n",
        "Hacer un programa que solicite un valor entero positivo  y calcule repetidamente la mitad y se reasigne a la misma variable. El ciclo se debe detener cuando el resultado sea menor que 1.\n",
        "Mostrar en pantalla el resultado de cada cálculo y al final el número de iteraciones que realizó"
      ]
    },
    {
      "cell_type": "code",
      "metadata": {
        "colab": {
          "base_uri": "https://localhost:8080/"
        },
        "id": "yqV-DUS97yYa",
        "outputId": "b04e597c-3f6a-4dbe-ad4a-1ae8ac93df7e"
      },
      "source": [
        "valor = int(input(\"Introduce un número entero positivo: \"))\n",
        "contador = 0\n",
        "if valor > 0:\n",
        "    while valor > 1.0:\n",
        "        valor = valor/2\n",
        "        print(round(valor, 2))\n",
        "        contador += 1\n",
        "else:\n",
        "    print(\"El número es negativo, intenta de nuevo\")\n",
        "print(\"Total de iteraciones =\", contador)"
      ],
      "execution_count": 2,
      "outputs": [
        {
          "output_type": "stream",
          "name": "stdout",
          "text": [
            "Introduce un número entero positivo: 56\n",
            "28.0\n",
            "14.0\n",
            "7.0\n",
            "3.5\n",
            "1.75\n",
            "0.88\n",
            "Total de iteraciones = 6\n"
          ]
        }
      ]
    },
    {
      "cell_type": "code",
      "metadata": {
        "colab": {
          "base_uri": "https://localhost:8080/"
        },
        "id": "IsAZsmKU8roG",
        "outputId": "7928a757-e774-4301-ccbb-fbbe92f34ea4"
      },
      "source": [
        "valor = int(input(\"Dame un valor entero: \"))\n",
        "\n",
        "while valor !=0:\n",
        "    print(valor)\n",
        "    valor = int(input(\"Dame un valor entero: \"))\n",
        "print(\"Fin del programa\")"
      ],
      "execution_count": 4,
      "outputs": [
        {
          "output_type": "stream",
          "name": "stdout",
          "text": [
            "Dame un valor entero: 0\n",
            "Fin del programa\n"
          ]
        }
      ]
    },
    {
      "cell_type": "code",
      "metadata": {
        "id": "S-CuHmxg9QXA"
      },
      "source": [
        "#EJEMPLO DE BUCLE INFINITO POR NO MODIFICAR EL VALOR\n",
        "valor = int(input(\"Dame un valor entero: \"))\n",
        "while valor !=0:\n",
        "    print(valor)\n",
        "    print(\"otras cosas\")\n",
        "print(\"Fin del programa\")"
      ],
      "execution_count": null,
      "outputs": []
    },
    {
      "cell_type": "markdown",
      "metadata": {
        "id": "b5VxcZcW_lz3"
      },
      "source": [
        "Escribe un programa que permita generar la tabla de multiplicar de un número entero positivo N, comenzando desde el 1.\n",
        "Si el usuario escribe un númeor incorrect, el programa no se ejecuta- En cambio se pregunta de nuevo por la info hasta que el dato ingresado sea el correcto"
      ]
    },
    {
      "cell_type": "code",
      "metadata": {
        "id": "FCx7-y-B_5zo"
      },
      "source": [
        "N = int(input(\"Ingrese un número entero positivo: \"))\n",
        "if N>0:\n",
        "    print(\"Es correcto: \")\n",
        "    for i in range (10):\n",
        "        print(N, \"por\", i+1, \"es igual a:\", n*(i+1))\n",
        "else:\n",
        "    print(\"El número ingresado no es correcto\")\n",
        "\n"
      ],
      "execution_count": null,
      "outputs": []
    },
    {
      "cell_type": "code",
      "metadata": {
        "id": "OtmrOlkmBtcE"
      },
      "source": [
        "#EJEMPLO SIN EL AUMENTO EN i\n",
        "N = int(input(\"Ingrese un número entero positivo: \"))\n",
        "if N>0:\n",
        "    print(\"Es correcto: \")\n",
        "    for i in range (10):\n",
        "        print(N, \"por\", i, \"es igual a:\", n*i) #ya no llega a 10 porque retoma por defoult del 0 \n",
        "else:\n",
        "    print(\"El número ingresado no es correcto\")"
      ],
      "execution_count": null,
      "outputs": []
    },
    {
      "cell_type": "code",
      "metadata": {
        "id": "ha6335zsCE_4"
      },
      "source": [
        "#Solicionar el rango desde el range\n",
        "N = int(input(\"Ingrese un número entero positivo: \"))\n",
        "if N>0:\n",
        "    print(\"Es correcto: \")\n",
        "    for i in range (1, 11):\n",
        "        print(N, \"por\", i, \"es igual a:\", n*i) \n",
        "else:\n",
        "    print(\"El número ingresado no es correcto\")"
      ],
      "execution_count": null,
      "outputs": []
    },
    {
      "cell_type": "code",
      "metadata": {
        "colab": {
          "base_uri": "https://localhost:8080/"
        },
        "id": "zWODTgBwCIAO",
        "outputId": "5b476330-6dda-4bdb-d8d5-89fc6908c1c0"
      },
      "source": [
        "comprobar = True\n",
        "while comprobar == True:\n",
        "\n",
        "    N = int(input(\"Ingrese un número entero positivo: \"))\n",
        "    if N>0:\n",
        "        i=1 #se inicializa el valor en 1\n",
        "\n",
        "        while i<11:\n",
        "            print(N, \"por\", i, \"es igual a:\", N*i)\n",
        "\n",
        "            i += 1 #i va a ser igual a la misma variable más 1\n",
        "\n",
        "            comprobar = False\n",
        "    else:\n",
        "        print(\"El número ingresado no es correcto. Intente de nuevo\")"
      ],
      "execution_count": 10,
      "outputs": [
        {
          "output_type": "stream",
          "name": "stdout",
          "text": [
            "Ingrese un número entero positivo: 4\n",
            "4 por 1 es igual a: 4\n",
            "4 por 2 es igual a: 8\n",
            "4 por 3 es igual a: 12\n",
            "4 por 4 es igual a: 16\n",
            "4 por 5 es igual a: 20\n",
            "4 por 6 es igual a: 24\n",
            "4 por 7 es igual a: 28\n",
            "4 por 8 es igual a: 32\n",
            "4 por 9 es igual a: 36\n",
            "4 por 10 es igual a: 40\n"
          ]
        }
      ]
    },
    {
      "cell_type": "markdown",
      "metadata": {
        "id": "x0zkYH44KVjs"
      },
      "source": [
        "Escribe un programa que al recibir como dato un numero entero positivp N, calcule el resultado de la siguiente serie\n",
        "\n",
        "1+(1/2)+(1/3)+(1/4)+...+(1/n)\n",
        "\n",
        "Si el usuario escribe un número incorrecto, el programa no se ejecuta. En cambio pregunta de nuevo por la informacion hasta quie el dato ingresado sea correcto"
      ]
    },
    {
      "cell_type": "code",
      "metadata": {
        "colab": {
          "base_uri": "https://localhost:8080/"
        },
        "id": "GVNnNE9YK5Yx",
        "outputId": "c05511d0-c6cc-4ccd-bb9f-d29e9fb1290a"
      },
      "source": [
        "n = int(input(\"Ingrese un número entero positivo: \"))\n",
        "    \n",
        "if N>0:\n",
        "    resultado=0\n",
        "\n",
        "    for i in range (1, n+1):\n",
        "        resultado += (1/i)\n",
        "\n",
        "        print(\"El resultado de la serie es : \", resultado)\n",
        "else:\n",
        "    print(\"El número ingresado no es correcto. Intente de nuevo\")"
      ],
      "execution_count": 12,
      "outputs": [
        {
          "output_type": "stream",
          "name": "stdout",
          "text": [
            "Ingrese un número entero positivo: 4\n",
            "El resultado de la serie es :  1.0\n",
            "El resultado de la serie es :  1.5\n",
            "El resultado de la serie es :  1.8333333333333333\n",
            "El resultado de la serie es :  2.083333333333333\n"
          ]
        }
      ]
    },
    {
      "cell_type": "code",
      "metadata": {
        "colab": {
          "base_uri": "https://localhost:8080/"
        },
        "id": "eXh8NEEbMXM3",
        "outputId": "638a5f97-6ea0-4605-bb23-4e253d17b58a"
      },
      "source": [
        "comprobar = True\n",
        "\n",
        "while comprobar ==True:\n",
        "    n = int(input(\"Ingrese un número entero positivo: \"))\n",
        "    \n",
        "    if n>0:\n",
        "\n",
        "        comprobar = False\n",
        "        resultado=0\n",
        "\n",
        "        for i in range (1, n+1):\n",
        "            resultado += (1/i)\n",
        "\n",
        "            print(\"El resultado de la serie es : \", resultado)\n",
        "    else:\n",
        "            print(\"El número ingresado no es correcto. Intente de nuevo\")"
      ],
      "execution_count": 16,
      "outputs": [
        {
          "output_type": "stream",
          "name": "stdout",
          "text": [
            "Ingrese un número entero positivo: 3\n",
            "El resultado de la serie es :  1.0\n",
            "El resultado de la serie es :  1.5\n",
            "El resultado de la serie es :  1.8333333333333333\n"
          ]
        }
      ]
    },
    {
      "cell_type": "code",
      "metadata": {
        "colab": {
          "base_uri": "https://localhost:8080/"
        },
        "id": "gzN9bOc3N5I9",
        "outputId": "e6f0f51d-9bac-489b-c325-5c508841e9d7"
      },
      "source": [
        "\n",
        "comprobar = True\n",
        "\n",
        "while comprobar ==True:\n",
        "    n = int(input(\"Ingrese un número entero positivo: \"))\n",
        "    \n",
        "    if n>0:\n",
        "\n",
        "        comprobar = False\n",
        "        resultado=0\n",
        "\n",
        "        for i in range (1, n+1):\n",
        "            resultado += (1/i)\n",
        "\n",
        "            print(\"El resultado de la serie es : \", resultado)\n",
        "    else:\n",
        "            print(\"El número ingresado no es correcto. Intente de nuevo\")"
      ],
      "execution_count": 17,
      "outputs": [
        {
          "output_type": "stream",
          "name": "stdout",
          "text": [
            "Ingrese un número entero positivo: -5\n",
            "El número ingresado no es correcto. Intente de nuevo\n",
            "Ingrese un número entero positivo: 3\n",
            "El resultado de la serie es :  1.0\n",
            "El resultado de la serie es :  1.5\n",
            "El resultado de la serie es :  1.8333333333333333\n"
          ]
        }
      ]
    },
    {
      "cell_type": "code",
      "metadata": {
        "id": "Po6qRgdyJ-IB"
      },
      "source": [
        ""
      ],
      "execution_count": null,
      "outputs": []
    }
  ]
}