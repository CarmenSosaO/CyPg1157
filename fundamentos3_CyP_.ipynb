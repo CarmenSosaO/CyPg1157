{
  "nbformat": 4,
  "nbformat_minor": 0,
  "metadata": {
    "colab": {
      "name": "fundamentos3_CyP_.ipynb",
      "provenance": [],
      "authorship_tag": "ABX9TyMc9Gi28skA9QDU0owpi9TW",
      "include_colab_link": true
    },
    "kernelspec": {
      "name": "python3",
      "display_name": "Python 3"
    },
    "language_info": {
      "name": "python"
    }
  },
  "cells": [
    {
      "cell_type": "markdown",
      "metadata": {
        "id": "view-in-github",
        "colab_type": "text"
      },
      "source": [
        "<a href=\"https://colab.research.google.com/github/CarmenSosaO/CyPg1157/blob/main/fundamentos3_CyP_.ipynb\" target=\"_parent\"><img src=\"https://colab.research.google.com/assets/colab-badge.svg\" alt=\"Open In Colab\"/></a>"
      ]
    },
    {
      "cell_type": "code",
      "metadata": {
        "id": "6MhYUoKcFSFY"
      },
      "source": [
        ""
      ],
      "execution_count": null,
      "outputs": []
    },
    {
      "cell_type": "markdown",
      "metadata": {
        "id": "qSnU3-HpFlVr"
      },
      "source": [
        "Repetición:\n",
        "\n",
        "Este tipo de estructura nos permite automatizar la ejecución repetitiva de código mientas ciertas condiciones s cumplan, tenemos 3 variantes de esta estructura en todos los lenguajes de programación:\n",
        "\n",
        "- Desde...hasta (estructura for)\n",
        "- haz mientras (structura While)\n",
        "- haz y luego validaz mientras( estructura Do-While) \n",
        "\n",
        "# FOR CON PYTHON\n",
        "```\n",
        "for j in range(10):\n",
        "    print(f\"Hola { j }\")\n",
        "```\n",
        "\n",
        "#FOR CON LENGUAJE C Y/O JAVA\n",
        "\n",
        "```\n",
        "for( int j=0 ; j<10 , j=j+1 ) {\n",
        "    printf(\"Hola %i \\n\" , j );\n",
        "}\n",
        "```\n",
        "En todos los lenguajes de programación existe un tipo especial de for conocido como **for-each**\n",
        "\n",
        "#For-each en Python\n",
        "En el caso de Python sería\n",
        "\n",
        "```\n",
        "for color in colores:\n",
        "    print(f\"Este es el color {color}\")\n",
        "```"
      ]
    },
    {
      "cell_type": "code",
      "metadata": {
        "id": "TvmBUfumHx6w"
      },
      "source": [
        "#Función range ()\n",
        "# range(<INICIO>, <STOP>, <INCREMENTO>)  aL IGUAL QUE EL SLICING, EL UNICO VALOR OBLIGATORIO ES EL STOP\n",
        "\n",
        "x = range (10)\n",
        "print(x)\n",
        "\n",
        "#es lo mismo que \n",
        "x = range (0,10, 1)\n",
        "print(x)\n",
        "\n",
        "#otro ejemplo cambiando el incremento\n",
        "x = range (0,10,2)\n",
        "print(x)\n",
        "\n",
        "for j in range(10): # range(0,10) --> 0,1,2,3,4,5,6,7,8,9\n",
        "    print(f\"Hola {j}\")\n",
        "print(\"-.-.-.-.-.-\")\n",
        "#es un ciclo, por cada vuelta le da una valor del rango a j, j puede ser cualquier letra\n",
        "for j in range(0,10,2): # range(0,10) --> 0,2,4,6,8 \n",
        "    print(f\"Hola {j}\")\n",
        "\n",
        "frutas = [\"Uva\", \"aguacate\", \"pera\", \"manzana\", \"sandia\" ]\n",
        "\n",
        "#ejemplo para imprimir individual\n",
        "\n",
        "print(frutas[0])\n",
        "print(frutas[1])\n",
        "print(frutas[2])\n",
        "print(frutas[3])\n",
        "print(frutas[4])\n",
        "\n",
        "#para evitar tantas lineas del codigo, se usa el for\n",
        "print(\"----FRUTAS----\")\n",
        "for index in range (5):  #SUSTITUYE LA J POR EL NOMBRE DE UNA VARIABLE\n",
        "        print(frutas[index])"
      ],
      "execution_count": null,
      "outputs": []
    },
    {
      "cell_type": "markdown",
      "metadata": {
        "id": "3H_ISKsRLTeS"
      },
      "source": [
        ""
      ]
    },
    {
      "cell_type": "code",
      "metadata": {
        "colab": {
          "base_uri": "https://localhost:8080/"
        },
        "id": "k7es-hPBLkQ8",
        "outputId": "54c6c5d3-21a7-4ca4-a1c9-05ac3655c6dd"
      },
      "source": [
        "for i in range(5):\n",
        "    print(\"+++++\")"
      ],
      "execution_count": 9,
      "outputs": [
        {
          "output_type": "stream",
          "name": "stdout",
          "text": [
            "+++++\n",
            "+++++\n",
            "+++++\n",
            "+++++\n",
            "+++++\n"
          ]
        }
      ]
    }
  ]
}