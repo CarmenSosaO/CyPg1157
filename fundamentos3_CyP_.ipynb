{
  "nbformat": 4,
  "nbformat_minor": 0,
  "metadata": {
    "colab": {
      "name": "fundamentos3_CyP_.ipynb",
      "provenance": [],
      "authorship_tag": "ABX9TyMVDJoqhM4cyc/gIt6HFgtt",
      "include_colab_link": true
    },
    "kernelspec": {
      "name": "python3",
      "display_name": "Python 3"
    },
    "language_info": {
      "name": "python"
    }
  },
  "cells": [
    {
      "cell_type": "markdown",
      "metadata": {
        "id": "view-in-github",
        "colab_type": "text"
      },
      "source": [
        "<a href=\"https://colab.research.google.com/github/CarmenSosaO/CyPg1157/blob/main/fundamentos3_CyP_.ipynb\" target=\"_parent\"><img src=\"https://colab.research.google.com/assets/colab-badge.svg\" alt=\"Open In Colab\"/></a>"
      ]
    },
    {
      "cell_type": "code",
      "metadata": {
        "id": "6MhYUoKcFSFY"
      },
      "source": [
        ""
      ],
      "execution_count": null,
      "outputs": []
    },
    {
      "cell_type": "markdown",
      "metadata": {
        "id": "qSnU3-HpFlVr"
      },
      "source": [
        "Repetición:\n",
        "\n",
        "Este tipo de estructura nos permite automatizar la ejecución repetitiva de código mientas ciertas condiciones s cumplan, tenemos 3 variantes de esta estructura en todos los lenguajes de programación:\n",
        "\n",
        "- Desde...hasta (estructura for)\n",
        "- haz mientras (structura While)\n",
        "- haz y luego validaz mientras( estructura Do-While) \n",
        "\n",
        "# FOR CON PYTHON\n",
        "```\n",
        "for j in range(10):\n",
        "    print(f\"Hola { j }\")\n",
        "```\n",
        "\n",
        "#FOR CON LENGUAJE C Y/O JAVA\n",
        "\n",
        "```\n",
        "for( int j=0 ; j<10 , j=j+1 ) {\n",
        "    printf(\"Hola %i \\n\" , j );\n",
        "}\n",
        "```\n",
        "En todos los lenguajes de programación existe un tipo especial de for conocido como **for-each**\n",
        "\n",
        "#For-each en Python\n",
        "En el caso de Python sería\n",
        "\n",
        "```\n",
        "for color in colores:\n",
        "    print(f\"Este es el color {color}\")\n",
        "```"
      ]
    },
    {
      "cell_type": "code",
      "metadata": {
        "id": "TvmBUfumHx6w"
      },
      "source": [
        "#Función range ()\n",
        "# range(<INICIO>, <STOP>, <INCREMENTO>)  aL IGUAL QUE EL SLICING, EL UNICO VALOR OBLIGATORIO ES EL STOP\n",
        "\n",
        "x = range (10)\n",
        "print(x)\n",
        "\n",
        "#es lo mismo que \n",
        "x = range (0,10, 1)\n",
        "print(x)\n",
        "\n",
        "#otro ejemplo cambiando el incremento\n",
        "x = range (0,10,2)\n",
        "print(x)\n",
        "\n",
        "for j in range(10): # range(0,10) --> 0,1,2,3,4,5,6,7,8,9\n",
        "    print(f\"Hola {j}\")\n",
        "print(\"-.-.-.-.-.-\")\n",
        "#es un ciclo, por cada vuelta le da una valor del rango a j, j puede ser cualquier letra\n",
        "for j in range(0,10,2): # range(0,10) --> 0,2,4,6,8 \n",
        "    print(f\"Hola {j}\")\n",
        "\n",
        "frutas = [\"Uva\", \"aguacate\", \"pera\", \"manzana\", \"sandia\" ]\n",
        "\n",
        "#ejemplo para imprimir individual\n",
        "\n",
        "print(frutas[0])\n",
        "print(frutas[1])\n",
        "print(frutas[2])\n",
        "print(frutas[3])\n",
        "print(frutas[4])\n",
        "\n",
        "#para evitar tantas lineas del codigo, se usa el for\n",
        "print(\"----FRUTAS----\")\n",
        "for index in range (5):  #SUSTITUYE LA J POR EL NOMBRE DE UNA VARIABLE\n",
        "        print(frutas[index])"
      ],
      "execution_count": null,
      "outputs": []
    },
    {
      "cell_type": "markdown",
      "metadata": {
        "id": "3H_ISKsRLTeS"
      },
      "source": [
        ""
      ]
    },
    {
      "cell_type": "code",
      "metadata": {
        "colab": {
          "base_uri": "https://localhost:8080/"
        },
        "id": "k7es-hPBLkQ8",
        "outputId": "54c6c5d3-21a7-4ca4-a1c9-05ac3655c6dd"
      },
      "source": [
        "for i in range(5):\n",
        "    print(\"+++++\")"
      ],
      "execution_count": null,
      "outputs": [
        {
          "output_type": "stream",
          "name": "stdout",
          "text": [
            "+++++\n",
            "+++++\n",
            "+++++\n",
            "+++++\n",
            "+++++\n"
          ]
        }
      ]
    },
    {
      "cell_type": "code",
      "metadata": {
        "colab": {
          "base_uri": "https://localhost:8080/"
        },
        "id": "eN_shfvQL2Zl",
        "outputId": "bf1a756e-c875-4f91-b38d-0ecdab7202fc"
      },
      "source": [
        "for x in range(1,20, 1):\n",
        "    print(x)\n",
        "print(\"Fin del programa\") #llega el 19 porque el stop no se incluye\n",
        "\n",
        "for x in range (10, 0, -1):\n",
        "    print(x)\n",
        "print(\"Fin del programa\")\n"
      ],
      "execution_count": 2,
      "outputs": [
        {
          "output_type": "stream",
          "name": "stdout",
          "text": [
            "1\n",
            "2\n",
            "3\n",
            "4\n",
            "5\n",
            "6\n",
            "7\n",
            "8\n",
            "9\n",
            "10\n",
            "11\n",
            "12\n",
            "13\n",
            "14\n",
            "15\n",
            "16\n",
            "17\n",
            "18\n",
            "19\n",
            "Fin del programa\n",
            "10\n",
            "9\n",
            "8\n",
            "7\n",
            "6\n",
            "5\n",
            "4\n",
            "3\n",
            "2\n",
            "1\n",
            "Fin del programa\n"
          ]
        }
      ]
    },
    {
      "cell_type": "code",
      "metadata": {
        "colab": {
          "base_uri": "https://localhost:8080/"
        },
        "id": "eqgDlcc5Nrqz",
        "outputId": "831b5841-a2ef-4604-fd74-9a4e7bd74b0c"
      },
      "source": [
        "#EJEMPLO 3.3 PAG 113\n",
        "\n",
        "CUECER = 0\n",
        "NUM = 0\n",
        "N = int(input(\"Introduce un valor numérico mayor que 1: \"))\n",
        "for I in range(1, N+1, 1): #SE PONE EL N+1 PARA QUE INCLUYA EL STOP\n",
        "    N = int(input(\"Introduce un valor numérico: \"))\n",
        "    if N == 0:\n",
        "        CUECER += 1\n",
        "print(\"CUECER=\", CUECER)"
      ],
      "execution_count": 5,
      "outputs": [
        {
          "output_type": "stream",
          "name": "stdout",
          "text": [
            "Introduce un valor numérico mayor que 1: 4\n",
            "Introduce un valor numérico mayor que 1: 0\n",
            "Introduce un valor numérico mayor que 1: 0\n",
            "Introduce un valor numérico mayor que 1: 2\n",
            "Introduce un valor numérico mayor que 1: 2\n",
            "CUECER= 2\n"
          ]
        }
      ]
    },
    {
      "cell_type": "code",
      "metadata": {
        "id": "6gQvyRwtQ2Jh"
      },
      "source": [
        "for f in range(1,11): print(f'7 x {f} = {7 * f}')\n",
        "print(f) "
      ],
      "execution_count": null,
      "outputs": []
    },
    {
      "cell_type": "code",
      "metadata": {
        "colab": {
          "base_uri": "https://localhost:8080/"
        },
        "id": "EQkcf0cQRcjS",
        "outputId": "7188af28-d2eb-4bc8-8195-6fdca0161b6f"
      },
      "source": [
        "for i in range(1, 11):\n",
        " print(f\"7 * {i} = \", 7*i)"
      ],
      "execution_count": 6,
      "outputs": [
        {
          "output_type": "stream",
          "name": "stdout",
          "text": [
            "7 * 1 =  7\n",
            "7 * 2 =  14\n",
            "7 * 3 =  21\n",
            "7 * 4 =  28\n",
            "7 * 5 =  35\n",
            "7 * 6 =  42\n",
            "7 * 7 =  49\n",
            "7 * 8 =  56\n",
            "7 * 9 =  63\n",
            "7 * 10 =  70\n"
          ]
        }
      ]
    },
    {
      "cell_type": "code",
      "metadata": {
        "colab": {
          "base_uri": "https://localhost:8080/"
        },
        "id": "j7ShBpYJRgPE",
        "outputId": "2555124c-24c8-42a8-cd85-a906fa307274"
      },
      "source": [
        "for f in range( 1,11): \n",
        "    print(f\"7 x {f} = {7 * f}\")"
      ],
      "execution_count": 8,
      "outputs": [
        {
          "output_type": "stream",
          "name": "stdout",
          "text": [
            "7 x 1 = 7\n",
            "7 x 2 = 14\n",
            "7 x 3 = 21\n",
            "7 x 4 = 28\n",
            "7 x 5 = 35\n",
            "7 x 6 = 42\n",
            "7 x 7 = 49\n",
            "7 x 8 = 56\n",
            "7 x 9 = 63\n",
            "7 x 10 = 70\n"
          ]
        }
      ]
    },
    {
      "cell_type": "code",
      "metadata": {
        "colab": {
          "base_uri": "https://localhost:8080/"
        },
        "id": "jo08AZN8RkCu",
        "outputId": "17677e29-8572-4b52-82a7-70da6ba046e4"
      },
      "source": [
        "n=7\n",
        "for i in range(1,11,1):\n",
        "    x=n*i\n",
        "    print(f\"{n} x {i} = {x}\")"
      ],
      "execution_count": 9,
      "outputs": [
        {
          "output_type": "stream",
          "name": "stdout",
          "text": [
            "7 x 1 = 7\n",
            "7 x 2 = 14\n",
            "7 x 3 = 21\n",
            "7 x 4 = 28\n",
            "7 x 5 = 35\n",
            "7 x 6 = 42\n",
            "7 x 7 = 49\n",
            "7 x 8 = 56\n",
            "7 x 9 = 63\n",
            "7 x 10 = 70\n"
          ]
        }
      ]
    },
    {
      "cell_type": "markdown",
      "metadata": {
        "id": "m2DdTMkyR-n1"
      },
      "source": [
        "EJERCICIO\n",
        "¿Dame un numero entre 1 y 5? : 2\n",
        "Dame un numero entre 2 y 10 \n",
        "\n",
        "imprimir las tablas de los numeros en el rango dado"
      ]
    },
    {
      "cell_type": "code",
      "metadata": {
        "colab": {
          "base_uri": "https://localhost:8080/"
        },
        "id": "FJh8nxMMSOdI",
        "outputId": "885b0b21-5bbf-4755-b044-773559f4bf27"
      },
      "source": [
        "N1 = int(input(\"Introduce un numero entre 1 y 5: \"))\n",
        "if N1 > 0 and N1 <= 5:\n",
        "    N2 = int(input(f\"Introduce un numero entre {N1} y 10: \"))\n",
        "    if N2 >= N1 and N2<=10:\n",
        "        for i in range(N1,N2+1): \n",
        "            for j in range(1,11):\n",
        "                print(f\"{i}x {j} = \", i*j)\n",
        "            print(\"-----------\")\n",
        "else:\n",
        "     print(\"valor fuera de rango 1-5\")"
      ],
      "execution_count": 17,
      "outputs": [
        {
          "name": "stdout",
          "output_type": "stream",
          "text": [
            "Introduce un numero entre 1 y 5: 5\n",
            "Introduce un numero entre 5 y 10: 3\n"
          ]
        }
      ]
    },
    {
      "cell_type": "code",
      "metadata": {
        "colab": {
          "base_uri": "https://localhost:8080/"
        },
        "id": "iOzgZKW2Wrap",
        "outputId": "5e3e8a99-ab62-4341-cd6c-6476684a529b"
      },
      "source": [
        "#GENERADORES DE LISTAS\n",
        "numeros = [0,0,0,0,0]\n",
        "print(numeros)\n",
        "#para no poner manualmente cada elemento\n",
        "numeros = [0 for x in range(5)] #le dice que itere un for 5 veces y por cada vez imprimir un 0\n",
        "print(numeros)\n",
        "#empleando la variable de control x para el valor inicial\n",
        "numeros = [x for x in range(5)]\n",
        "print(numeros)\n",
        "# [10,20,30,40,50,60,70,80,90,100]\n",
        "print(\"------\")\n",
        "numeros=[(x+1)*10 for x in range(10)]\n",
        "print(numeros)\n",
        "print(\"------\")\n",
        "numeros = [ x for x in range(10,101,10) ]\n",
        "print(numeros)\n",
        "print(\"------\")\n",
        "numeros = [ x*10 for x in range(1,11,) ]\n",
        "print(numeros)"
      ],
      "execution_count": 20,
      "outputs": [
        {
          "output_type": "stream",
          "name": "stdout",
          "text": [
            "[0, 0, 0, 0, 0]\n",
            "[0, 0, 0, 0, 0]\n",
            "[0, 1, 2, 3, 4]\n",
            "------\n",
            "[10, 20, 30, 40, 50, 60, 70, 80, 90, 100]\n",
            "------\n",
            "[10, 20, 30, 40, 50, 60, 70, 80, 90, 100]\n",
            "------\n",
            "[10, 20, 30, 40, 50, 60, 70, 80, 90, 100]\n"
          ]
        }
      ]
    },
    {
      "cell_type": "code",
      "metadata": {
        "id": "w9i-4Xd8YRuT"
      },
      "source": [
        "#calcular promedio de edades\n",
        "edades = [0 for x in range(5)]\n",
        "print(edades)\n",
        "print(\"-------\")\n",
        "#en lugar de ir colocando la edad en cada sección\n",
        "edades=[0 for x in range(5)]\n",
        "edades[0] = int(input(\"Dame una edad : \"))\n",
        "print(edades)\n",
        "print(\"-------\")\n"
      ],
      "execution_count": null,
      "outputs": []
    },
    {
      "cell_type": "code",
      "metadata": {
        "id": "J68F2zDAcMGr"
      },
      "source": [
        "SUM = 0\n",
        "edades = [0 for x in range(5)]\n",
        "for x in range(5):\n",
        "    edades[x]= int(input(\"Introduce una edad: \"))\n",
        "    SUM = SUM + edades[x]\n",
        "    PROM = SUM/5\n",
        "pri1nt(edades)\n",
        "print(\"El promedio de edades es: \", PROM)"
      ],
      "execution_count": null,
      "outputs": []
    },
    {
      "cell_type": "code",
      "metadata": {
        "id": "qd-hVIWAcPHw"
      },
      "source": [
        "edades = [(x+18) for x in range(5)]\n",
        "promedio=sum(edades)/len(edades)\n",
        "print(promedio)"
      ],
      "execution_count": null,
      "outputs": []
    },
    {
      "cell_type": "code",
      "metadata": {
        "id": "S-2DaziOcUSO"
      },
      "source": [
        "import random\n",
        "print(random.random())\n",
        "print(random.uniform(5,11))\n",
        "val = round(random.uniform(5,11) , 2)\n",
        "print(val)\n",
        "\n",
        "valores = [round(random.uniform(5,11),2) for x in range(20)]\n",
        "print(valores)\n",
        "#IDENTIFICAR EL NUMERO MAYOR, EL MENOR Y EL PROMEDIO DE LOS VALORES "
      ],
      "execution_count": null,
      "outputs": []
    }
  ]
}