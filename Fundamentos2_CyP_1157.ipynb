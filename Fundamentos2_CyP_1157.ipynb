{
  "nbformat": 4,
  "nbformat_minor": 0,
  "metadata": {
    "colab": {
      "name": "Fundamentos2_CyP_1157.ipynb",
      "provenance": [],
      "collapsed_sections": [],
      "authorship_tag": "ABX9TyOGt9FfsoXyhVYEwyb9ah6X",
      "include_colab_link": true
    },
    "kernelspec": {
      "display_name": "Python 3",
      "name": "python3"
    },
    "language_info": {
      "name": "python"
    }
  },
  "cells": [
    {
      "cell_type": "markdown",
      "metadata": {
        "id": "view-in-github",
        "colab_type": "text"
      },
      "source": [
        "<a href=\"https://colab.research.google.com/github/CarmenSosaO/CyPg1157/blob/main/Fundamentos2_CyP_1157.ipynb\" target=\"_parent\"><img src=\"https://colab.research.google.com/assets/colab-badge.svg\" alt=\"Open In Colab\"/></a>"
      ]
    },
    {
      "cell_type": "code",
      "metadata": {
        "id": "YX9yzWwEFUmL"
      },
      "source": [
        ""
      ],
      "execution_count": null,
      "outputs": []
    },
    {
      "cell_type": "markdown",
      "metadata": {
        "id": "etOyehcCFa8E"
      },
      "source": [
        "#TIPOS DE DATOS ESTRUCTURADOS DE PYTHON\n",
        "\n",
        "1. Listas\n",
        "2. Tuplas\n",
        "3. Diccionarios\n",
        "4. Conjuntos (opcional)"
      ]
    },
    {
      "cell_type": "markdown",
      "metadata": {
        "id": "6Htkskk7Fpl8"
      },
      "source": [
        "#LISTAS\n",
        "\n",
        "- Tipo de dato que agrupa variables o valores.\n",
        "- Estructura secuencial (indexados empezando por 0)\n",
        "- Se declara de dos formas\n",
        "  - usando [ ]\n",
        "  - usando list ()  constructor list\n",
        "  -Usando un generador\n",
        "- Puede contener tipos de dato diversos (en otros lenguajes de prog, eso no es posible de forma directa)\n",
        "- Los elementos internos se seleciconan con [ ] \n",
        "- Soporta slicing\n",
        "- SON MUTABLES (Se pueen modificar a lo largo del programa)\n",
        "-GENERADORES [variable for x in rango (valor del rango)] \n",
        "- Al ser una clase contiene muchos métodos útiles"
      ]
    },
    {
      "cell_type": "code",
      "metadata": {
        "colab": {
          "base_uri": "https://localhost:8080/"
        },
        "id": "j18jp3pTGt4F",
        "outputId": "a2cc3ae9-f51c-4d61-805a-b8e58d1fa3a3"
      },
      "source": [
        "numeros = [10, 5, 2, 3, 1 ]\n",
        "print (numeros)\n",
        "\n",
        "numeros2 = list() #declarara lista vacia e ir integrando valores\n",
        "numeros2.append(10) # método append agregar nuevos elementos a una lista\n",
        "numeros2.append(5)\n",
        "numeros2.append(2)\n",
        "numeros2.append(3)\n",
        "numeros2.append(1)\n",
        "\n",
        "print(numeros2)\n",
        "numeros[2] = 20  #cambiar el valor de uno de los elemtnos de la lista, en este caso el 2\n",
        "print(numeros)\n",
        "numeros[-1] = 33\n",
        "\n",
        "print(numeros)\n"
      ],
      "execution_count": null,
      "outputs": [
        {
          "name": "stdout",
          "output_type": "stream",
          "text": [
            "[10, 5, 2, 3, 1]\n",
            "[10, 5, 2, 3, 1]\n",
            "[10, 5, 20, 3, 1]\n",
            "[10, 5, 20, 3, 33]\n"
          ]
        }
      ]
    },
    {
      "cell_type": "code",
      "metadata": {
        "colab": {
          "base_uri": "https://localhost:8080/"
        },
        "id": "YLy7I3SJIc9K",
        "outputId": "560ede10-297f-4855-df8c-4236a91807eb"
      },
      "source": [
        "#EJEMPLOS DE CÓMO LAS LISTAS PUEDE CONTENER DATOS DIVERSOS\n",
        "\n",
        "cosas = [12, 2, True, \"José\", 1.57, [\"pera\", \"kiwi\", \"uva\" ] ]\n",
        "print(cosas)\n",
        "print(cosas [1])\n",
        "print(cosas[4])\n",
        "print(cosas[5])\n",
        "print(cosas[5][1]) #hay dos selectores [], el primer selector, llama a la lista\n",
        "#como el elemento seleccionado es una lista puedo sacar un segundo selector para seleccionar otro elemento de ella\n",
        "print(cosas[3][1:3:]) #seleccionar solo la os de Jose\n",
        "cosas[3] =cosas[3].upper() #convertir en mayusculas\n",
        "print (cosas)"
      ],
      "execution_count": null,
      "outputs": [
        {
          "name": "stdout",
          "output_type": "stream",
          "text": [
            "[12, 2, True, 'José', 1.57, ['pera', 'kiwi', 'uva']]\n",
            "2\n",
            "1.57\n",
            "['pera', 'kiwi', 'uva']\n",
            "kiwi\n",
            "os\n",
            "[12, 2, True, 'JOSÉ', 1.57, ['pera', 'kiwi', 'uva']]\n"
          ]
        }
      ]
    },
    {
      "cell_type": "code",
      "metadata": {
        "colab": {
          "base_uri": "https://localhost:8080/"
        },
        "id": "rOiogxPqMF3T",
        "outputId": "89a7e2ed-29b1-4d98-f832-0f8c5e139f4a"
      },
      "source": [
        "numeros = [1,2,3,4,5,6,7,8,9,10,11] \n",
        "print(numeros)\n",
        "# EJERICIO 1. Con slicing. obtener del 4 al 8\n",
        "print(numeros[3:8] ) #se coloca una posición extra\n",
        "#EJERCICIO 2. obtener [9,10] \n",
        "print (numeros[8:10] )\n",
        "print (numeros[-3:-1:] )\n",
        "#EJERCICIO 3. Imprimir la lista en orden inverso [11, 10, 9, ...1] con slicing\n",
        "print(numeros [::-1] )\n"
      ],
      "execution_count": null,
      "outputs": [
        {
          "name": "stdout",
          "output_type": "stream",
          "text": [
            "[1, 2, 3, 4, 5, 6, 7, 8, 9, 10, 11]\n",
            "[4, 5, 6, 7, 8]\n",
            "[9, 10]\n",
            "[9, 10]\n",
            "[11, 10, 9, 8, 7, 6, 5, 4, 3, 2, 1]\n"
          ]
        }
      ]
    },
    {
      "cell_type": "code",
      "metadata": {
        "colab": {
          "base_uri": "https://localhost:8080/"
        },
        "id": "AASBKkaTPpUI",
        "outputId": "ac383fd1-e67b-4ae6-d7ca-bfb7162bedab"
      },
      "source": [
        "#CREAR UNA LISTA CON UN GENERADOR\n",
        "numeros = [x for x in range (101)] # es hasta el 100, el tope no se incluye\n",
        "print(numeros) \n",
        "\n",
        "#multiplicar cada valor por 3\n",
        "numeros = [x*3 for x in range (101)]\n",
        "print(numeros)"
      ],
      "execution_count": null,
      "outputs": [
        {
          "name": "stdout",
          "output_type": "stream",
          "text": [
            "[0, 1, 2, 3, 4, 5, 6, 7, 8, 9, 10, 11, 12, 13, 14, 15, 16, 17, 18, 19, 20, 21, 22, 23, 24, 25, 26, 27, 28, 29, 30, 31, 32, 33, 34, 35, 36, 37, 38, 39, 40, 41, 42, 43, 44, 45, 46, 47, 48, 49, 50, 51, 52, 53, 54, 55, 56, 57, 58, 59, 60, 61, 62, 63, 64, 65, 66, 67, 68, 69, 70, 71, 72, 73, 74, 75, 76, 77, 78, 79, 80, 81, 82, 83, 84, 85, 86, 87, 88, 89, 90, 91, 92, 93, 94, 95, 96, 97, 98, 99, 100]\n",
            "[0, 3, 6, 9, 12, 15, 18, 21, 24, 27, 30, 33, 36, 39, 42, 45, 48, 51, 54, 57, 60, 63, 66, 69, 72, 75, 78, 81, 84, 87, 90, 93, 96, 99, 102, 105, 108, 111, 114, 117, 120, 123, 126, 129, 132, 135, 138, 141, 144, 147, 150, 153, 156, 159, 162, 165, 168, 171, 174, 177, 180, 183, 186, 189, 192, 195, 198, 201, 204, 207, 210, 213, 216, 219, 222, 225, 228, 231, 234, 237, 240, 243, 246, 249, 252, 255, 258, 261, 264, 267, 270, 273, 276, 279, 282, 285, 288, 291, 294, 297, 300]\n"
          ]
        }
      ]
    },
    {
      "cell_type": "markdown",
      "metadata": {
        "id": "_RD0MOJNQW66"
      },
      "source": [
        "#FUNCION RANGO range()\n",
        "Tiene los mismos componentes que slicing\n",
        "inicio, stop, incremento\n",
        "\n",
        "range(1,101, 1)"
      ]
    },
    {
      "cell_type": "code",
      "metadata": {
        "colab": {
          "base_uri": "https://localhost:8080/"
        },
        "id": "9kxPhaOeQshO",
        "outputId": "b5b3c5cc-c9fc-4239-e8c1-ed7c7750628c"
      },
      "source": [
        "\n",
        "numeros = [x for x in range (50,101)] #cambia el inicio\n",
        "print(numeros)\n",
        "numeros = [x for x in range (50,101, 5)] #cambia el incremento\n",
        "print(numeros)"
      ],
      "execution_count": null,
      "outputs": [
        {
          "output_type": "stream",
          "name": "stdout",
          "text": [
            "[50, 51, 52, 53, 54, 55, 56, 57, 58, 59, 60, 61, 62, 63, 64, 65, 66, 67, 68, 69, 70, 71, 72, 73, 74, 75, 76, 77, 78, 79, 80, 81, 82, 83, 84, 85, 86, 87, 88, 89, 90, 91, 92, 93, 94, 95, 96, 97, 98, 99, 100]\n",
            "[50, 55, 60, 65, 70, 75, 80, 85, 90, 95, 100]\n"
          ]
        }
      ]
    },
    {
      "cell_type": "markdown",
      "metadata": {
        "id": "aEHUSQAP2rBJ"
      },
      "source": [
        "#MÉTODOS DISPONIBLES DE LAS LISTAS\n",
        "FUNCION DIR"
      ]
    },
    {
      "cell_type": "code",
      "metadata": {
        "id": "cKPx6vNJ9r49"
      },
      "source": [
        "dir(list)"
      ],
      "execution_count": null,
      "outputs": []
    },
    {
      "cell_type": "code",
      "metadata": {
        "id": "iityZIH6FcXM"
      },
      "source": [
        "numeros = [4, 1, 15, 8, 22, 34, 50]\n",
        "print(numeros)\n",
        "numeros.append(99) #agrega un 99\n",
        "print(numeros)\n",
        "numeros.clear() #limpia la lista\n",
        "print(numeros)\n",
        "#ALTERNATIVA PARA LIMPIAR LISTA\n",
        "numeros = []  #reescribir los datos de la lista. lista vacia\n",
        "print (numeros)\n",
        "\n",
        "frutas = [\"uvas\", \"kiwi\", \"manzana\"]\n",
        "copia = frutas   #copio los valores de la lista frutas. Hace referencia a la lista por lo que dará los mismos que frutas\n",
        "#si se modifica frutas, tambien la copia\n",
        "\n",
        "print( frutas)\n",
        "print (copia)\n",
        "frutas.append(\"naranjas\")\n",
        " print(frutas)\n",
        " print(copia)\n",
        "\n",
        "colores = [\"rojo\", \"azul\", \"blanco\"]\n",
        "copia2 =colores.copy()  #con copy, se vuelven independientes, auqnue se modifi\n",
        "colores.append(\"verde\")\n",
        "print(colores)\n",
        "print(copia2)que la primera, la copia no\n",
        "print(colores)\n",
        "print(copia2)"
      ],
      "execution_count": null,
      "outputs": []
    },
    {
      "cell_type": "code",
      "metadata": {
        "id": "HV3G6bBd9zOQ"
      },
      "source": [
        "#EXTEND\n",
        "\n",
        "nombre = [\"jose\", \"pedro\", \"karina\"]\n",
        "otrosNombres = [\"josue\", \"diana\", \"dalia\"]\n",
        "print(nombre)\n",
        "print(otrosNombres)\n",
        "nombres = nombre + otrosNombres   #concatenar las dos listas\n",
        "print(nombres)\n",
        "print(otrosNombres)\n",
        "#TAMBIÉN SE PUEDE CONCATENAR CON FUNCION EXTEND\n",
        "otrosNombres.extend ( [\"jesus\", \"maria\", \"jose\"])\n",
        "print(otrosNombres)\n",
        "\n",
        "#INDEX\n",
        "print(\"Jesus esta en la posicion:\" , otrosNombres.index(\"jesus\"))\n",
        "\n",
        "#iNSERT TE PERMITE INSERTAR VALORES EN UNA PASICION Y LOS RECORRE HACIA LA IZQUIERDA\n",
        "otrosNombres.insert(4, \"espiritu santo\")\n",
        "print(otrosNombres)\n",
        "\n",
        "#POP saca el ultimo elemento y te lo regresa\n",
        "resultado = otrosNombres.pop()\n",
        "print(otrosNombres)\n",
        "print(resultado)"
      ],
      "execution_count": null,
      "outputs": []
    },
    {
      "cell_type": "code",
      "metadata": {
        "id": "u5oiWQGI1p60"
      },
      "source": [
        ""
      ],
      "execution_count": null,
      "outputs": []
    },
    {
      "cell_type": "markdown",
      "metadata": {
        "id": "EJ60ngdowQ9d"
      },
      "source": [
        "#TUPLAS\n",
        "\n",
        "#CARACTERISTICAS DE LAS TUPLAS\n",
        "\n",
        "- datos agrupados\n",
        "- Se declara usando #\n",
        "  - () con parentesis\n",
        "  - tuple () con el constructor\n",
        "- Estructura secuencial, indexada a partir de 0\n",
        "- pueden tener de 0 a n elementos\n",
        "- NO SON MUTABLES (no se puede: eliminar y/o cambiar)\n",
        "- Son buenas para almacenar información de consulta\n",
        "-Pueden almacenar info. de diferentes tipos de dato\n",
        "- Pueden ser anidadas\n",
        "- Tienen métodos útiles "
      ]
    },
    {
      "cell_type": "code",
      "metadata": {
        "colab": {
          "base_uri": "https://localhost:8080/"
        },
        "id": "0saSl2E4xSCo",
        "outputId": "25bf3aab-1a1f-463a-dd6b-abf195a76b2c"
      },
      "source": [
        "info = (\"juan23\", \"dios1234\" , \"123.232.1.12\")\n",
        "print(info)\n",
        "print(info[1])\n",
        "\n",
        "numeros = (0,1,2,3,4,5,6,7,8,9,10,11,12,13,14,15)\n",
        "print(numeros)\n",
        "print(numeros[5:11])\n",
        "\n",
        "cosas = (info, numeros) # SE PUEDEN ANIDAR TUPLAS\n",
        "\n",
        "print(cosas)\n",
        "print(cosas[0][2][4:7])\n",
        "\n",
        "print(cosas[0][2][-8:-5])"
      ],
      "execution_count": null,
      "outputs": [
        {
          "output_type": "stream",
          "name": "stdout",
          "text": [
            "('juan23', 'dios1234', '123.232.1.12')\n",
            "dios1234\n",
            "(0, 1, 2, 3, 4, 5, 6, 7, 8, 9, 10, 11, 12, 13, 14, 15)\n",
            "(5, 6, 7, 8, 9, 10)\n",
            "(('juan23', 'dios1234', '123.232.1.12'), (0, 1, 2, 3, 4, 5, 6, 7, 8, 9, 10, 11, 12, 13, 14, 15))\n",
            "232\n",
            "232\n"
          ]
        }
      ]
    },
    {
      "cell_type": "markdown",
      "metadata": {
        "id": "mqm43b0G0lTT"
      },
      "source": [
        "#MÉTODOS DE LAS TUPLAS\n",
        "Son los mismosde las lisas pero los que no invlucren mutabilidad (ya que las duplas no se pueden modificar) \n",
        "sus métodos son count, index"
      ]
    },
    {
      "cell_type": "markdown",
      "metadata": {
        "id": "LXS82y-B2y1E"
      },
      "source": [
        "#DICCIONARIOS\n",
        "### CARACTERISTICAS DE LOS DICCIONARIOS\n",
        "\n",
        "- Agrupan datos pero de forma no lineal (en listas y tuplas es lineal, uno detras de otro, por eso se indexaban)\n",
        "- Se declaran ^\n",
        "    - {}\n",
        "    - dict()\n",
        "- Formado por pares del tipo llave:valor, donde: \n",
        "    - Llave es de tipo string (siempre)- es un identificador, el nombvre que se le va a dar al valor\n",
        "   -Valor puede ser cualquier tipo de dato incluyendo los diccionarios\n",
        "- Se seleccionan con la llave de la forma: [\"id_llave\"]\n",
        "- Son mutables\n",
        "- Son anidables\n",
        "- Son equivalentes al tipo de dato JSON del lenguaje JavaScript (JS) "
      ]
    },
    {
      "cell_type": "code",
      "metadata": {
        "colab": {
          "base_uri": "https://localhost:8080/"
        },
        "id": "M2FC3M5A46lL",
        "outputId": "37f15fbf-e444-49b0-f357-fed7a50ff581"
      },
      "source": [
        "alumno = { \"nombre\" : \"José\" }\n",
        "print (alumno)\n",
        "print (alumno [\"nombre\"] )\n",
        "\n",
        "alumno = { \"nombre\" : \"José\" , \"nc\" : \"2129229292\", \"edad\":18 }\n",
        "print (\"Edad del alumno =\", alumno [\"edad\"] )\n",
        "\n",
        "print(alumno[\"nombre\"].upper())\n",
        "\n",
        "#declarar diccionario con dict (segunda forma)\n",
        "alumno2 =dict () #se declara diccionario vacio y se pueden ir agregando valores\n",
        "alumno2 [\"nombre\"] = \"jose\"\n",
        "print(alumno2)\n",
        "alumno2 [\"nc\"] = \"2129229292\"\n",
        "alumno2 [\"edad\"] = \"18\"\n",
        "print(alumno2)\n",
        "#alumno2 [\"edad\"] = alumno2[\"edad\"] + 1\n",
        "#print(alumno2)"
      ],
      "execution_count": null,
      "outputs": [
        {
          "output_type": "stream",
          "name": "stdout",
          "text": [
            "{'nombre': 'José'}\n",
            "José\n",
            "Edad del alumno = 18\n",
            "JOSÉ\n",
            "{'nombre': 'jose'}\n",
            "{'nombre': 'jose', 'nc': '2129229292', 'edad': '18'}\n"
          ]
        }
      ]
    },
    {
      "cell_type": "code",
      "metadata": {
        "colab": {
          "base_uri": "https://localhost:8080/"
        },
        "id": "-YllxwbS8Vln",
        "outputId": "9aab09db-9498-49fc-d3fe-c371da64f3a5"
      },
      "source": [
        "cliente = {\"id\":\"CT2121\", \n",
        "           \"nombre\":\"JOsé Pedroza Rosales\", #SE PUEDE IR AGREGANDO SALTO DE LINEA PARA VISUALIZAR TODOS LOS DATOS. EN DICCIONARIOS ES POSIBLE\n",
        "           \"telefonos\":\"casa = 55445455562 cel=0445585968582\" } \n",
        "print (cliente)\n",
        "cliente = {\"id\":\"CT2121\", \n",
        "           \"nombre\": {\n",
        "               \"nombres\" : [\"José\", \"Eduardo\"], #usa lista dentro del diccionario\n",
        "               \"paterno\" : \"Pedroza\",\n",
        "               \"materno\" : \"Rosales\"\n",
        "           },\n",
        "           \"telefonos\" : {\n",
        "               \"casa\" : \"55445455562\",    #diccionario dentro de un diccionario\n",
        "               \"trabajo\" : \"55245244521\",\n",
        "               \"celular\" : \"0445525234252\" \n",
        "           },\n",
        "           \"productos\" : {       #se usa un diccionario donde se incorporan diccionarios\n",
        "                    \"ahorros\" : {\"numero_cuenta\":\"7788\", \"ahorro\": 2500.5},\n",
        "                    \"tarjetas\" : [\n",
        "                                  {\"tipo\":\"debito\", \"saldo\" :10000.5},\n",
        "                                  {\"tipo\":\"credito preferente\", \"limite\":25000.5},\n",
        "                                  {\"tipo\":\"lite\" , \"limite\":15000.5}\n",
        "                                ]\n",
        "           },\n",
        "                 \"dirección\" :  {\n",
        "                     \"calle\":\"Av. Central\",\n",
        "                     \"numero\":1245,\n",
        "                     \"colonia\":\"Impulsora\",\n",
        "                     \"delegación\": \"neza\",\n",
        "                     \"estado\" : {\n",
        "                          \"clave\" :15,\n",
        "                          \"nombre_corto\":\"EdoMex\",\n",
        "                          \"nombre\":\"EStado de México\" \n",
        "                          }\n",
        "                          }\n",
        "               \n",
        "           }\n",
        "print(cliente[\"telefonos\"][\"casa\"]) \n",
        "print(cliente)\n",
        "print(cliente[\"productos\"][\"ahorros\"][\"ahorro\"])\n",
        "#limite de credito de le LITE\n",
        "print( cliente [\"productos\"][\"tarjetas\"][2][\"limite\"]) #el 2 es del inmdexado de la lista\n",
        "#DIRECCIÓN DEL CLIENTE EN MAYUSCULAS\n",
        "\n",
        "print(cliente[\"dirección\"][\"estado\"][\"nombre\"].upper())\n",
        "#DISMINUIR 1500 DEL AHORRO\n",
        "cliente[\"productos\"][\"ahorros\"][\"ahorro\"] -= 1500"
      ],
      "execution_count": null,
      "outputs": [
        {
          "output_type": "stream",
          "name": "stdout",
          "text": [
            "{'id': 'CT2121', 'nombre': 'JOsé Pedroza Rosales', 'telefonos': 'casa = 55445455562 cel=0445585968582'}\n",
            "55445455562\n",
            "{'id': 'CT2121', 'nombre': {'nombres': ['José', 'Eduardo'], 'paterno': 'Pedroza', 'materno': 'Rosales'}, 'telefonos': {'casa': '55445455562', 'trabajo': '55245244521', 'celular': '0445525234252'}, 'productos': {'ahorros': {'numero_cuenta': '7788', 'ahorro': 2500.5}, 'tarjetas': [{'tipo': 'debito', 'saldo': 10000.5}, {'tipo': 'credito preferente', 'limite': 25000.5}, {'tipo': 'lite', 'limite': 15000.5}]}, 'dirección': {'calle': 'Av. Central', 'numero': 1245, 'colonia': 'Impulsora', 'delegación': 'neza', 'estado': {'clave': 15, 'nombre_corto': 'EdoMex', 'nombre': 'EStado de México'}}}\n",
            "2500.5\n",
            "15000.5\n",
            "ESTADO DE MÉXICO\n"
          ]
        }
      ]
    },
    {
      "cell_type": "code",
      "metadata": {
        "colab": {
          "base_uri": "https://localhost:8080/"
        },
        "id": "w2CbuaEUJOMK",
        "outputId": "1a7a2348-bb97-4996-bb75-c3ab3830a102"
      },
      "source": [
        "pelicula = {\"nombre\" : \"El viaje de Chihiro\" , \n",
        "            \"estudio\" : \"Ghibli\", \n",
        "           \"personajes principales\": [\"Chihiro\", \"Haku\", \"Yubaba\", \"Sin Cara\"], #usa lista dentro del diccionario\n",
        "               \"Año de estreno\" : \"2003\",\n",
        "               \"premios recibidos\" : [\"Oscar a la mejor pelicula animada\", \"festival internacional de cine de Berlin\", \"Premio Satellite a la Mejor Película o Corto Animado\", \"Premio de la Academia Japonesa a la Película del Año\"],\n",
        "           }\n",
        "print(pelicula)    "
      ],
      "execution_count": null,
      "outputs": [
        {
          "output_type": "stream",
          "name": "stdout",
          "text": [
            "{'nombre': 'El viaje de Chihiro', 'estudio': 'Ghibli', 'personajes principales': ['Chihiro', 'Haku', 'Yubaba', 'Sin Cara'], 'Año de estreno': '2003', 'premios recibidos': ['Oscar a la mejor pelicula animada', 'festival internacional de cine de Berlin', 'Premio Satellite a la Mejor Película o Corto Animado', 'Premio de la Academia Japonesa a la Película del Año']}\n"
          ]
        }
      ]
    },
    {
      "cell_type": "markdown",
      "metadata": {
        "id": "QYgpI8cUMn3D"
      },
      "source": [
        "#Estructura de control de programación\n",
        "\n",
        "Se puede crear cualquier tipo de algoritmo empleando solamente 3 estructuras de control:\n",
        "\n",
        "1. Secuencia: \n",
        "    - La representación de la memoria de programa (Arquitectura Vonn Newman)\n",
        "2. Selección:\n",
        "    - Es la estructura de control que decide si un bloque de programa se ejecuta o no se ejecuta. También permite seleccionar, ejecutar un bloque entre un conjunto de opciones.\n",
        "    En resumen tenemos: \n",
        "    - selección simple\n",
        "    - selección con bifurcación\n",
        "    - selección múltiple\n",
        "3. Repetición: \n",
        "     Este tipo de estructura nos permite automatizar la ejecución repetitiva de código mientras ciertas condiciones se cumplan. Tenemos 3 variantes de esta estructura en todos los lenguajes de programación: \n",
        "     3 estructuras de control a nivel de programación general(en todos los lenguajes de prog) Lo que cambia  es la palabrareservada o sintaxis\n",
        "      - Desde...hasta (estructura for) \n",
        "      Primer variante\n",
        "      - haz mientras (estructura while)\n",
        "      -haz y luego validaz mientras (estructura do-While)"
      ]
    },
    {
      "cell_type": "markdown",
      "metadata": {
        "id": "iSTtmg5QSBhs"
      },
      "source": [
        "#SELECCIÓN SIMPLE\n",
        "--Poner notas\n",
        "La estructura if\n",
        "\n",
        "\n",
        "if <CONDICION> :\n",
        "<CUERPO DEL IF>\n",
        "\n",
        "\n",
        "**NOTA** Para establecer el cuerpo de una estructura de control en Python se usan los tabuladores a la izquierda.\n",
        "En otros lenguajes de programación como java, c y c++, se usan las llaves {}\n",
        "\n",
        "int edad=0\n",
        "printf(\"Dame tu edad\");\n",
        "scanf(\"%i\", &edad);\n",
        "if(edad>=18) {\n",
        "    printf(\"ERES MAYOR DE EDASD\");\n",
        "    }\n",
        "    printf(\"fin del programa\");"
      ]
    },
    {
      "cell_type": "code",
      "metadata": {
        "colab": {
          "base_uri": "https://localhost:8080/"
        },
        "id": "7Rr3CJdTSIDX",
        "outputId": "00dd299e-5c38-4194-9707-6b236cd2f4be"
      },
      "source": [
        "edad = int(input(\"Dame tu edad\"))\n",
        "print(f\"Tecleaste {edad} años\")\n",
        "if edad >= 18 :\n",
        "  print (\"ERES MAYOR DE EDAD\") #debe tener tabulador para indicar que es parte del if\n",
        "  print(\"algo\") #en este caso los 3 forman parte del if, indicados por el tabulador\n",
        "  print(\"otra cosa\")\n",
        "print (\"fin de programa\")"
      ],
      "execution_count": null,
      "outputs": [
        {
          "output_type": "stream",
          "name": "stdout",
          "text": [
            "Dame tu edad20\n",
            "Tecleaste 20 años\n",
            "ERES MAYOR DE EDAD\n",
            "algo\n",
            "otra cosa\n",
            "fin de programa\n"
          ]
        }
      ]
    },
    {
      "cell_type": "markdown",
      "metadata": {
        "id": "g3KR8iebVjQs"
      },
      "source": [
        "#TABULADORES\n",
        "Los tabuladores se usan para indicar el cuerpo de una estructura"
      ]
    },
    {
      "cell_type": "code",
      "metadata": {
        "colab": {
          "base_uri": "https://localhost:8080/"
        },
        "id": "NhCSl2tfWap8",
        "outputId": "0205a3b0-2fce-46bd-ab38-2fb39745351d"
      },
      "source": [
        "CAL = int(input(\"Ingresa tu calificación\"))\n",
        "if CAL > 8 :\n",
        "  print (\"APROBADO\")"
      ],
      "execution_count": null,
      "outputs": [
        {
          "output_type": "stream",
          "name": "stdout",
          "text": [
            "Ingresa tu calificación9\n",
            "APROBADO\n"
          ]
        }
      ]
    },
    {
      "cell_type": "code",
      "metadata": {
        "colab": {
          "base_uri": "https://localhost:8080/"
        },
        "id": "z2-w1-zXXS7L",
        "outputId": "66d1b997-cd16-4816-8ecf-6ffd632fc034"
      },
      "source": [
        "CAL = float(input(\"Ingresa tu calificación\"))\n",
        "if CAL > 8 :\n",
        "  print (\"APROBADO\")\n",
        "print(\"fin del programa\")"
      ],
      "execution_count": null,
      "outputs": [
        {
          "output_type": "stream",
          "name": "stdout",
          "text": [
            "Ingresa tu calificación9\n",
            "APROBADO\n",
            "fin del programa\n"
          ]
        }
      ]
    },
    {
      "cell_type": "code",
      "metadata": {
        "colab": {
          "base_uri": "https://localhost:8080/"
        },
        "id": "Rnali4aUXuZ3",
        "outputId": "80b88bb8-7d6e-453c-8bcd-5b64e21a13fc"
      },
      "source": [
        "SUE = float(input(\"Escribe el sueldo: \"))\n",
        "AUM = 0 \n",
        "MSUE = 0\n",
        "\n",
        "if SUE < 1000 :\n",
        "    AUM = SUE* 0.15\n",
        "    MSUE = SUE + AUM\n",
        "    print(MSUE)"
      ],
      "execution_count": null,
      "outputs": [
        {
          "output_type": "stream",
          "name": "stdout",
          "text": [
            "Escribe el sueldo: 875.5\n",
            "1006.825\n"
          ]
        }
      ]
    },
    {
      "cell_type": "markdown",
      "metadata": {
        "id": "YDfxpv5tGRrZ"
      },
      "source": [
        "En el If, o se ejecuta la condición o no se ejecuta mada y continúa\n",
        "En el if/else"
      ]
    },
    {
      "cell_type": "markdown",
      "metadata": {
        "id": "hRfRZrdoGnP9"
      },
      "source": [
        "#ESTRUCTURA DE SELECCIÓN CON BIFURCACIÓN (IF-ELSE)\n",
        "\n",
        "Esta estrcutura selecciona una de dos opciones de ejecución, se ejecuta un bloque  si la condicón se cumple o se ejecuta otro bloque si la condicón no se cumple (else).\n",
        "```\n",
        "if <condición> :\n",
        "    <bloque de ejecución> \n",
        "else:\n",
        "    <bloque de ejecucuón alterno>\n",
        "```\n",
        "Se indica con el tabulador que pertenece a esa función"
      ]
    },
    {
      "cell_type": "code",
      "metadata": {
        "colab": {
          "base_uri": "https://localhost:8080/"
        },
        "id": "ocadVx4XHl5b",
        "outputId": "358779b4-3ac8-4cfb-f171-8215c4fa7f4b"
      },
      "source": [
        "edad = int(input(\"Dame tu edad:\")) \n",
        "print(f\"Tecleaste {edad} años\")\n",
        "if edad>=18:\n",
        "    print(\"Eres mayor de edad, ten tu cheve\")\n",
        "else:\n",
        "    print(\"Eres menor de edad, ten tu boing\")\n",
        "print(\"fin del programa\")"
      ],
      "execution_count": 3,
      "outputs": [
        {
          "output_type": "stream",
          "name": "stdout",
          "text": [
            "Dame tu edad:15\n",
            "Tecleaste 15 años\n",
            "Eres menor de edad, ten tu boing\n"
          ]
        }
      ]
    },
    {
      "cell_type": "code",
      "metadata": {
        "colab": {
          "base_uri": "https://localhost:8080/"
        },
        "id": "_nPfv0z6JmJ-",
        "outputId": "4fee85f4-8e48-4d95-bebc-b9612a6bf3e6"
      },
      "source": [
        "edad=int(input(\"Dame tu edad: \"))\n",
        "dinero=float(input(\"Dame tu cantidad de dinero: \"))\n",
        "print(f\"Tecleaste {edad} años\")\n",
        "print(f\"Tecleaste {dinero} pesos\")\n",
        "if edad>=18 and dinero>=36:\n",
        "    print(\"Eres mayor de edad, ten cheve\")\n",
        "else:\n",
        "    print(\"Eres menor de edad, ten boing\")\n",
        "print(\"--FIN DEL PROGRAMA--\")"
      ],
      "execution_count": 6,
      "outputs": [
        {
          "output_type": "stream",
          "name": "stdout",
          "text": [
            "Dame tu edad: 20\n",
            "Dame tu cantidad de dinero: 20\n",
            "Tecleaste 20 años\n",
            "Tecleaste 20.0 pesos\n",
            "Eres menor de edad, ten boing\n",
            "--FIN DEL PROGRAMA--\n"
          ]
        }
      ]
    },
    {
      "cell_type": "code",
      "metadata": {
        "id": "0MA8dBGAKgBR"
      },
      "source": [
        "#con if anidado en linea 4\n",
        "edad = int (input(\"Dame tu edad:\"))\n",
        "dinero = int (input(\"¿Cuánto dinero tienes?\"))\n",
        "if edad >= 18:\n",
        "    if dinero >=35:\n",
        "        print(\"Eres mayor de edad y tienes dinero, ten tu cheve\")\n",
        "    else:\n",
        "        print(\"No tienes suficiente dinero\")\n",
        "else:\n",
        "    print(\"Eres menor de edad, ten tu Boing\")\n",
        "print(\"Fin del programa\")"
      ],
      "execution_count": null,
      "outputs": []
    },
    {
      "cell_type": "code",
      "metadata": {
        "colab": {
          "base_uri": "https://localhost:8080/"
        },
        "id": "1QCLuAr9MfpJ",
        "outputId": "fb2b24a3-741d-4cf4-9f4e-f67726689009"
      },
      "source": [
        "\n",
        "edad = int (input(\"Dame tu edad:\"))\n",
        "dinero = int (input(\"¿Cuánto dinero tienes?\"))\n",
        "if edad >= 18:\n",
        "    if dinero >=36:\n",
        "        print(\"ten tu cheve\")\n",
        "    else:\n",
        "        print(\"Tienes la edsd pero no tienes suficiente dinero\")\n",
        "else:\n",
        "    if dinero >=36 :\n",
        "        print(\"Tienes dinero suficiente pero no tienes la edad\")\n",
        "    else:\n",
        "        print(\"No tienes la edad, ni el dinero, ve a jugar\")\n",
        "print(\"Fin del programa\")"
      ],
      "execution_count": 8,
      "outputs": [
        {
          "output_type": "stream",
          "name": "stdout",
          "text": [
            "Dame tu edad:15\n",
            "¿Cuánto dinero tienes?20\n",
            "No tienes la edad, ni el dinero, ve a jugar\n",
            "Fin del programa\n"
          ]
        }
      ]
    },
    {
      "cell_type": "markdown",
      "metadata": {
        "id": "IIG3DdGnNFQz"
      },
      "source": [
        "El codigo anterior se peude simplificar usanod una palabra reservada especial que existe en algunos lenguajes de programación:\n",
        "elif"
      ]
    },
    {
      "cell_type": "code",
      "metadata": {
        "colab": {
          "base_uri": "https://localhost:8080/",
          "height": 571
        },
        "id": "3UvCBrhbNUKf",
        "outputId": "54df45dd-ab8a-4f4b-b64f-49c46fd3eb54"
      },
      "source": [
        "CAL= float(input(\"Escribe tu calificiación: \"))\n",
        "if CAL >= 8 :\n",
        "    print(\"Aprobado\")\n",
        "else: \n",
        "    print(\"Reprobado\")"
      ],
      "execution_count": 20,
      "outputs": [
        {
          "output_type": "error",
          "ename": "KeyboardInterrupt",
          "evalue": "ignored",
          "traceback": [
            "\u001b[0;31m---------------------------------------------------------------------------\u001b[0m",
            "\u001b[0;31mKeyboardInterrupt\u001b[0m                         Traceback (most recent call last)",
            "\u001b[0;32m/usr/local/lib/python3.7/dist-packages/ipykernel/kernelbase.py\u001b[0m in \u001b[0;36m_input_request\u001b[0;34m(self, prompt, ident, parent, password)\u001b[0m\n\u001b[1;32m    728\u001b[0m             \u001b[0;32mtry\u001b[0m\u001b[0;34m:\u001b[0m\u001b[0;34m\u001b[0m\u001b[0;34m\u001b[0m\u001b[0m\n\u001b[0;32m--> 729\u001b[0;31m                 \u001b[0mident\u001b[0m\u001b[0;34m,\u001b[0m \u001b[0mreply\u001b[0m \u001b[0;34m=\u001b[0m \u001b[0mself\u001b[0m\u001b[0;34m.\u001b[0m\u001b[0msession\u001b[0m\u001b[0;34m.\u001b[0m\u001b[0mrecv\u001b[0m\u001b[0;34m(\u001b[0m\u001b[0mself\u001b[0m\u001b[0;34m.\u001b[0m\u001b[0mstdin_socket\u001b[0m\u001b[0;34m,\u001b[0m \u001b[0;36m0\u001b[0m\u001b[0;34m)\u001b[0m\u001b[0;34m\u001b[0m\u001b[0;34m\u001b[0m\u001b[0m\n\u001b[0m\u001b[1;32m    730\u001b[0m             \u001b[0;32mexcept\u001b[0m \u001b[0mException\u001b[0m\u001b[0;34m:\u001b[0m\u001b[0;34m\u001b[0m\u001b[0;34m\u001b[0m\u001b[0m\n",
            "\u001b[0;32m/usr/local/lib/python3.7/dist-packages/jupyter_client/session.py\u001b[0m in \u001b[0;36mrecv\u001b[0;34m(self, socket, mode, content, copy)\u001b[0m\n\u001b[1;32m    802\u001b[0m         \u001b[0;32mtry\u001b[0m\u001b[0;34m:\u001b[0m\u001b[0;34m\u001b[0m\u001b[0;34m\u001b[0m\u001b[0m\n\u001b[0;32m--> 803\u001b[0;31m             \u001b[0mmsg_list\u001b[0m \u001b[0;34m=\u001b[0m \u001b[0msocket\u001b[0m\u001b[0;34m.\u001b[0m\u001b[0mrecv_multipart\u001b[0m\u001b[0;34m(\u001b[0m\u001b[0mmode\u001b[0m\u001b[0;34m,\u001b[0m \u001b[0mcopy\u001b[0m\u001b[0;34m=\u001b[0m\u001b[0mcopy\u001b[0m\u001b[0;34m)\u001b[0m\u001b[0;34m\u001b[0m\u001b[0;34m\u001b[0m\u001b[0m\n\u001b[0m\u001b[1;32m    804\u001b[0m         \u001b[0;32mexcept\u001b[0m \u001b[0mzmq\u001b[0m\u001b[0;34m.\u001b[0m\u001b[0mZMQError\u001b[0m \u001b[0;32mas\u001b[0m \u001b[0me\u001b[0m\u001b[0;34m:\u001b[0m\u001b[0;34m\u001b[0m\u001b[0;34m\u001b[0m\u001b[0m\n",
            "\u001b[0;32m/usr/local/lib/python3.7/dist-packages/zmq/sugar/socket.py\u001b[0m in \u001b[0;36mrecv_multipart\u001b[0;34m(self, flags, copy, track)\u001b[0m\n\u001b[1;32m    624\u001b[0m         \"\"\"\n\u001b[0;32m--> 625\u001b[0;31m         \u001b[0mparts\u001b[0m \u001b[0;34m=\u001b[0m \u001b[0;34m[\u001b[0m\u001b[0mself\u001b[0m\u001b[0;34m.\u001b[0m\u001b[0mrecv\u001b[0m\u001b[0;34m(\u001b[0m\u001b[0mflags\u001b[0m\u001b[0;34m,\u001b[0m \u001b[0mcopy\u001b[0m\u001b[0;34m=\u001b[0m\u001b[0mcopy\u001b[0m\u001b[0;34m,\u001b[0m \u001b[0mtrack\u001b[0m\u001b[0;34m=\u001b[0m\u001b[0mtrack\u001b[0m\u001b[0;34m)\u001b[0m\u001b[0;34m]\u001b[0m\u001b[0;34m\u001b[0m\u001b[0;34m\u001b[0m\u001b[0m\n\u001b[0m\u001b[1;32m    626\u001b[0m         \u001b[0;31m# have first part already, only loop while more to receive\u001b[0m\u001b[0;34m\u001b[0m\u001b[0;34m\u001b[0m\u001b[0;34m\u001b[0m\u001b[0m\n",
            "\u001b[0;32mzmq/backend/cython/socket.pyx\u001b[0m in \u001b[0;36mzmq.backend.cython.socket.Socket.recv\u001b[0;34m()\u001b[0m\n",
            "\u001b[0;32mzmq/backend/cython/socket.pyx\u001b[0m in \u001b[0;36mzmq.backend.cython.socket.Socket.recv\u001b[0;34m()\u001b[0m\n",
            "\u001b[0;32mzmq/backend/cython/socket.pyx\u001b[0m in \u001b[0;36mzmq.backend.cython.socket._recv_copy\u001b[0;34m()\u001b[0m\n",
            "\u001b[0;32m/usr/local/lib/python3.7/dist-packages/zmq/backend/cython/checkrc.pxd\u001b[0m in \u001b[0;36mzmq.backend.cython.checkrc._check_rc\u001b[0;34m()\u001b[0m\n",
            "\u001b[0;31mKeyboardInterrupt\u001b[0m: ",
            "\nDuring handling of the above exception, another exception occurred:\n",
            "\u001b[0;31mKeyboardInterrupt\u001b[0m                         Traceback (most recent call last)",
            "\u001b[0;32m<ipython-input-20-82f55184c146>\u001b[0m in \u001b[0;36m<module>\u001b[0;34m()\u001b[0m\n\u001b[0;32m----> 1\u001b[0;31m \u001b[0mCAL\u001b[0m\u001b[0;34m=\u001b[0m \u001b[0mfloat\u001b[0m\u001b[0;34m(\u001b[0m\u001b[0minput\u001b[0m\u001b[0;34m(\u001b[0m\u001b[0;34m\"Escribe tu calificiación: \"\u001b[0m\u001b[0;34m)\u001b[0m\u001b[0;34m)\u001b[0m\u001b[0;34m\u001b[0m\u001b[0;34m\u001b[0m\u001b[0m\n\u001b[0m\u001b[1;32m      2\u001b[0m \u001b[0;32mif\u001b[0m \u001b[0mCAL\u001b[0m \u001b[0;34m>=\u001b[0m \u001b[0;36m8\u001b[0m \u001b[0;34m:\u001b[0m\u001b[0;34m\u001b[0m\u001b[0;34m\u001b[0m\u001b[0m\n\u001b[1;32m      3\u001b[0m     \u001b[0mprint\u001b[0m\u001b[0;34m(\u001b[0m\u001b[0;34m\"Aprobado\"\u001b[0m\u001b[0;34m)\u001b[0m\u001b[0;34m\u001b[0m\u001b[0;34m\u001b[0m\u001b[0m\n\u001b[1;32m      4\u001b[0m \u001b[0;32melse\u001b[0m\u001b[0;34m:\u001b[0m\u001b[0;34m\u001b[0m\u001b[0;34m\u001b[0m\u001b[0m\n\u001b[1;32m      5\u001b[0m     \u001b[0mprint\u001b[0m\u001b[0;34m(\u001b[0m\u001b[0;34m\"Reprobado\"\u001b[0m\u001b[0;34m)\u001b[0m\u001b[0;34m\u001b[0m\u001b[0;34m\u001b[0m\u001b[0m\n",
            "\u001b[0;32m/usr/local/lib/python3.7/dist-packages/ipykernel/kernelbase.py\u001b[0m in \u001b[0;36mraw_input\u001b[0;34m(self, prompt)\u001b[0m\n\u001b[1;32m    702\u001b[0m             \u001b[0mself\u001b[0m\u001b[0;34m.\u001b[0m\u001b[0m_parent_ident\u001b[0m\u001b[0;34m,\u001b[0m\u001b[0;34m\u001b[0m\u001b[0;34m\u001b[0m\u001b[0m\n\u001b[1;32m    703\u001b[0m             \u001b[0mself\u001b[0m\u001b[0;34m.\u001b[0m\u001b[0m_parent_header\u001b[0m\u001b[0;34m,\u001b[0m\u001b[0;34m\u001b[0m\u001b[0;34m\u001b[0m\u001b[0m\n\u001b[0;32m--> 704\u001b[0;31m             \u001b[0mpassword\u001b[0m\u001b[0;34m=\u001b[0m\u001b[0;32mFalse\u001b[0m\u001b[0;34m,\u001b[0m\u001b[0;34m\u001b[0m\u001b[0;34m\u001b[0m\u001b[0m\n\u001b[0m\u001b[1;32m    705\u001b[0m         )\n\u001b[1;32m    706\u001b[0m \u001b[0;34m\u001b[0m\u001b[0m\n",
            "\u001b[0;32m/usr/local/lib/python3.7/dist-packages/ipykernel/kernelbase.py\u001b[0m in \u001b[0;36m_input_request\u001b[0;34m(self, prompt, ident, parent, password)\u001b[0m\n\u001b[1;32m    732\u001b[0m             \u001b[0;32mexcept\u001b[0m \u001b[0mKeyboardInterrupt\u001b[0m\u001b[0;34m:\u001b[0m\u001b[0;34m\u001b[0m\u001b[0;34m\u001b[0m\u001b[0m\n\u001b[1;32m    733\u001b[0m                 \u001b[0;31m# re-raise KeyboardInterrupt, to truncate traceback\u001b[0m\u001b[0;34m\u001b[0m\u001b[0;34m\u001b[0m\u001b[0;34m\u001b[0m\u001b[0m\n\u001b[0;32m--> 734\u001b[0;31m                 \u001b[0;32mraise\u001b[0m \u001b[0mKeyboardInterrupt\u001b[0m\u001b[0;34m\u001b[0m\u001b[0;34m\u001b[0m\u001b[0m\n\u001b[0m\u001b[1;32m    735\u001b[0m             \u001b[0;32melse\u001b[0m\u001b[0;34m:\u001b[0m\u001b[0;34m\u001b[0m\u001b[0;34m\u001b[0m\u001b[0m\n\u001b[1;32m    736\u001b[0m                 \u001b[0;32mbreak\u001b[0m\u001b[0;34m\u001b[0m\u001b[0;34m\u001b[0m\u001b[0m\n",
            "\u001b[0;31mKeyboardInterrupt\u001b[0m: "
          ]
        }
      ]
    },
    {
      "cell_type": "code",
      "metadata": {
        "colab": {
          "base_uri": "https://localhost:8080/"
        },
        "id": "EQzSKRFgPL4G",
        "outputId": "7ef07774-a888-415d-ceea-2a95b1868255"
      },
      "source": [
        "#ejercicio 2.4 pag. 60\n",
        "SUE = float(input(\"Escribe el sueldo: \"))\n",
        "AUM = 0 \n",
        "NSUE = 0\n",
        "\n",
        "if SUE < 1000 :\n",
        "    AUM = SUE* 0.15\n",
        "    NSUE = SUE + AUM\n",
        "    \n",
        "else:\n",
        "    AUM= SUE*0.12\n",
        "    NSUE = SUE + AUM\n",
        "print(NSUE)"
      ],
      "execution_count": 19,
      "outputs": [
        {
          "output_type": "stream",
          "name": "stdout",
          "text": [
            "Escribe el sueldo: 840.5\n",
            "966.575\n"
          ]
        }
      ]
    },
    {
      "cell_type": "code",
      "metadata": {
        "colab": {
          "base_uri": "https://localhost:8080/"
        },
        "id": "Wn06PbzzRQX2",
        "outputId": "38262fdd-dd13-4d86-f8b9-e45a5993b91c"
      },
      "source": [
        "#OTRA SOLUCIÓN\n",
        "SUE=float(input(\"Dame tu sueldo: \"))\n",
        "if SUE<1000:\n",
        "    NSUE=SUE*1.15\n",
        "else:\n",
        "    NSUE=SUE*1.12\n",
        "print(f\"Tu nuevo sueldo es: {NSUE}\")"
      ],
      "execution_count": 22,
      "outputs": [
        {
          "output_type": "stream",
          "name": "stdout",
          "text": [
            "Dame tu sueldo: 1000\n",
            "Tu nuevo sueldo es: 1120.0\n"
          ]
        }
      ]
    },
    {
      "cell_type": "markdown",
      "metadata": {
        "id": "sKI_MMUNSHEY"
      },
      "source": [
        "#ejercicio if-else\n",
        "### hacer un programa que solicite el día de la semana en un valor numérico del 1 al 7 (avisarle al usuario si proporcionó un valor fuera del rango)\n",
        "\n",
        "Posteriormente imprimirá el dia de la semana correspondiente al número capturado"
      ]
    },
    {
      "cell_type": "code",
      "metadata": {
        "colab": {
          "base_uri": "https://localhost:8080/"
        },
        "id": "5pI_E1ohSVNc",
        "outputId": "2ad02d8c-309f-46ac-c98d-c5bb859befd9"
      },
      "source": [
        "dia=int(input(\"Dame el día de la semana del 1-7: \"))\n",
        "if dia is 1:\n",
        "    print(\"LUNES\")\n",
        "elif dia is 2:\n",
        "    print(\"MARTES\")\n",
        "elif dia is 3:\n",
        "    print(\"MIERCOLES\")\n",
        "elif dia is 4:\n",
        "    print(\"JUEVES\")\n",
        "elif dia is 5:\n",
        "    print(\"VIERNES\")\n",
        "elif dia is 6:\n",
        "    print(\"SÁBADO\")\n",
        "elif dia is 7:\n",
        "    print(\"DOMINGO\")\n",
        "else:\n",
        "    print(\"Debe ser un numero del 1 al 7, ingresa nuevamente\")"
      ],
      "execution_count": 24,
      "outputs": [
        {
          "output_type": "stream",
          "name": "stdout",
          "text": [
            "Dame el día de la semana del 1-7: 2\n",
            "MARTES\n"
          ]
        }
      ]
    },
    {
      "cell_type": "code",
      "metadata": {
        "colab": {
          "base_uri": "https://localhost:8080/"
        },
        "id": "3RccLU3EVe5B",
        "outputId": "b0218a70-fcef-4e5e-b89e-730bcb0b3d5e"
      },
      "source": [
        "#VERSION ANIDADA DEL IF. VERSION LARGA DEL ELIF\n",
        "dia=int(input(\"Dame el día de la semana del 1-7: \"))\n",
        "print(f\"Capturaste el numero {dia}\")\n",
        "\n",
        "if dia>=1 and dia <= 7 :\n",
        "    if dia == 1:\n",
        "            print(\"Lunes\")\n",
        "    else:\n",
        "        if dia ==2:\n",
        "            print(\"martes\")\n",
        "        else:\n",
        "            if dia ==3 :\n",
        "               print(\"miercoles\") \n",
        "            else:\n",
        "                if dia == 4 :\n",
        "                    print(\"jueves\")\n",
        "                else:\n",
        "                    if dia ==5:\n",
        "                        print(\"viernes\")\n",
        "                    else:\n",
        "                        if dia == 6:\n",
        "                            print(\"sabado\")\n",
        "                        else:\n",
        "                            print(\"domingo\")\n",
        "else:\n",
        "    print(\"ese numero no esta dentro del rango solicitado\")"
      ],
      "execution_count": 29,
      "outputs": [
        {
          "output_type": "stream",
          "name": "stdout",
          "text": [
            "Dame el día de la semana del 1-7: 8\n",
            "Capturaste el numero 8\n",
            "ese numero no esta dentro del rango solicitado\n"
          ]
        }
      ]
    },
    {
      "cell_type": "code",
      "metadata": {
        "id": "-jTD_EjbZoS-"
      },
      "source": [
        "#Hacer un programa que pida dos numeros enteros y que imprima en panatlla lo siguiente:\n",
        "\n",
        "1. cual de ellos es el numero MAYOR \n",
        "2. cual de ellos es el numeor menor\n",
        "o en su defecto\n",
        "Imprimir que los valores son iguales\n",
        "\n",
        "\"\"\"hacer un programa que solicite 3 numeros enteros diferentes entre si \n",
        "y que imprima cual de los 3 es el mayor\n",
        "\"\"\"\n",
        "\"\"\"hacer un programa que solicite 3 numeros enteros diferentes entre si \n",
        "y que imprima cual de los 3 es el menor\n",
        "\"\"\"\n",
        "\n",
        "\"\"\"\n",
        "Hacer un programa que solcite 4 numeros enteros diferentes entre si\n",
        "y que imprima a la salida cual de ellos es el menor y cual de ellos es el mayor\n",
        "\"\"\""
      ],
      "execution_count": null,
      "outputs": []
    },
    {
      "cell_type": "markdown",
      "metadata": {
        "id": "PR2OFxCgbpb1"
      },
      "source": [
        "# selección múltiple (switch)\n",
        "En python no existe la estructura de selección switch, en su lugar se emplea la palabra reservada:\n",
        "\n",
        "##elif <condicion>:\n",
        "\n",
        "Por ejemplo en el lenguaje C y Java seria\n",
        "```\n"
      ]
    },
    {
      "cell_type": "code",
      "metadata": {
        "id": "dngOiA6Mcv9t"
      },
      "source": [
        "#ejemplo 2.7\n",
        "\n",
        "NUM = int(input(\"dame un numero entre 1 y 3:\"))\n",
        "V = float(input(\"Dame un valor float:\"))\n",
        "\n",
        "if NUM ==1:\n",
        "    VAL =100*V\n",
        "elif NUM == 2:\n",
        "    VAL ==100**V\n",
        "elif NUM == 3:\n",
        "    VAL ==100/V\n",
        "else:\n",
        "    VAL = 0\n",
        "print(VAL)"
      ],
      "execution_count": null,
      "outputs": []
    }
  ]
}