{
  "nbformat": 4,
  "nbformat_minor": 0,
  "metadata": {
    "colab": {
      "name": "Fundamentos2_CyP_1157.ipynb",
      "provenance": [],
      "collapsed_sections": [],
      "authorship_tag": "ABX9TyNYdr6ExCJddgOHN6DvCQko",
      "include_colab_link": true
    },
    "kernelspec": {
      "display_name": "Python 3",
      "name": "python3"
    },
    "language_info": {
      "name": "python"
    }
  },
  "cells": [
    {
      "cell_type": "markdown",
      "metadata": {
        "id": "view-in-github",
        "colab_type": "text"
      },
      "source": [
        "<a href=\"https://colab.research.google.com/github/CarmenSosaO/CyPg1157/blob/main/Fundamentos2_CyP_1157.ipynb\" target=\"_parent\"><img src=\"https://colab.research.google.com/assets/colab-badge.svg\" alt=\"Open In Colab\"/></a>"
      ]
    },
    {
      "cell_type": "code",
      "metadata": {
        "id": "YX9yzWwEFUmL"
      },
      "source": [
        ""
      ],
      "execution_count": null,
      "outputs": []
    },
    {
      "cell_type": "markdown",
      "metadata": {
        "id": "etOyehcCFa8E"
      },
      "source": [
        "#TIPOS DE DATOS ESTRUCTURADOS DE PYTHON\n",
        "\n",
        "1. Listas\n",
        "2. Tuplas\n",
        "3. Diccionarios\n",
        "4. Conjuntos (opcional)"
      ]
    },
    {
      "cell_type": "markdown",
      "metadata": {
        "id": "6Htkskk7Fpl8"
      },
      "source": [
        "#LISTAS\n",
        "\n",
        "- Tipo de dato que agrupa variables o valores.\n",
        "- Estructura secuencial (indexados empezando por 0)\n",
        "- Se declara de dos formas\n",
        "  - usando [ ]\n",
        "  - usando list ()  constructor list\n",
        "  -Usando un generador\n",
        "- Puede contener tipos de dato diversos (en otros lenguajes de prog, eso no es posible de forma directa)\n",
        "- Los elementos internos se seleciconan con [ ] \n",
        "- Soporta slicing\n",
        "- SON MUTABLES (Se pueen modificar a lo largo del programa)\n",
        "-GENERADORES [variable for x in rango (valor del rango)] \n",
        "- Al ser una clase contiene muchos métodos útiles"
      ]
    },
    {
      "cell_type": "code",
      "metadata": {
        "colab": {
          "base_uri": "https://localhost:8080/"
        },
        "id": "j18jp3pTGt4F",
        "outputId": "a2cc3ae9-f51c-4d61-805a-b8e58d1fa3a3"
      },
      "source": [
        "numeros = [10, 5, 2, 3, 1 ]\n",
        "print (numeros)\n",
        "\n",
        "numeros2 = list() #declarara lista vacia e ir integrando valores\n",
        "numeros2.append(10) # método append agregar nuevos elementos a una lista\n",
        "numeros2.append(5)\n",
        "numeros2.append(2)\n",
        "numeros2.append(3)\n",
        "numeros2.append(1)\n",
        "\n",
        "print(numeros2)\n",
        "numeros[2] = 20  #cambiar el valor de uno de los elemtnos de la lista, en este caso el 2\n",
        "print(numeros)\n",
        "numeros[-1] = 33\n",
        "\n",
        "print(numeros)\n"
      ],
      "execution_count": null,
      "outputs": [
        {
          "name": "stdout",
          "output_type": "stream",
          "text": [
            "[10, 5, 2, 3, 1]\n",
            "[10, 5, 2, 3, 1]\n",
            "[10, 5, 20, 3, 1]\n",
            "[10, 5, 20, 3, 33]\n"
          ]
        }
      ]
    },
    {
      "cell_type": "code",
      "metadata": {
        "colab": {
          "base_uri": "https://localhost:8080/"
        },
        "id": "YLy7I3SJIc9K",
        "outputId": "560ede10-297f-4855-df8c-4236a91807eb"
      },
      "source": [
        "#EJEMPLOS DE CÓMO LAS LISTAS PUEDE CONTENER DATOS DIVERSOS\n",
        "\n",
        "cosas = [12, 2, True, \"José\", 1.57, [\"pera\", \"kiwi\", \"uva\" ] ]\n",
        "print(cosas)\n",
        "print(cosas [1])\n",
        "print(cosas[4])\n",
        "print(cosas[5])\n",
        "print(cosas[5][1]) #hay dos selectores [], el primer selector, llama a la lista\n",
        "#como el elemento seleccionado es una lista puedo sacar un segundo selector para seleccionar otro elemento de ella\n",
        "print(cosas[3][1:3:]) #seleccionar solo la os de Jose\n",
        "cosas[3] =cosas[3].upper() #convertir en mayusculas\n",
        "print (cosas)"
      ],
      "execution_count": null,
      "outputs": [
        {
          "name": "stdout",
          "output_type": "stream",
          "text": [
            "[12, 2, True, 'José', 1.57, ['pera', 'kiwi', 'uva']]\n",
            "2\n",
            "1.57\n",
            "['pera', 'kiwi', 'uva']\n",
            "kiwi\n",
            "os\n",
            "[12, 2, True, 'JOSÉ', 1.57, ['pera', 'kiwi', 'uva']]\n"
          ]
        }
      ]
    },
    {
      "cell_type": "code",
      "metadata": {
        "colab": {
          "base_uri": "https://localhost:8080/"
        },
        "id": "rOiogxPqMF3T",
        "outputId": "89a7e2ed-29b1-4d98-f832-0f8c5e139f4a"
      },
      "source": [
        "numeros = [1,2,3,4,5,6,7,8,9,10,11] \n",
        "print(numeros)\n",
        "# EJERICIO 1. Con slicing. obtener del 4 al 8\n",
        "print(numeros[3:8] ) #se coloca una posición extra\n",
        "#EJERCICIO 2. obtener [9,10] \n",
        "print (numeros[8:10] )\n",
        "print (numeros[-3:-1:] )\n",
        "#EJERCICIO 3. Imprimir la lista en orden inverso [11, 10, 9, ...1] con slicing\n",
        "print(numeros [::-1] )\n"
      ],
      "execution_count": null,
      "outputs": [
        {
          "name": "stdout",
          "output_type": "stream",
          "text": [
            "[1, 2, 3, 4, 5, 6, 7, 8, 9, 10, 11]\n",
            "[4, 5, 6, 7, 8]\n",
            "[9, 10]\n",
            "[9, 10]\n",
            "[11, 10, 9, 8, 7, 6, 5, 4, 3, 2, 1]\n"
          ]
        }
      ]
    },
    {
      "cell_type": "code",
      "metadata": {
        "colab": {
          "base_uri": "https://localhost:8080/"
        },
        "id": "AASBKkaTPpUI",
        "outputId": "ac383fd1-e67b-4ae6-d7ca-bfb7162bedab"
      },
      "source": [
        "#CREAR UNA LISTA CON UN GENERADOR\n",
        "numeros = [x for x in range (101)] # es hasta el 100, el tope no se incluye\n",
        "print(numeros) \n",
        "\n",
        "#multiplicar cada valor por 3\n",
        "numeros = [x*3 for x in range (101)]\n",
        "print(numeros)"
      ],
      "execution_count": null,
      "outputs": [
        {
          "name": "stdout",
          "output_type": "stream",
          "text": [
            "[0, 1, 2, 3, 4, 5, 6, 7, 8, 9, 10, 11, 12, 13, 14, 15, 16, 17, 18, 19, 20, 21, 22, 23, 24, 25, 26, 27, 28, 29, 30, 31, 32, 33, 34, 35, 36, 37, 38, 39, 40, 41, 42, 43, 44, 45, 46, 47, 48, 49, 50, 51, 52, 53, 54, 55, 56, 57, 58, 59, 60, 61, 62, 63, 64, 65, 66, 67, 68, 69, 70, 71, 72, 73, 74, 75, 76, 77, 78, 79, 80, 81, 82, 83, 84, 85, 86, 87, 88, 89, 90, 91, 92, 93, 94, 95, 96, 97, 98, 99, 100]\n",
            "[0, 3, 6, 9, 12, 15, 18, 21, 24, 27, 30, 33, 36, 39, 42, 45, 48, 51, 54, 57, 60, 63, 66, 69, 72, 75, 78, 81, 84, 87, 90, 93, 96, 99, 102, 105, 108, 111, 114, 117, 120, 123, 126, 129, 132, 135, 138, 141, 144, 147, 150, 153, 156, 159, 162, 165, 168, 171, 174, 177, 180, 183, 186, 189, 192, 195, 198, 201, 204, 207, 210, 213, 216, 219, 222, 225, 228, 231, 234, 237, 240, 243, 246, 249, 252, 255, 258, 261, 264, 267, 270, 273, 276, 279, 282, 285, 288, 291, 294, 297, 300]\n"
          ]
        }
      ]
    },
    {
      "cell_type": "markdown",
      "metadata": {
        "id": "_RD0MOJNQW66"
      },
      "source": [
        "#FUNCION RANGO range()\n",
        "Tiene los mismos componentes que slicing\n",
        "inicio, stop, incremento\n",
        "\n",
        "range(1,101, 1)"
      ]
    },
    {
      "cell_type": "code",
      "metadata": {
        "colab": {
          "base_uri": "https://localhost:8080/"
        },
        "id": "9kxPhaOeQshO",
        "outputId": "b5b3c5cc-c9fc-4239-e8c1-ed7c7750628c"
      },
      "source": [
        "\n",
        "numeros = [x for x in range (50,101)] #cambia el inicio\n",
        "print(numeros)\n",
        "numeros = [x for x in range (50,101, 5)] #cambia el incremento\n",
        "print(numeros)"
      ],
      "execution_count": null,
      "outputs": [
        {
          "output_type": "stream",
          "name": "stdout",
          "text": [
            "[50, 51, 52, 53, 54, 55, 56, 57, 58, 59, 60, 61, 62, 63, 64, 65, 66, 67, 68, 69, 70, 71, 72, 73, 74, 75, 76, 77, 78, 79, 80, 81, 82, 83, 84, 85, 86, 87, 88, 89, 90, 91, 92, 93, 94, 95, 96, 97, 98, 99, 100]\n",
            "[50, 55, 60, 65, 70, 75, 80, 85, 90, 95, 100]\n"
          ]
        }
      ]
    },
    {
      "cell_type": "markdown",
      "metadata": {
        "id": "aEHUSQAP2rBJ"
      },
      "source": [
        "#MÉTODOS DISPONIBLES DE LAS LISTAS\n",
        "FUNCION DIR"
      ]
    },
    {
      "cell_type": "code",
      "metadata": {
        "id": "cKPx6vNJ9r49"
      },
      "source": [
        "dir(list)"
      ],
      "execution_count": null,
      "outputs": []
    },
    {
      "cell_type": "code",
      "metadata": {
        "id": "iityZIH6FcXM"
      },
      "source": [
        "numeros = [4, 1, 15, 8, 22, 34, 50]\n",
        "print(numeros)\n",
        "numeros.append(99) #agrega un 99\n",
        "print(numeros)\n",
        "numeros.clear() #limpia la lista\n",
        "print(numeros)\n",
        "#ALTERNATIVA PARA LIMPIAR LISTA\n",
        "numeros = []  #reescribir los datos de la lista. lista vacia\n",
        "print (numeros)\n",
        "\n",
        "frutas = [\"uvas\", \"kiwi\", \"manzana\"]\n",
        "copia = frutas   #copio los valores de la lista frutas. Hace referencia a la lista por lo que dará los mismos que frutas\n",
        "#si se modifica frutas, tambien la copia\n",
        "\n",
        "print( frutas)\n",
        "print (copia)\n",
        "frutas.append(\"naranjas\")\n",
        " print(frutas)\n",
        " print(copia)\n",
        "\n",
        "colores = [\"rojo\", \"azul\", \"blanco\"]\n",
        "copia2 =colores.copy()  #con copy, se vuelven independientes, auqnue se modifi\n",
        "colores.append(\"verde\")\n",
        "print(colores)\n",
        "print(copia2)que la primera, la copia no\n",
        "print(colores)\n",
        "print(copia2)"
      ],
      "execution_count": null,
      "outputs": []
    },
    {
      "cell_type": "code",
      "metadata": {
        "id": "HV3G6bBd9zOQ"
      },
      "source": [
        "#EXTEND\n",
        "\n",
        "nombre = [\"jose\", \"pedro\", \"karina\"]\n",
        "otrosNombres = [\"josue\", \"diana\", \"dalia\"]\n",
        "print(nombre)\n",
        "print(otrosNombres)\n",
        "nombres = nombre + otrosNombres   #concatenar las dos listas\n",
        "print(nombres)\n",
        "print(otrosNombres)\n",
        "#TAMBIÉN SE PUEDE CONCATENAR CON FUNCION EXTEND\n",
        "otrosNombres.extend ( [\"jesus\", \"maria\", \"jose\"])\n",
        "print(otrosNombres)\n",
        "\n",
        "#INDEX\n",
        "print(\"Jesus esta en la posicion:\" , otrosNombres.index(\"jesus\"))\n",
        "\n",
        "#iNSERT TE PERMITE INSERTAR VALORES EN UNA PASICION Y LOS RECORRE HACIA LA IZQUIERDA\n",
        "otrosNombres.insert(4, \"espiritu santo\")\n",
        "print(otrosNombres)\n",
        "\n",
        "#POP saca el ultimo elemento y te lo regresa\n",
        "resultado = otrosNombres.pop()\n",
        "print(otrosNombres)\n",
        "print(resultado)"
      ],
      "execution_count": null,
      "outputs": []
    },
    {
      "cell_type": "code",
      "metadata": {
        "id": "u5oiWQGI1p60"
      },
      "source": [
        ""
      ],
      "execution_count": null,
      "outputs": []
    },
    {
      "cell_type": "markdown",
      "metadata": {
        "id": "EJ60ngdowQ9d"
      },
      "source": [
        "#TUPLAS\n",
        "\n",
        "#CARACTERISTICAS DE LAS TUPLAS\n",
        "\n",
        "- datos agrupados\n",
        "- Se declara usando #\n",
        "  - () con parentesis\n",
        "  - tuple () con el constructor\n",
        "- Estructura secuencial, indexada a partir de 0\n",
        "- pueden tener de 0 a n elementos\n",
        "- NO SON MUTABLES (no se puede: eliminar y/o cambiar)\n",
        "- Son buenas para almacenar información de consulta\n",
        "-Pueden almacenar info. de diferentes tipos de dato\n",
        "- Pueden ser anidadas\n",
        "- Tienen métodos útiles "
      ]
    },
    {
      "cell_type": "code",
      "metadata": {
        "colab": {
          "base_uri": "https://localhost:8080/"
        },
        "id": "0saSl2E4xSCo",
        "outputId": "25bf3aab-1a1f-463a-dd6b-abf195a76b2c"
      },
      "source": [
        "info = (\"juan23\", \"dios1234\" , \"123.232.1.12\")\n",
        "print(info)\n",
        "print(info[1])\n",
        "\n",
        "numeros = (0,1,2,3,4,5,6,7,8,9,10,11,12,13,14,15)\n",
        "print(numeros)\n",
        "print(numeros[5:11])\n",
        "\n",
        "cosas = (info, numeros) # SE PUEDEN ANIDAR TUPLAS\n",
        "\n",
        "print(cosas)\n",
        "print(cosas[0][2][4:7])\n",
        "\n",
        "print(cosas[0][2][-8:-5])"
      ],
      "execution_count": null,
      "outputs": [
        {
          "output_type": "stream",
          "name": "stdout",
          "text": [
            "('juan23', 'dios1234', '123.232.1.12')\n",
            "dios1234\n",
            "(0, 1, 2, 3, 4, 5, 6, 7, 8, 9, 10, 11, 12, 13, 14, 15)\n",
            "(5, 6, 7, 8, 9, 10)\n",
            "(('juan23', 'dios1234', '123.232.1.12'), (0, 1, 2, 3, 4, 5, 6, 7, 8, 9, 10, 11, 12, 13, 14, 15))\n",
            "232\n",
            "232\n"
          ]
        }
      ]
    },
    {
      "cell_type": "markdown",
      "metadata": {
        "id": "mqm43b0G0lTT"
      },
      "source": [
        "#MÉTODOS DE LAS TUPLAS\n",
        "Son los mismosde las lisas pero los que no invlucren mutabilidad (ya que las duplas no se pueden modificar) \n",
        "sus métodos son count, index"
      ]
    },
    {
      "cell_type": "markdown",
      "metadata": {
        "id": "LXS82y-B2y1E"
      },
      "source": [
        "#DICCIONARIOS\n",
        "### CARACTERISTICAS DE LOS DICCIONARIOS\n",
        "\n",
        "- Agrupan datos pero de forma no lineal (en listas y tuplas es lineal, uno detras de otro, por eso se indexaban)\n",
        "- Se declaran ^\n",
        "    - {}\n",
        "    - dict()\n",
        "- Formado por pares del tipo llave:valor, donde: \n",
        "    - Llave es de tipo string (siempre)- es un identificador, el nombvre que se le va a dar al valor\n",
        "   -Valor puede ser cualquier tipo de dato incluyendo los diccionarios\n",
        "- Se seleccionan con la llave de la forma: [\"id_llave\"]\n",
        "- Son mutables\n",
        "- Son anidables\n",
        "- Son equivalentes al tipo de dato JSON del lenguaje JavaScript (JS) "
      ]
    },
    {
      "cell_type": "code",
      "metadata": {
        "colab": {
          "base_uri": "https://localhost:8080/"
        },
        "id": "M2FC3M5A46lL",
        "outputId": "37f15fbf-e444-49b0-f357-fed7a50ff581"
      },
      "source": [
        "alumno = { \"nombre\" : \"José\" }\n",
        "print (alumno)\n",
        "print (alumno [\"nombre\"] )\n",
        "\n",
        "alumno = { \"nombre\" : \"José\" , \"nc\" : \"2129229292\", \"edad\":18 }\n",
        "print (\"Edad del alumno =\", alumno [\"edad\"] )\n",
        "\n",
        "print(alumno[\"nombre\"].upper())\n",
        "\n",
        "#declarar diccionario con dict (segunda forma)\n",
        "alumno2 =dict () #se declara diccionario vacio y se pueden ir agregando valores\n",
        "alumno2 [\"nombre\"] = \"jose\"\n",
        "print(alumno2)\n",
        "alumno2 [\"nc\"] = \"2129229292\"\n",
        "alumno2 [\"edad\"] = \"18\"\n",
        "print(alumno2)\n",
        "#alumno2 [\"edad\"] = alumno2[\"edad\"] + 1\n",
        "#print(alumno2)"
      ],
      "execution_count": null,
      "outputs": [
        {
          "output_type": "stream",
          "name": "stdout",
          "text": [
            "{'nombre': 'José'}\n",
            "José\n",
            "Edad del alumno = 18\n",
            "JOSÉ\n",
            "{'nombre': 'jose'}\n",
            "{'nombre': 'jose', 'nc': '2129229292', 'edad': '18'}\n"
          ]
        }
      ]
    },
    {
      "cell_type": "code",
      "metadata": {
        "colab": {
          "base_uri": "https://localhost:8080/"
        },
        "id": "-YllxwbS8Vln",
        "outputId": "fca43a6b-f116-4c4f-a5aa-d531a8c9b000"
      },
      "source": [
        "cliente = {\"id\":\"CT2121\", \n",
        "           \"nombre\":\"JOsé Pedroza Rosales\", #SE PUEDE IR AGREGANDO SALTO DE LINEA PARA VISUALIZAR TODOS LOS DATOS. EN DICCIONARIOS ES POSIBLE\n",
        "           \"telefonos\":\"casa = 55445455562 cel=0445585968582\" } \n",
        "print (cliente)\n",
        "cliente = {\"id\":\"CT2121\", \n",
        "           \"nombre\": {\n",
        "               \"nombres\" : [\"José\", \"Eduardo\"], #usa lista dentro del diccionario\n",
        "               \"paterno\" : \"Pedroza\",\n",
        "               \"materno\" : \"Rosales\"\n",
        "           },\n",
        "           \"telefonos\" : {\n",
        "               \"casa\" : \"55445455562\",    #diccionario dentro de un diccionario\n",
        "               \"trabajo\" : \"55245244521\",\n",
        "               \"celular\" : \"0445525234252\" \n",
        "           },\n",
        "           \"productos\" : {       #se usa un diccionario donde se incorporan diccionarios\n",
        "                    \"ahorros\" : {\"numero_cuenta\":\"7788\", \"ahorro\": 2500.5},\n",
        "                    \"tarjetas\" : [\n",
        "                                  {\"tipo\":\"debito\", \"saldo\" :10000.5},\n",
        "                                  {\"tipo\":\"credito preferente\", \"limite\":25000.5},\n",
        "                                  {\"tipo\":\"lite\" , \"limite\":15000.5}\n",
        "                                ]\n",
        "           },\n",
        "                 \"dirección\" :  {\n",
        "                     \"calle\":\"Av. Central\",\n",
        "                     \"numero\":1245,\n",
        "                     \"colonia\":\"Impulsora\",\n",
        "                     \"delegación\": \"neza\",\n",
        "                     \"estado\" : {\n",
        "                          \"clave\" :15,\n",
        "                          \"nombre_corto\":\"EdoMex\",\n",
        "                          \"nombre\":\"EStado de México\" \n",
        "                          }\n",
        "                          }\n",
        "               \n",
        "           }\n",
        "print(cliente[\"telefonos\"][\"casa\"]) \n",
        "print(cliente)\n",
        "print(cliente[\"productos\"][\"ahorros\"][\"ahorro\"])\n",
        "#limite de credito de le LITE\n",
        "print( cliente [\"productos\"][\"tarjetas\"][2][\"limite\"]) #el 2 es del inmdexado de la lista\n",
        "#DIRECCIÓN DEL CLIENTE EN MAYUSCULAS\n",
        "\n",
        "print(cliente[\"dirección\"][\"estado\"][\"nombre\"].upper())"
      ],
      "execution_count": null,
      "outputs": [
        {
          "output_type": "stream",
          "name": "stdout",
          "text": [
            "{'id': 'CT2121', 'nombre': 'JOsé Pedroza Rosales', 'telefonos': 'casa = 55445455562 cel=0445585968582'}\n",
            "55445455562\n",
            "{'id': 'CT2121', 'nombre': {'nombres': ['José', 'Eduardo'], 'paterno': 'Pedroza', 'materno': 'Rosales'}, 'telefonos': {'casa': '55445455562', 'trabajo': '55245244521', 'celular': '0445525234252'}, 'productos': {'ahorros': {'numero_cuenta': '7788', 'ahorro': 2500.5}, 'tarjetas': [{'tipo': 'debito', 'saldo': 10000.5}, {'tipo': 'credito preferente', 'limite': 25000.5}, {'tipo': 'lite', 'limite': 15000.5}]}, 'dirección': {'calle': 'Av. Central', 'numero': 1245, 'colonia': 'Impulsora', 'delegación': 'neza', 'estado': {'clave': 15, 'nombre_corto': 'EdoMex', 'nombre': 'EStado de México'}}}\n",
            "2500.5\n",
            "15000.5\n",
            "ESTADO DE MÉXICO\n"
          ]
        }
      ]
    }
  ]
}