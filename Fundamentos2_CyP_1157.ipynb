{
  "nbformat": 4,
  "nbformat_minor": 0,
  "metadata": {
    "colab": {
      "name": "Fundamentos2_CyP_1157.ipynb",
      "provenance": [],
      "authorship_tag": "ABX9TyPXYDpTn2Pg9CDiIqFHy6ot",
      "include_colab_link": true
    },
    "kernelspec": {
      "name": "python3",
      "display_name": "Python 3"
    },
    "language_info": {
      "name": "python"
    }
  },
  "cells": [
    {
      "cell_type": "markdown",
      "metadata": {
        "id": "view-in-github",
        "colab_type": "text"
      },
      "source": [
        "<a href=\"https://colab.research.google.com/github/CarmenSosaO/CyPg1157/blob/main/Fundamentos2_CyP_1157.ipynb\" target=\"_parent\"><img src=\"https://colab.research.google.com/assets/colab-badge.svg\" alt=\"Open In Colab\"/></a>"
      ]
    },
    {
      "cell_type": "code",
      "metadata": {
        "id": "YX9yzWwEFUmL"
      },
      "source": [
        ""
      ],
      "execution_count": null,
      "outputs": []
    },
    {
      "cell_type": "markdown",
      "metadata": {
        "id": "etOyehcCFa8E"
      },
      "source": [
        "#TIPOS DE DATOS ESTRUCTURADOS DE PYTHON\n",
        "\n",
        "1. Listas\n",
        "2. Tuplas\n",
        "3. Diccionarios\n",
        "4. Conjuntos (opcional)"
      ]
    },
    {
      "cell_type": "markdown",
      "metadata": {
        "id": "6Htkskk7Fpl8"
      },
      "source": [
        "#LISTAS\n",
        "\n",
        "- Tipo de dato que agrupa variables o valores.\n",
        "- Estructura secuencial (indexados empezando por 0)\n",
        "- Se declara de dos formas\n",
        "  - usando [ ]\n",
        "  - usando list ()  constructor list\n",
        "  -Usando un generador\n",
        "- Puede contener tipos de dato diversos (en otros lenguajes de prog, eso no es posible de forma directa)\n",
        "- Los elementos internos se seleciconan con [ ] \n",
        "- Soporta slicing\n",
        "- SON MUTABLES (Se pueen modificar a lo largo del programa)\n",
        "-GENERADORES [variable for x in rango (valor del rango)] \n",
        "- Al ser una clase contiene muchos métodos útiles"
      ]
    },
    {
      "cell_type": "code",
      "metadata": {
        "colab": {
          "base_uri": "https://localhost:8080/"
        },
        "id": "j18jp3pTGt4F",
        "outputId": "a2cc3ae9-f51c-4d61-805a-b8e58d1fa3a3"
      },
      "source": [
        "numeros = [10, 5, 2, 3, 1 ]\n",
        "print (numeros)\n",
        "\n",
        "numeros2 = list() #declarara lista vacia e ir integrando valores\n",
        "numeros2.append(10) # método append agregar nuevos elementos a una lista\n",
        "numeros2.append(5)\n",
        "numeros2.append(2)\n",
        "numeros2.append(3)\n",
        "numeros2.append(1)\n",
        "\n",
        "print(numeros2)\n",
        "numeros[2] = 20  #cambiar el valor de uno de los elemtnos de la lista, en este caso el 2\n",
        "print(numeros)\n",
        "numeros[-1] = 33\n",
        "\n",
        "print(numeros)\n"
      ],
      "execution_count": 22,
      "outputs": [
        {
          "output_type": "stream",
          "name": "stdout",
          "text": [
            "[10, 5, 2, 3, 1]\n",
            "[10, 5, 2, 3, 1]\n",
            "[10, 5, 20, 3, 1]\n",
            "[10, 5, 20, 3, 33]\n"
          ]
        }
      ]
    },
    {
      "cell_type": "code",
      "metadata": {
        "colab": {
          "base_uri": "https://localhost:8080/"
        },
        "id": "YLy7I3SJIc9K",
        "outputId": "560ede10-297f-4855-df8c-4236a91807eb"
      },
      "source": [
        "#EJEMPLOS DE CÓMO LAS LISTAS PUEDE CONTENER DATOS DIVERSOS\n",
        "\n",
        "cosas = [12, 2, True, \"José\", 1.57, [\"pera\", \"kiwi\", \"uva\" ] ]\n",
        "print(cosas)\n",
        "print(cosas [1])\n",
        "print(cosas[4])\n",
        "print(cosas[5])\n",
        "print(cosas[5][1]) #hay dos selectores [], el primer selector, llama a la lista\n",
        "#como el elemento seleccionado es una lista puedo sacar un segundo selector para seleccionar otro elemento de ella\n",
        "print(cosas[3][1:3:]) #seleccionar solo la os de Jose\n",
        "cosas[3] =cosas[3].upper() #convertir en mayusculas\n",
        "print (cosas)"
      ],
      "execution_count": 16,
      "outputs": [
        {
          "output_type": "stream",
          "name": "stdout",
          "text": [
            "[12, 2, True, 'José', 1.57, ['pera', 'kiwi', 'uva']]\n",
            "2\n",
            "1.57\n",
            "['pera', 'kiwi', 'uva']\n",
            "kiwi\n",
            "os\n",
            "[12, 2, True, 'JOSÉ', 1.57, ['pera', 'kiwi', 'uva']]\n"
          ]
        }
      ]
    },
    {
      "cell_type": "code",
      "metadata": {
        "colab": {
          "base_uri": "https://localhost:8080/"
        },
        "id": "rOiogxPqMF3T",
        "outputId": "89a7e2ed-29b1-4d98-f832-0f8c5e139f4a"
      },
      "source": [
        "numeros = [1,2,3,4,5,6,7,8,9,10,11] \n",
        "print(numeros)\n",
        "# EJERICIO 1. Con slicing. obtener del 4 al 8\n",
        "print(numeros[3:8] ) #se coloca una posición extra\n",
        "#EJERCICIO 2. obtener [9,10] \n",
        "print (numeros[8:10] )\n",
        "print (numeros[-3:-1:] )\n",
        "#EJERCICIO 3. Imprimir la lista en orden inverso [11, 10, 9, ...1] con slicing\n",
        "print(numeros [::-1] )\n"
      ],
      "execution_count": 21,
      "outputs": [
        {
          "output_type": "stream",
          "name": "stdout",
          "text": [
            "[1, 2, 3, 4, 5, 6, 7, 8, 9, 10, 11]\n",
            "[4, 5, 6, 7, 8]\n",
            "[9, 10]\n",
            "[9, 10]\n",
            "[11, 10, 9, 8, 7, 6, 5, 4, 3, 2, 1]\n"
          ]
        }
      ]
    },
    {
      "cell_type": "code",
      "metadata": {
        "colab": {
          "base_uri": "https://localhost:8080/"
        },
        "id": "AASBKkaTPpUI",
        "outputId": "ac383fd1-e67b-4ae6-d7ca-bfb7162bedab"
      },
      "source": [
        "#CREAR UNA LISTA CON UN GENERADOR\n",
        "numeros = [x for x in range (101)] # es hasta el 100, el tope no se incluye\n",
        "print(numeros) \n",
        "\n",
        "#multiplicar cada valor por 3\n",
        "numeros = [x*3 for x in range (101)]\n",
        "print(numeros)"
      ],
      "execution_count": 27,
      "outputs": [
        {
          "output_type": "stream",
          "name": "stdout",
          "text": [
            "[0, 1, 2, 3, 4, 5, 6, 7, 8, 9, 10, 11, 12, 13, 14, 15, 16, 17, 18, 19, 20, 21, 22, 23, 24, 25, 26, 27, 28, 29, 30, 31, 32, 33, 34, 35, 36, 37, 38, 39, 40, 41, 42, 43, 44, 45, 46, 47, 48, 49, 50, 51, 52, 53, 54, 55, 56, 57, 58, 59, 60, 61, 62, 63, 64, 65, 66, 67, 68, 69, 70, 71, 72, 73, 74, 75, 76, 77, 78, 79, 80, 81, 82, 83, 84, 85, 86, 87, 88, 89, 90, 91, 92, 93, 94, 95, 96, 97, 98, 99, 100]\n",
            "[0, 3, 6, 9, 12, 15, 18, 21, 24, 27, 30, 33, 36, 39, 42, 45, 48, 51, 54, 57, 60, 63, 66, 69, 72, 75, 78, 81, 84, 87, 90, 93, 96, 99, 102, 105, 108, 111, 114, 117, 120, 123, 126, 129, 132, 135, 138, 141, 144, 147, 150, 153, 156, 159, 162, 165, 168, 171, 174, 177, 180, 183, 186, 189, 192, 195, 198, 201, 204, 207, 210, 213, 216, 219, 222, 225, 228, 231, 234, 237, 240, 243, 246, 249, 252, 255, 258, 261, 264, 267, 270, 273, 276, 279, 282, 285, 288, 291, 294, 297, 300]\n"
          ]
        }
      ]
    },
    {
      "cell_type": "markdown",
      "metadata": {
        "id": "_RD0MOJNQW66"
      },
      "source": [
        "#FUNCION RANGO range()\n",
        "Tiene los mismos componentes que slicing\n",
        "inicio, stop, incremento\n",
        "\n",
        "range(1,101, 1)"
      ]
    },
    {
      "cell_type": "code",
      "metadata": {
        "colab": {
          "base_uri": "https://localhost:8080/"
        },
        "id": "9kxPhaOeQshO",
        "outputId": "aa193bd6-b5a0-42e5-d31c-85552bdf52be"
      },
      "source": [
        "numeros = [x for x in range (50,101)] #cambia el inicio\n",
        "print(numeros)\n",
        "numeros = [x for x in range (50,101, 5)] #cambia el incremento\n",
        "print(numeros)"
      ],
      "execution_count": 32,
      "outputs": [
        {
          "output_type": "stream",
          "name": "stdout",
          "text": [
            "[50, 51, 52, 53, 54, 55, 56, 57, 58, 59, 60, 61, 62, 63, 64, 65, 66, 67, 68, 69, 70, 71, 72, 73, 74, 75, 76, 77, 78, 79, 80, 81, 82, 83, 84, 85, 86, 87, 88, 89, 90, 91, 92, 93, 94, 95, 96, 97, 98, 99, 100]\n",
            "[50, 55, 60, 65, 70, 75, 80, 85, 90, 95, 100]\n"
          ]
        }
      ]
    },
    {
      "cell_type": "markdown",
      "metadata": {
        "id": "jrXnFtpqRII_"
      },
      "source": [
        "#MÉTODOS DISPONIBLES DE LAS LISTAS\n",
        " FUNCIÓN DIR"
      ]
    },
    {
      "cell_type": "code",
      "metadata": {
        "id": "JlcYQX2RRQ9g",
        "outputId": "c6cd68e6-600d-4464-f769-e674484a7547",
        "colab": {
          "base_uri": "https://localhost:8080/"
        }
      },
      "source": [
        "dir(list)"
      ],
      "execution_count": 33,
      "outputs": [
        {
          "output_type": "execute_result",
          "data": {
            "text/plain": [
              "['__add__',\n",
              " '__class__',\n",
              " '__contains__',\n",
              " '__delattr__',\n",
              " '__delitem__',\n",
              " '__dir__',\n",
              " '__doc__',\n",
              " '__eq__',\n",
              " '__format__',\n",
              " '__ge__',\n",
              " '__getattribute__',\n",
              " '__getitem__',\n",
              " '__gt__',\n",
              " '__hash__',\n",
              " '__iadd__',\n",
              " '__imul__',\n",
              " '__init__',\n",
              " '__init_subclass__',\n",
              " '__iter__',\n",
              " '__le__',\n",
              " '__len__',\n",
              " '__lt__',\n",
              " '__mul__',\n",
              " '__ne__',\n",
              " '__new__',\n",
              " '__reduce__',\n",
              " '__reduce_ex__',\n",
              " '__repr__',\n",
              " '__reversed__',\n",
              " '__rmul__',\n",
              " '__setattr__',\n",
              " '__setitem__',\n",
              " '__sizeof__',\n",
              " '__str__',\n",
              " '__subclasshook__',\n",
              " 'append',\n",
              " 'clear',\n",
              " 'copy',\n",
              " 'count',\n",
              " 'extend',\n",
              " 'index',\n",
              " 'insert',\n",
              " 'pop',\n",
              " 'remove',\n",
              " 'reverse',\n",
              " 'sort']"
            ]
          },
          "metadata": {},
          "execution_count": 33
        }
      ]
    },
    {
      "cell_type": "code",
      "metadata": {
        "id": "-rnzJso4SdY2"
      },
      "source": [
        "numeros = [4, 1, 15, 8, 22, 34, 50]\n",
        "print(numeros)\n",
        "numeros.append(99) #agrega un 99\n",
        "print(numeros)\n",
        "numeros.clear() #limpia la lista\n",
        "print(numeros)\n",
        "#ALTERNATIVA PARA LIMPIAR LISTA\n",
        "numeros = []  #reescribir los datos de la lista. lista vacia\n",
        "print (numeros)\n",
        "\n",
        "frutas = [\"uvas\", \"kiwi\", \"manzana\"]\n",
        "copia = frutas   #copio los valores de la lista frutas. Hace referencia a la lista por lo que dará los mismos que frutas\n",
        "#si se modifica frutas, tambien la copia\n",
        "\n",
        "print( frutas)\n",
        "print (copia)\n",
        " frutas.append(\"naranjas\")\n",
        " print(frutas)\n",
        " print(copia)\n",
        "\n",
        "colores = [\"rojo\", \"azul\", \"blanco\"]\n",
        "copia2 =colores.copy()  #con copy, se vuelven independientes, auqnue se modifique la primera, la copia no\n",
        "print(colores)\n",
        "print(copia2)\n",
        "colores.append(\"verde\")\n",
        "print(colores)\n",
        "print(copia2)"
      ],
      "execution_count": null,
      "outputs": []
    },
    {
      "cell_type": "code",
      "metadata": {
        "id": "BXqDwJtPVHM3",
        "outputId": "7b8a34d9-365c-4c30-af29-92597804e6de",
        "colab": {
          "base_uri": "https://localhost:8080/"
        }
      },
      "source": [
        "#EXTEND\n",
        "\n",
        "nombre = [\"jose\", \"pedro\", \"karina\"]\n",
        "otrosNombres = [\"josue\", \"diana\", \"dalia\"]\n",
        "print(nombre)\n",
        "print(otrosNombres)\n",
        "nombres = nombre + otrosNombres   #concatenar las dos listas\n",
        "print(nombres)\n",
        "print(otrosNombres)\n",
        "#TAMBIÉN SE PUEDE CONCATENAR CON FUNCION EXTEND\n",
        "otrosNombres.extend ( [\"jesus\", \"maria\", \"jose\"])\n",
        "print(otrosNombres)\n",
        "\n",
        "#INDEX\n",
        "print(\"Jesus esta en la posicion:\" , otrosNombres.index(\"jesus\"))\n",
        "\n",
        "#iNSERT TE PERMITE INSERTAR VALORES EN UNA PASICION Y LOS RECORRE HACIA LA IZQUIERDA\n",
        "otrosNombres.insert(4, \"espiritu santo\")\n",
        "print(otrosNombres)\n",
        "\n",
        "#POP saca el ultimo elemento y te lo regresa\n",
        "resultado = otrosNombres.pop()\n",
        "print(otrosNombres)\n",
        "print(resultado)"
      ],
      "execution_count": 49,
      "outputs": [
        {
          "output_type": "stream",
          "name": "stdout",
          "text": [
            "['jose', 'pedro', 'karina']\n",
            "['josue', 'diana', 'dalia']\n",
            "['jose', 'pedro', 'karina', 'josue', 'diana', 'dalia']\n",
            "['josue', 'diana', 'dalia']\n",
            "['josue', 'diana', 'dalia', 'jesus', 'maria', 'jose']\n",
            "Jesus esta en la posicion: 3\n",
            "['josue', 'diana', 'dalia', 'jesus', 'espiritu santo', 'maria', 'jose']\n",
            "['josue', 'diana', 'dalia', 'jesus', 'espiritu santo', 'maria']\n",
            "jose\n"
          ]
        }
      ]
    }
  ]
}