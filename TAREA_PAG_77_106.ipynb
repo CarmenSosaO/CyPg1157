{
  "nbformat": 4,
  "nbformat_minor": 0,
  "metadata": {
    "colab": {
      "name": "TAREA PAG 77-106",
      "provenance": [],
      "authorship_tag": "ABX9TyMIgzdSAJsM/sS1MIdPPQdS",
      "include_colab_link": true
    },
    "kernelspec": {
      "name": "python3",
      "display_name": "Python 3"
    },
    "language_info": {
      "name": "python"
    }
  },
  "cells": [
    {
      "cell_type": "markdown",
      "metadata": {
        "id": "view-in-github",
        "colab_type": "text"
      },
      "source": [
        "<a href=\"https://colab.research.google.com/github/CarmenSosaO/CyPg1157/blob/main/TAREA_PAG_77_106.ipynb\" target=\"_parent\"><img src=\"https://colab.research.google.com/assets/colab-badge.svg\" alt=\"Open In Colab\"/></a>"
      ]
    },
    {
      "cell_type": "code",
      "metadata": {
        "id": "NtBxX3YeBm7d",
        "colab": {
          "base_uri": "https://localhost:8080/"
        },
        "outputId": "acded289-0d0c-4fa5-9af7-c58629a3576e"
      },
      "source": [
        "#PROBLEMA 2.1\n",
        "T = 0\n",
        "N = int(input(\"Ingresa el número de sonidos emitidos por un grillo en un minuto:  \"))\n",
        "if N > 0:\n",
        "    T= N/4 +40\n",
        "    print(\"La temperatura es: \", T)\n",
        "else:\n",
        "    print(\"fin\")\n",
        "\n"
      ],
      "execution_count": null,
      "outputs": [
        {
          "output_type": "stream",
          "name": "stdout",
          "text": [
            "Ingresa el número de sonidos emitidos por un grillo en un minuto:  50\n",
            "La temperatura es:  52.5\n"
          ]
        }
      ]
    },
    {
      "cell_type": "code",
      "metadata": {
        "colab": {
          "base_uri": "https://localhost:8080/"
        },
        "id": "2NnaWzwDBiTG",
        "outputId": "de1d78af-f6ee-4d79-8a38-c8c556dbe424"
      },
      "source": [
        "#PROBLEMA 2.2\n",
        "P = int(input(\"Ingresa aun número entero: \"))\n",
        "Q = int(input(\"Ingresa otro número entero: \"))\n",
        "EXP = P**3+Q**4-2*P**2\n",
        "if EXP < 680:\n",
        "    print(P, Q)\n",
        "else:\n",
        "    print(\"FIN\")\n"
      ],
      "execution_count": null,
      "outputs": [
        {
          "output_type": "stream",
          "name": "stdout",
          "text": [
            "Ingresa aun número entero7\n",
            "Ingresa otro número entero5\n",
            "FIN\n"
          ]
        }
      ]
    },
    {
      "cell_type": "code",
      "metadata": {
        "colab": {
          "base_uri": "https://localhost:8080/"
        },
        "id": "rhwTWJRtD-SE",
        "outputId": "41728c04-cedb-4d21-a019-6b13f2936fb4"
      },
      "source": [
        "#PROBLEMA 2.3\n",
        "A = float(input(\"Ingresa un número diferente de cero: \"))\n",
        "B = float(input(\"Ingresa otro número: \"))\n",
        "C = float(input(\"Ingresa otro número: \"))\n",
        "DIS = 0\n",
        "X1 = 0\n",
        "X2 = 0\n",
        "if A !=0:\n",
        "    DIS = B**2-4*A*C \n",
        "    if DIS >= 0:\n",
        "        print(DIS)\n",
        "        X1 = ((-B)+(DIS**0.5))/(2*A)\n",
        "        X2 = ((-B)-(DIS**0.5))/(2*A)\n",
        "        print(\"RAICES REALES: \", X1, X2)\n",
        "    else:\n",
        "        print (\"FIN\")\n",
        "else:\n",
        "    print(\"ingresa un número diferente de cero\")"
      ],
      "execution_count": null,
      "outputs": [
        {
          "output_type": "stream",
          "name": "stdout",
          "text": [
            "Ingresa un número diferente de cero: -7.5\n",
            "Ingresa otro número: 3\n",
            "Ingresa otro número: 1\n",
            "39.0\n",
            "RAICES REALES:  -0.21633319989322655 0.6163331998932265\n"
          ]
        }
      ]
    },
    {
      "cell_type": "code",
      "metadata": {
        "colab": {
          "base_uri": "https://localhost:8080/"
        },
        "id": "Wwc-yw0Khbgx",
        "outputId": "a5e460c0-93d1-4215-d7ad-35d61eb3dd9f"
      },
      "source": [
        "#PROBLEMA 2.4\n",
        "MAT = int(input(\"ingresa tu matricula: \"))\n",
        "CAL1 = float(input(\"Ingresa tu primera calificación: \"))\n",
        "CAL2 = float(input(\"Ingresa tu segunda calificación: \"))\n",
        "CAL3 = float(input(\"Ingresa tu tercera calificación: \"))\n",
        "CAL4 = float(input(\"Ingresa tu cuarta calificación: \"))\n",
        "CAL5 = float(input(\"Ingresa tu quinta calificación: \"))\n",
        "PRO = ((CAL1+CAL2+CAL3+CAL4+CAL5)/5)\n",
        "if PRO>=6:\n",
        "    print(f\"{MAT}, {PRO}, APROBADO\")\n",
        "else:\n",
        "    print(f\"{MAT}, {PRO}, NO APROBADO\")\n"
      ],
      "execution_count": null,
      "outputs": [
        {
          "output_type": "stream",
          "name": "stdout",
          "text": [
            "ingresa tu matricula: 5\n",
            "Ingresa tu primera calificación: 4.8\n",
            "Ingresa tu segunda calificación: 7\n",
            "Ingresa tu tercera calificación: 6.3\n",
            "Ingresa tu cuarta calificación: 5.9\n",
            "Ingresa tu quinta calificación: 5\n",
            "5, 5.8, NO APROBADO\n"
          ]
        }
      ]
    },
    {
      "cell_type": "code",
      "metadata": {
        "colab": {
          "base_uri": "https://localhost:8080/"
        },
        "id": "CScxBVgeppYy",
        "outputId": "37cb7471-69fb-4879-c2c2-9ee95c11a3a7"
      },
      "source": [
        "#PROBLEMA 2.5\n",
        "NUM =int(input(\"Ingresa un número: \"))\n",
        "\n",
        "if NUM > 0:\n",
        "    print(\"POSITIVO\")\n",
        "else:\n",
        "    if NUM==0:\n",
        "        print(\"NULO\")\n",
        "    else:\n",
        "        print(\"NEGATIVO\")\n",
        "print(\"FIN\")"
      ],
      "execution_count": null,
      "outputs": [
        {
          "output_type": "stream",
          "name": "stdout",
          "text": [
            "Ingresa un número: 5\n",
            "POSITIVO\n",
            "FIN\n"
          ]
        }
      ]
    },
    {
      "cell_type": "code",
      "metadata": {
        "colab": {
          "base_uri": "https://localhost:8080/"
        },
        "id": "HSlZR9wcqxfl",
        "outputId": "e1a89fe6-15ab-4ecd-e371-ee08096e6d4b"
      },
      "source": [
        "#PROBLEMA 2.6\n",
        "A =int(input(\"Ingresa un número: \"))\n",
        "\n",
        "if A == 0:\n",
        "    print(\"NULO\")\n",
        "else:\n",
        "    if (-1)**A>0:\n",
        "        print(\"PAR\")\n",
        "    else:\n",
        "        print(\"IMPAR\")\n",
        "print(\"FIN\")"
      ],
      "execution_count": null,
      "outputs": [
        {
          "output_type": "stream",
          "name": "stdout",
          "text": [
            "Ingresa un número: 8\n",
            "PAR\n",
            "FIN\n"
          ]
        }
      ]
    },
    {
      "cell_type": "code",
      "metadata": {
        "colab": {
          "base_uri": "https://localhost:8080/"
        },
        "id": "uRtJwiMAtuHQ",
        "outputId": "c02853ed-6e80-4414-e048-6a3dede94430"
      },
      "source": [
        "#PROBLEMA 2.7\n",
        "A = int(input(\"Introduzca un número entero: \"))\n",
        "B = int(input(\"Introduzca otro número entero: \"))\n",
        "C = int(input(\"Introduzca otro número entero: \"))\n",
        "\n",
        "if A==B or B==A or A == C or B == C:\n",
        "    print(\"Algunos números son iguales, escribir números distintos\")\n",
        "else:\n",
        "    if A<B:\n",
        "        if B<C:\n",
        "            print(\"Los números están en orden creciente\")\n",
        "        else:\n",
        "            print(\"Los números no están en orden creciente\")\n",
        "    else: \n",
        "        print(\"Los números no están en orden creciente\")\n",
        "    print(\"FIN\")"
      ],
      "execution_count": null,
      "outputs": [
        {
          "output_type": "stream",
          "name": "stdout",
          "text": [
            "Introduzca un número entero: 2\n",
            "Introduzca otro número entero: 3\n",
            "Introduzca otro número entero: 4\n",
            "Los números están en orden creciente\n",
            "FIN\n"
          ]
        }
      ]
    },
    {
      "cell_type": "code",
      "metadata": {
        "colab": {
          "base_uri": "https://localhost:8080/"
        },
        "id": "IjV6GUvev5KA",
        "outputId": "c5a84c5b-86c3-4719-e97a-6ca0345376eb"
      },
      "source": [
        "#PROBLEMA 2.8\n",
        "COMPRA = float(input(\"Ingrese el monto de su compra: \"))\n",
        "PAGAR = 0\n",
        "if COMPRA < 500:\n",
        "    print(\"PAGAR\", COMPRA)\n",
        "else:\n",
        "    if COMPRA <= 1000:\n",
        "        PAGAR = COMPRA-(COMPRA*0.05)\n",
        "        print(\"PAGAR :\", PAGAR)\n",
        "    else:\n",
        "        if COMPRA <= 7000:\n",
        "            PAGAR = COMPRA-(COMPRA*0.11)\n",
        "            print(\"PAGAR :\", PAGAR)\n",
        "        else:\n",
        "            if COMPRA <= 15000:\n",
        "                PAGAR = COMPRA-(COMPRA*0.18)\n",
        "                print(\"PAGAR :\", PAGAR)\n",
        "            else:\n",
        "                PAGAR = COMPRA-(COMPRA*0.25)\n",
        "                print(\"PAGAR :\", PAGAR)\n",
        "\n",
        "print(\"FIN\")\n",
        "\n"
      ],
      "execution_count": null,
      "outputs": [
        {
          "output_type": "stream",
          "name": "stdout",
          "text": [
            "Ingrese el monto de su compra: 14200.5\n",
            "PAGAR : 11644.41\n",
            "FIN\n"
          ]
        }
      ]
    },
    {
      "cell_type": "code",
      "metadata": {
        "id": "NbQBZOvWNxHb"
      },
      "source": [
        "#PROBLEMA 2.9\n",
        "PREBAS = float(input(\"Ingresa el precio del artículo: \"))\n",
        "IMP = 0\n",
        "PRETOT = 0\n",
        "\n",
        "if PREBAS > 500:\n",
        "    IMP = 20*0.30+(PREBAS-40)*0.50\n",
        "else:\n",
        "    if PREBAS > 40:\n",
        "        IMP = 20*0.30+(PREBAS-40)*0.40\n",
        "    else:\n",
        "        if PREBAS >20:\n",
        "            IMP = (PREBAS-20)*0.30\n",
        "        else: IMP ==0\n",
        "\n",
        "    PRETOT = PREBAS+IMP\n",
        "    print(f\"Precio básico: {PREBAS}, Precio total: {PRETOT}\")"
      ],
      "execution_count": null,
      "outputs": []
    },
    {
      "cell_type": "code",
      "metadata": {
        "colab": {
          "base_uri": "https://localhost:8080/"
        },
        "id": "0YN68foqRxaV",
        "outputId": "5f112761-d985-43db-864c-cdb4c0c673f6"
      },
      "source": [
        "#PROBLEMA 2.10\n",
        "A = float(input(\"Ingrese un número: \"))\n",
        "B = float(input(\"Ingrese otro número: \"))\n",
        "C = float(input(\"Ingrese otro número: \"))\n",
        "\n",
        "if A > B:\n",
        "    if A > C:\n",
        "        print(f\"{A} es el mayor\")\n",
        "    else:\n",
        "        if A == C:\n",
        "            print(f\" {A} y {C} son los mayores\")\n",
        "        else: \n",
        "            print(f\"{C} es el mayor\")\n",
        "else:\n",
        "    if A==B:\n",
        "        if A > C:\n",
        "            print(f\"{A} y {B} son los mayores\")\n",
        "        else:\n",
        "            if A == C:\n",
        "                print(f\"{A}, {B} y {C} son iguales\")\n",
        "            else:\n",
        "                print(f\"{C} es el mayor\")\n",
        "    else:\n",
        "        if B > C:\n",
        "            print(f\"{B} es el mayor\")\n",
        "        else:\n",
        "            if B == C:\n",
        "                print(f\"{B} y {C} son los mayores\")\n",
        "            else:\n",
        "                print(f\"{C} es el mayor\")\n",
        "print(\"FIN\")\n"
      ],
      "execution_count": null,
      "outputs": [
        {
          "output_type": "stream",
          "name": "stdout",
          "text": [
            "Ingrese un número: 7\n",
            "Ingrese otro número: 7\n",
            "Ingrese otro número: 4\n",
            "7.0 y 7.0 son los mayores\n",
            "FIN\n"
          ]
        }
      ]
    },
    {
      "cell_type": "code",
      "metadata": {
        "colab": {
          "base_uri": "https://localhost:8080/"
        },
        "id": "n0dKwy2iYhWE",
        "outputId": "a22b76b9-7a35-47d3-85be-5300071eb7d2"
      },
      "source": [
        "#PROBLEMA 2.11\n",
        "CLAVE = int(input(\"Ingresa la clave de la zona geográfica: \"))\n",
        "NUMIN = int(input(\"Ingresa el número de minutos de la llamada: \"))\n",
        "COST = 0\n",
        "if CLAVE == 12:\n",
        "    COST = NUMIN*2\n",
        "elif CLAVE == 15:\n",
        "    COST = NUMIN*2.2\n",
        "elif CLAVE == 18:\n",
        "    COST = NUMIN*4.5\n",
        "elif CLAVE == 19:\n",
        "    COST = NUMIN*3.5\n",
        "elif CLAVE == 23 or CLAVE ==25:\n",
        "    COST = NUMIN*6\n",
        "elif CLAVE == 19:\n",
        "    COST = NUMIN*5\n",
        "print(\"Costo total de la llamada: \", COST)\n",
        "\n"
      ],
      "execution_count": null,
      "outputs": [
        {
          "output_type": "stream",
          "name": "stdout",
          "text": [
            "Ingresa la clave de la zona geográfica: 15\n",
            "Ingresa el número de minutos de la llamada: 4\n",
            "Costo total de la llamada:  8.8\n"
          ]
        }
      ]
    },
    {
      "cell_type": "code",
      "metadata": {
        "colab": {
          "base_uri": "https://localhost:8080/"
        },
        "id": "OnFTYs84a9dV",
        "outputId": "ffb95771-98e0-40b1-ec1d-d0c77a31065b"
      },
      "source": [
        "#PROBLEMA 2.12\n",
        "SUE = float(input(\"Ingrese su sueldo: \"))\n",
        "CATE = int(input(\"escriba su categoría: \"))\n",
        "HE = int(input(\"Ingrese el número de horas extras realizadas: \"))\n",
        "PHE = 0\n",
        "NSUE = 0\n",
        "if CATE == 1:\n",
        "    PHE = 30\n",
        "elif CATE ==2:\n",
        "    PHE = 38\n",
        "elif CATE ==3:\n",
        "    PHE = 50\n",
        "elif CATE ==4:\n",
        "    PHE = 70\n",
        "else:\n",
        "    PHE = 0\n",
        "\n",
        "if HE > 30:\n",
        "    NSUE = SUE+30*PHE\n",
        "else:\n",
        "    NSUE = SUE+HE*PHE\n",
        "print(NSUE)"
      ],
      "execution_count": null,
      "outputs": [
        {
          "output_type": "stream",
          "name": "stdout",
          "text": [
            "Ingrese su sueldo: 13200\n",
            "escriba su categoría: 8\n",
            "Ingrese el número de horas extras realizadas: 22\n",
            "13200.0\n"
          ]
        }
      ]
    },
    {
      "cell_type": "code",
      "metadata": {
        "colab": {
          "base_uri": "https://localhost:8080/"
        },
        "id": "3j902ztydl8H",
        "outputId": "d8e4e5b9-6ff4-43ea-fa30-664150ce8615"
      },
      "source": [
        "#PROBLEMA 2.13\n",
        "MAT = int(input(\"Ingrese su matrícula: \"))\n",
        "CARR = str(input(\"Ingrese su carrera: \"))\n",
        "SEM = int(input(\"Ingrese su semestre: \"))\n",
        "PROM = float(input(\"ingrese su promedio: \"))\n",
        "\n",
        "if CARR == \"Economia\":\n",
        "    if SEM >= 6 and PROM >= 8.8:\n",
        "        print(f\"{MAT}, {CARR}, Aceptado\")\n",
        "    else:\n",
        "        print(\"FIN DEL PROGRAMA\")\n",
        "elif CARR == \"Computación\":\n",
        "    if SEM > 6 and PROM > 8.5:\n",
        "        print(f\"{MAT}, {CARR}, Aceptado\")\n",
        "    else:\n",
        "        print(\"FIN DEL PROGRAMA\")\n",
        "elif CARR == \"Contabilidad\" or CARR == \"Administración\":\n",
        "    if SEM > 5 and PROM > 8.5:\n",
        "        print(f\"{MAT}, {CARR}, Aceptado\")\n",
        "    else:\n",
        "        print(\"FIN DEL PROGRAMA\")\n"
      ],
      "execution_count": null,
      "outputs": [
        {
          "output_type": "stream",
          "name": "stdout",
          "text": [
            "Ingrese su matrícula: 25000\n",
            "Ingrese su carrera: Economia\n",
            "Ingrese su semestre: 6\n",
            "ingrese su promedio: 8.5\n",
            "FIN DEL PROGRAMA\n"
          ]
        }
      ]
    }
  ]
}