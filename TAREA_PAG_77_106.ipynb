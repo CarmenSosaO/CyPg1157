{
  "nbformat": 4,
  "nbformat_minor": 0,
  "metadata": {
    "colab": {
      "name": "TAREA PAG 77-106",
      "provenance": [],
      "authorship_tag": "ABX9TyMQ6vZWi56mUeYmU1M0g2OS",
      "include_colab_link": true
    },
    "kernelspec": {
      "name": "python3",
      "display_name": "Python 3"
    },
    "language_info": {
      "name": "python"
    }
  },
  "cells": [
    {
      "cell_type": "markdown",
      "metadata": {
        "id": "view-in-github",
        "colab_type": "text"
      },
      "source": [
        "<a href=\"https://colab.research.google.com/github/CarmenSosaO/CyPg1157/blob/main/TAREA_PAG_77_106.ipynb\" target=\"_parent\"><img src=\"https://colab.research.google.com/assets/colab-badge.svg\" alt=\"Open In Colab\"/></a>"
      ]
    },
    {
      "cell_type": "code",
      "metadata": {
        "id": "NtBxX3YeBm7d",
        "colab": {
          "base_uri": "https://localhost:8080/"
        },
        "outputId": "acded289-0d0c-4fa5-9af7-c58629a3576e"
      },
      "source": [
        "#PROBLEMA 2.1\n",
        "T = 0\n",
        "N = int(input(\"Ingresa el número de sonidos emitidos por un grillo en un minuto:  \"))\n",
        "if N > 0:\n",
        "    T= N/4 +40\n",
        "    print(\"La temperatura es: \", T)\n",
        "else:\n",
        "    print(\"fin\")\n",
        "\n"
      ],
      "execution_count": 7,
      "outputs": [
        {
          "output_type": "stream",
          "name": "stdout",
          "text": [
            "Ingresa el número de sonidos emitidos por un grillo en un minuto:  50\n",
            "La temperatura es:  52.5\n"
          ]
        }
      ]
    },
    {
      "cell_type": "code",
      "metadata": {
        "colab": {
          "base_uri": "https://localhost:8080/"
        },
        "id": "2NnaWzwDBiTG",
        "outputId": "de1d78af-f6ee-4d79-8a38-c8c556dbe424"
      },
      "source": [
        "#PROBLEMA 2.2\n",
        "P = int(input(\"Ingresa aun número entero: \"))\n",
        "Q = int(input(\"Ingresa otro número entero: \"))\n",
        "EXP = P**3+Q**4-2*P**2\n",
        "if EXP < 680:\n",
        "    print(P, Q)\n",
        "else:\n",
        "    print(\"FIN\")\n"
      ],
      "execution_count": 11,
      "outputs": [
        {
          "output_type": "stream",
          "name": "stdout",
          "text": [
            "Ingresa aun número entero7\n",
            "Ingresa otro número entero5\n",
            "FIN\n"
          ]
        }
      ]
    },
    {
      "cell_type": "code",
      "metadata": {
        "colab": {
          "base_uri": "https://localhost:8080/"
        },
        "id": "rhwTWJRtD-SE",
        "outputId": "41728c04-cedb-4d21-a019-6b13f2936fb4"
      },
      "source": [
        "#PROBLEMA 2.3\n",
        "A = float(input(\"Ingresa un número diferente de cero: \"))\n",
        "B = float(input(\"Ingresa otro número: \"))\n",
        "C = float(input(\"Ingresa otro número: \"))\n",
        "DIS = 0\n",
        "X1 = 0\n",
        "X2 = 0\n",
        "if A !=0:\n",
        "    DIS = B**2-4*A*C \n",
        "    if DIS >= 0:\n",
        "        print(DIS)\n",
        "        X1 = ((-B)+(DIS**0.5))/(2*A)\n",
        "        X2 = ((-B)-(DIS**0.5))/(2*A)\n",
        "        print(\"RAICES REALES: \", X1, X2)\n",
        "    else:\n",
        "        print (\"FIN\")\n",
        "else:\n",
        "    print(\"ingresa un número diferente de cero\")"
      ],
      "execution_count": 43,
      "outputs": [
        {
          "output_type": "stream",
          "name": "stdout",
          "text": [
            "Ingresa un número diferente de cero: -7.5\n",
            "Ingresa otro número: 3\n",
            "Ingresa otro número: 1\n",
            "39.0\n",
            "RAICES REALES:  -0.21633319989322655 0.6163331998932265\n"
          ]
        }
      ]
    },
    {
      "cell_type": "code",
      "metadata": {
        "colab": {
          "base_uri": "https://localhost:8080/"
        },
        "id": "Wwc-yw0Khbgx",
        "outputId": "a5e460c0-93d1-4215-d7ad-35d61eb3dd9f"
      },
      "source": [
        "#PROBLEMA 2.4\n",
        "MAT = int(input(\"ingresa tu matricula: \"))\n",
        "CAL1 = float(input(\"Ingresa tu primera calificación: \"))\n",
        "CAL2 = float(input(\"Ingresa tu segunda calificación: \"))\n",
        "CAL3 = float(input(\"Ingresa tu tercera calificación: \"))\n",
        "CAL4 = float(input(\"Ingresa tu cuarta calificación: \"))\n",
        "CAL5 = float(input(\"Ingresa tu quinta calificación: \"))\n",
        "PRO = ((CAL1+CAL2+CAL3+CAL4+CAL5)/5)\n",
        "if PRO>=6:\n",
        "    print(f\"{MAT}, {PRO}, APROBADO\")\n",
        "else:\n",
        "    print(f\"{MAT}, {PRO}, NO APROBADO\")\n"
      ],
      "execution_count": 46,
      "outputs": [
        {
          "output_type": "stream",
          "name": "stdout",
          "text": [
            "ingresa tu matricula: 5\n",
            "Ingresa tu primera calificación: 4.8\n",
            "Ingresa tu segunda calificación: 7\n",
            "Ingresa tu tercera calificación: 6.3\n",
            "Ingresa tu cuarta calificación: 5.9\n",
            "Ingresa tu quinta calificación: 5\n",
            "5, 5.8, NO APROBADO\n"
          ]
        }
      ]
    },
    {
      "cell_type": "code",
      "metadata": {
        "colab": {
          "base_uri": "https://localhost:8080/"
        },
        "id": "CScxBVgeppYy",
        "outputId": "37cb7471-69fb-4879-c2c2-9ee95c11a3a7"
      },
      "source": [
        "#PROBLEMA 2.5\n",
        "NUM =int(input(\"Ingresa un número: \"))\n",
        "\n",
        "if NUM > 0:\n",
        "    print(\"POSITIVO\")\n",
        "else:\n",
        "    if NUM==0:\n",
        "        print(\"NULO\")\n",
        "    else:\n",
        "        print(\"NEGATIVO\")\n",
        "print(\"FIN\")"
      ],
      "execution_count": 60,
      "outputs": [
        {
          "output_type": "stream",
          "name": "stdout",
          "text": [
            "Ingresa un número: 5\n",
            "POSITIVO\n",
            "FIN\n"
          ]
        }
      ]
    },
    {
      "cell_type": "code",
      "metadata": {
        "colab": {
          "base_uri": "https://localhost:8080/"
        },
        "id": "HSlZR9wcqxfl",
        "outputId": "ce981716-5512-4a19-8a8f-b70e36a78b28"
      },
      "source": [
        "#PROBLEMA 2.6\n",
        "A =int(input(\"Ingresa un número: \"))\n",
        "\n",
        "if A == 0:\n",
        "    print(\"NULO\")\n",
        "else:\n",
        "    if -1**A>0:\n",
        "        print(\"PAR\")\n",
        "    else:\n",
        "        print(\"IMPAR\")\n",
        "print(\"FIN\")"
      ],
      "execution_count": 63,
      "outputs": [
        {
          "output_type": "stream",
          "name": "stdout",
          "text": [
            "Ingresa un número: 7\n",
            "IMPAR\n",
            "FIN\n"
          ]
        }
      ]
    },
    {
      "cell_type": "code",
      "metadata": {
        "colab": {
          "base_uri": "https://localhost:8080/"
        },
        "id": "uRtJwiMAtuHQ",
        "outputId": "c02853ed-6e80-4414-e048-6a3dede94430"
      },
      "source": [
        "#PROBLEMA 2.7\n",
        "A = int(input(\"Introduzca un número entero: \"))\n",
        "B = int(input(\"Introduzca otro número entero: \"))\n",
        "C = int(input(\"Introduzca otro número entero: \"))\n",
        "\n",
        "if A==B or B==A or A == C or B == C:\n",
        "    print(\"Algunos números son iguales, escribir números distintos\")\n",
        "else:\n",
        "    if A<B:\n",
        "        if B<C:\n",
        "            print(\"Los números están en orden creciente\")\n",
        "        else:\n",
        "            print(\"Los números no están en orden creciente\")\n",
        "    else: \n",
        "        print(\"Los números no están en orden creciente\")\n",
        "    print(\"FIN\")"
      ],
      "execution_count": 4,
      "outputs": [
        {
          "output_type": "stream",
          "name": "stdout",
          "text": [
            "Introduzca un número entero: 2\n",
            "Introduzca otro número entero: 3\n",
            "Introduzca otro número entero: 4\n",
            "Los números están en orden creciente\n",
            "FIN\n"
          ]
        }
      ]
    },
    {
      "cell_type": "code",
      "metadata": {
        "id": "IjV6GUvev5KA"
      },
      "source": [
        "#PROBLEMA 2.8\n",
        "COMPRA = float(input(\"Ingrese el monto de su compra: \"))\n",
        "PAGAR = 0\n",
        "if COMPRA < 500:\n",
        "    print(\"PAGAR\", COMPRA)\n",
        "else:\n",
        "    if COMPRA <= 1000;\n"
      ],
      "execution_count": null,
      "outputs": []
    }
  ]
}