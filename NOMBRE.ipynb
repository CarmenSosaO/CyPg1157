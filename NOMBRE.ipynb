{
  "nbformat": 4,
  "nbformat_minor": 0,
  "metadata": {
    "colab": {
      "name": "NOMBRE.ipynb",
      "provenance": [],
      "authorship_tag": "ABX9TyNkeJRtl60GMvKpj4+o/FWo",
      "include_colab_link": true
    },
    "kernelspec": {
      "name": "python3",
      "display_name": "Python 3"
    },
    "language_info": {
      "name": "python"
    }
  },
  "cells": [
    {
      "cell_type": "markdown",
      "metadata": {
        "id": "view-in-github",
        "colab_type": "text"
      },
      "source": [
        "<a href=\"https://colab.research.google.com/github/CarmenSosaO/CyPg1157/blob/main/NOMBRE.ipynb\" target=\"_parent\"><img src=\"https://colab.research.google.com/assets/colab-badge.svg\" alt=\"Open In Colab\"/></a>"
      ]
    },
    {
      "cell_type": "code",
      "metadata": {
        "colab": {
          "base_uri": "https://localhost:8080/"
        },
        "id": "SehBCbzrHc-F",
        "outputId": "fa444b60-1c10-4bfd-8b9f-222a8f3e5465"
      },
      "source": [
        "print ( \"C C C C C        A        R R R R    M M     M M  E E E E E  N N      N\\nC               A A       R      R   M  M   M  M  E          N  N     N\\nC              A   A      R     R    M   M M   M  E          N   N    N\\nC             A  A  A     R R R      M    M    M  E E E      N    N   N\\nC            A       A    R     R    M         M  E          N     N  N \\nC C C C C   A         A   R      R   M         M  E E E E E  N      N N\")"
      ],
      "execution_count": 12,
      "outputs": [
        {
          "output_type": "stream",
          "name": "stdout",
          "text": [
            "C C C C C        A        R R R R    M M     M M  E E E E E  N N      N\n",
            "C               A A       R      R   M  M   M  M  E          N  N     N\n",
            "C              A   A      R     R    M   M M   M  E          N   N    N\n",
            "C             A  A  A     R R R      M    M    M  E E E      N    N   N\n",
            "C            A       A    R     R    M         M  E          N     N  N \n",
            "C C C C C   A         A   R      R   M         M  E E E E E  N      N N\n"
          ]
        }
      ]
    },
    {
      "cell_type": "markdown",
      "metadata": {
        "id": "QvmYlwzyI5n0"
      },
      "source": [
        "C C C C C        A        R R R R    M M     M M  E E E E E  N N      N\n",
        "C               A A       R      R   M  M   M  M  E          N  N     N\n",
        "C              A   A      R     R    M   M M   M  E          N   N    N\n",
        "C             A  A  A     R R R      M    M    M  E E E      N    N   N\n",
        "C            A       A    R     R    M         M  E          N     N  N\n",
        "C C C C C   A         A   R      R   M         M  E E E E E  N      N N"
      ]
    }
  ]
}